{
 "cells": [
  {
   "cell_type": "code",
   "execution_count": 1,
   "id": "5453311e",
   "metadata": {},
   "outputs": [
    {
     "name": "stdout",
     "output_type": "stream",
     "text": [
      "all ok\n"
     ]
    }
   ],
   "source": [
    "print(\"all ok\")"
   ]
  },
  {
   "cell_type": "code",
   "execution_count": 2,
   "id": "e0818a54",
   "metadata": {},
   "outputs": [
    {
     "name": "stdout",
     "output_type": "stream",
     "text": [
      "Project root added to path: c:\\MY_Folder\\LLMOPS_GIT_Projects\\LIVE_LLMOPS\\automated-research-report-generation\n"
     ]
    }
   ],
   "source": [
    "import sys, os\n",
    "\n",
    "# Get project root — one level up from 'research_and_analyst'\n",
    "project_root = os.path.abspath(os.path.join(os.getcwd(), \"../..\"))\n",
    "sys.path.append(project_root)\n",
    "\n",
    "print(\"Project root added to path:\", project_root)"
   ]
  },
  {
   "cell_type": "code",
   "execution_count": 3,
   "id": "7efe453a",
   "metadata": {},
   "outputs": [],
   "source": [
    "from research_and_analyst.utils.model_loader import ModelLoader"
   ]
  },
  {
   "cell_type": "code",
   "execution_count": 4,
   "id": "2e55ff63",
   "metadata": {},
   "outputs": [
    {
     "name": "stderr",
     "output_type": "stream",
     "text": [
      "{\"timestamp\": \"2025-11-01T08:05:14.000116Z\", \"level\": \"info\", \"event\": \"OPENAI_API_KEY loaded from environment\"}\n",
      "{\"timestamp\": \"2025-11-01T08:05:14.001738Z\", \"level\": \"info\", \"event\": \"GOOGLE_API_KEY loaded from environment\"}\n",
      "{\"timestamp\": \"2025-11-01T08:05:14.003428Z\", \"level\": \"info\", \"event\": \"GROQ_API_KEY loaded from environment\"}\n",
      "{\"timestamp\": \"2025-11-01T08:05:14.005104Z\", \"level\": \"warning\", \"event\": \"ASTRA_DB_API_ENDPOINT is missing from environment\"}\n",
      "{\"timestamp\": \"2025-11-01T08:05:14.006492Z\", \"level\": \"warning\", \"event\": \"ASTRA_DB_APPLICATION_TOKEN is missing from environment\"}\n",
      "{\"timestamp\": \"2025-11-01T08:05:14.018737Z\", \"level\": \"info\", \"event\": \"ASTRA_DB_KEYSPACE loaded from environment\"}\n",
      "{\"config_keys\": [\"astra_db\", \"embedding_model\", \"retriever\", \"llm\"], \"timestamp\": \"2025-11-01T08:05:14.021655Z\", \"level\": \"info\", \"event\": \"YAML config loaded\"}\n"
     ]
    }
   ],
   "source": [
    "model_loader = ModelLoader()"
   ]
  },
  {
   "cell_type": "code",
   "execution_count": 5,
   "id": "4b3e9305",
   "metadata": {},
   "outputs": [
    {
     "name": "stderr",
     "output_type": "stream",
     "text": [
      "{\"provider\": \"openai\", \"model\": \"gpt-4o\", \"timestamp\": \"2025-11-01T08:05:14.028935Z\", \"level\": \"info\", \"event\": \"Loading LLM\"}\n"
     ]
    }
   ],
   "source": [
    "llm = model_loader.load_llm()"
   ]
  },
  {
   "cell_type": "code",
   "execution_count": 6,
   "id": "5d585280",
   "metadata": {},
   "outputs": [
    {
     "name": "stderr",
     "output_type": "stream",
     "text": [
      "HTTP Request: POST https://api.openai.com/v1/chat/completions \"HTTP/1.1 200 OK\"\n"
     ]
    },
    {
     "data": {
      "text/plain": [
       "'Hello! How can I assist you today?'"
      ]
     },
     "execution_count": 6,
     "metadata": {},
     "output_type": "execute_result"
    }
   ],
   "source": [
    "llm.invoke(\"hi\").content"
   ]
  },
  {
   "cell_type": "code",
   "execution_count": 7,
   "id": "91769b9f",
   "metadata": {},
   "outputs": [],
   "source": [
    "from typing import List\n",
    "from typing_extensions import TypedDict\n",
    "from pydantic import BaseModel, Field"
   ]
  },
  {
   "cell_type": "code",
   "execution_count": 8,
   "id": "d9a9b291",
   "metadata": {},
   "outputs": [],
   "source": [
    "from langgraph.graph import StateGraph, START, END\n",
    "from langchain_core.messages import AIMessage,HumanMessage , SystemMessage\n",
    "from langgraph.checkpoint.memory import MemorySaver"
   ]
  },
  {
   "cell_type": "markdown",
   "id": "e3cd30ec",
   "metadata": {},
   "source": [
    "#health\n",
    "\n",
    "Analyst(\n",
    "        name=\"Dr. Neha Patel\",\n",
    "        role=\"Medical Data Scientist\",\n",
    "        affiliation=\"Stanford Medicine\",\n",
    "        description=\"Focuses on predictive models for patient outcomes.\"\n",
    "        ),\n",
    "\n",
    "Analyst(\n",
    "    name=\"Dr. Arun Verma\",\n",
    "    role=\"Ethics Researcher\",\n",
    "    affiliation=\"WHO\",\n",
    "    description=\"Explores ethical implications of AI in diagnostics.\"\n",
    "),\n",
    "Analyst(\n",
    "    name=\"Ms. Priya Sharma\",\n",
    "    role=\"Policy Analyst\",\n",
    "    affiliation=\"Ministry of Health\",\n",
    "    description=\"Investigates AI policy and compliance frameworks.\"\n",
    ")"
   ]
  },
  {
   "cell_type": "code",
   "execution_count": 9,
   "id": "0b0d1dd2",
   "metadata": {},
   "outputs": [],
   "source": [
    "class Analyst(BaseModel):\n",
    "    name: str = Field(description=\"Name of the analyst.\")\n",
    "    role: str = Field(description=\"Role of the analyst in the context of the topic.\")\n",
    "    affiliation: str = Field(description=\"Primary affiliation of the analyst.\")\n",
    "    description: str = Field(description=\"Description of the analyst focus, concerns, and motives.\")\n",
    "    \n",
    "    @property\n",
    "    def persona(self) -> str:\n",
    "        return f\"Name: {self.name}\\nRole: {self.role}\\nAffiliation: {self.affiliation}\\nDescription: {self.description}\\n\"\n",
    "    "
   ]
  },
  {
   "cell_type": "code",
   "execution_count": 10,
   "id": "278c7ae4",
   "metadata": {},
   "outputs": [
    {
     "data": {
      "text/plain": [
       "Analyst(name='sunny savita', role='genai eng', affiliation='AI Research LAB', description='I am genai developer as well as mentor')"
      ]
     },
     "execution_count": 10,
     "metadata": {},
     "output_type": "execute_result"
    }
   ],
   "source": [
    "Analyst(\n",
    "    name=\"sunny savita\",\n",
    "    role=\"genai eng\",\n",
    "    affiliation=\"AI Research LAB\",\n",
    "    description=\"I am genai developer as well as mentor\"\n",
    "    )"
   ]
  },
  {
   "cell_type": "code",
   "execution_count": 11,
   "id": "36ad0f27",
   "metadata": {},
   "outputs": [],
   "source": [
    "analyst = Analyst(\n",
    "    name=\"sunny savita\",\n",
    "    role=\"genai eng\",\n",
    "    affiliation=\"AI Research LAB\",\n",
    "    description=\"I am genai developer as well as mentor\"\n",
    "    )"
   ]
  },
  {
   "cell_type": "code",
   "execution_count": 12,
   "id": "8e9ba7b7",
   "metadata": {},
   "outputs": [
    {
     "data": {
      "text/plain": [
       "'sunny savita'"
      ]
     },
     "execution_count": 12,
     "metadata": {},
     "output_type": "execute_result"
    }
   ],
   "source": [
    "analyst.name"
   ]
  },
  {
   "cell_type": "code",
   "execution_count": 13,
   "id": "a147e7a8",
   "metadata": {},
   "outputs": [
    {
     "data": {
      "text/plain": [
       "'genai eng'"
      ]
     },
     "execution_count": 13,
     "metadata": {},
     "output_type": "execute_result"
    }
   ],
   "source": [
    "analyst.role"
   ]
  },
  {
   "cell_type": "code",
   "execution_count": 14,
   "id": "449cd50c",
   "metadata": {},
   "outputs": [
    {
     "data": {
      "text/plain": [
       "'AI Research LAB'"
      ]
     },
     "execution_count": 14,
     "metadata": {},
     "output_type": "execute_result"
    }
   ],
   "source": [
    "analyst.affiliation"
   ]
  },
  {
   "cell_type": "code",
   "execution_count": 15,
   "id": "05f5b7e1",
   "metadata": {},
   "outputs": [
    {
     "name": "stdout",
     "output_type": "stream",
     "text": [
      "Name: sunny savita\n",
      "Role: genai eng\n",
      "Affiliation: AI Research LAB\n",
      "Description: I am genai developer as well as mentor\n",
      "\n"
     ]
    }
   ],
   "source": [
    "print(analyst.persona)"
   ]
  },
  {
   "cell_type": "code",
   "execution_count": 16,
   "id": "208c2dbc",
   "metadata": {},
   "outputs": [],
   "source": [
    "class Perspectives(BaseModel):\n",
    "       analysts: List[Analyst] = Field(description=\"Comprehensive list of analysts with their roles and affiliations.\")"
   ]
  },
  {
   "cell_type": "code",
   "execution_count": 17,
   "id": "a5dd3992",
   "metadata": {},
   "outputs": [],
   "source": [
    "class GenerateAnalystsState(TypedDict):\n",
    "    topic: str #research topic\n",
    "    max_analysts: int # number of analyst\n",
    "    human_analyst_feedback: str # Human feedback\n",
    "    analysts: List[Analyst] # Analyst asking questions\n",
    "    "
   ]
  },
  {
   "cell_type": "code",
   "execution_count": 18,
   "id": "b9ea018f",
   "metadata": {},
   "outputs": [
    {
     "data": {
      "text/plain": [
       "{'topic': 'finance',\n",
       " 'max_analysts': 5,\n",
       " 'human_analyst_feedback': 'give the real info'}"
      ]
     },
     "execution_count": 18,
     "metadata": {},
     "output_type": "execute_result"
    }
   ],
   "source": [
    "GenerateAnalystsState(\n",
    "    topic = \"finance\",\n",
    "    max_analysts= 5,\n",
    "    human_analyst_feedback= \"give the real info\",  \n",
    ")"
   ]
  },
  {
   "cell_type": "code",
   "execution_count": 19,
   "id": "52b4a3e0",
   "metadata": {},
   "outputs": [
    {
     "data": {
      "text/plain": [
       "(Analyst(name='Dr. Neha Patel', role='Medical Data Scientist', affiliation='Stanford Medicine', description='Focuses on predictive models for patient outcomes.'),)"
      ]
     },
     "execution_count": 19,
     "metadata": {},
     "output_type": "execute_result"
    }
   ],
   "source": [
    "Analyst(\n",
    "        name=\"Dr. Neha Patel\",\n",
    "        role=\"Medical Data Scientist\",\n",
    "        affiliation=\"Stanford Medicine\",\n",
    "        description=\"Focuses on predictive models for patient outcomes.\"\n",
    "    ),"
   ]
  },
  {
   "cell_type": "code",
   "execution_count": 20,
   "id": "70ffa4f2",
   "metadata": {},
   "outputs": [],
   "source": [
    "analyst_instructions=\"\"\"You are tasked with creating a set of AI analyst personas. Follow these instructions carefully:\n",
    "\n",
    "1. First, review the research topic:\n",
    "{topic}\n",
    "        \n",
    "2. Examine any editorial feedback that has been optionally provided to guide creation of the analysts: \n",
    "        \n",
    "{human_analyst_feedback}\n",
    "    \n",
    "3. Determine the most interesting themes based upon documents and / or feedback above.\n",
    "                    \n",
    "4. Pick the top {max_analysts} themes.\n",
    "\n",
    "5. Assign one analyst to each theme.\"\"\""
   ]
  },
  {
   "cell_type": "code",
   "execution_count": 21,
   "id": "ae9b3672",
   "metadata": {},
   "outputs": [
    {
     "name": "stdout",
     "output_type": "stream",
     "text": [
      "['You are tasked with creating a set of AI analyst personas. Follow these instructions carefully:\\n\\n1. First, review the research topic:\\neducation\\n\\n2. Examine any editorial feedback that has been optionally provided to guide creation of the analysts: \\n\\nplease exaplain only on AI\\n\\n3. Determine the most interesting themes based upon documents and / or feedback above.\\n\\n4. Pick the top 4 themes.\\n\\n5. Assign one analyst to each theme.', 'Generate the set of analysts.']\n"
     ]
    }
   ],
   "source": [
    "print([analyst_instructions.format(\n",
    "        topic=\"education\",\n",
    "        max_analysts=4,\n",
    "        human_analyst_feedback=\"please exaplain only on AI\"\n",
    "        \n",
    "        )] + [\"Generate the set of analysts.\"])"
   ]
  },
  {
   "cell_type": "markdown",
   "id": "c81a176d",
   "metadata": {},
   "source": [
    "['You are tasked with creating a set of AI analyst personas. Follow these instructions carefully:\\n\\n1. First, review the research topic:\\neducation\\n\\n2. Examine any editorial feedback that has been optionally provided to guide creation of the analysts: \\n\\nplease exaplain only on AI\\n\\n3. Determine the most interesting themes based upon documents and / or feedback above.\\n\\n4. Pick the top 4 themes.\\n\\n5. Assign one analyst to each theme.', 'Generate the set of analysts.']"
   ]
  },
  {
   "cell_type": "code",
   "execution_count": 22,
   "id": "39e7d841",
   "metadata": {},
   "outputs": [],
   "source": [
    "def create_analyst(state:GenerateAnalystsState):\n",
    "    \"\"\"\n",
    "    it is creating my analyst\n",
    "    \n",
    "    \"\"\"\n",
    "    topic = state[\"topic\"]\n",
    "    max_analysts = state[\"max_analysts\"]\n",
    "    human_analyst_feedback = state.get(\"human_analyst_feedback\",\"\")\n",
    "    \n",
    "    structured_llm = llm.with_structured_output(Perspectives)\n",
    "    \n",
    "    system_messages = analyst_instructions.format(\n",
    "        topic=topic,\n",
    "        max_analysts=max_analysts,\n",
    "        human_analyst_feedback=human_analyst_feedback\n",
    "        \n",
    "        )\n",
    "    analysts = structured_llm.invoke([SystemMessage(content=system_messages)]+ [HumanMessage(content=\"Generate the set of analysts.\")])\n",
    "    \n",
    "    # Write the list of analysis to state\n",
    "    return {\"analysts\": analysts.analysts}\n",
    "    "
   ]
  },
  {
   "cell_type": "code",
   "execution_count": 24,
   "id": "44d0a2dc",
   "metadata": {},
   "outputs": [
    {
     "name": "stderr",
     "output_type": "stream",
     "text": [
      "HTTP Request: POST https://api.openai.com/v1/chat/completions \"HTTP/1.1 200 OK\"\n"
     ]
    },
    {
     "data": {
      "text/plain": [
       "{'analysts': [Analyst(name='Dr. Emily Chen', role='Public Health Researcher', affiliation='World Health Organization', description='Dr. Emily Chen focuses on global health trends and the impact of public health policies on population health outcomes. Her primary concern is understanding how different health interventions can be optimized to improve health equity and access to care across diverse populations. She is motivated by the need to address health disparities and ensure that health systems are resilient and responsive to emerging health challenges.'),\n",
       "  Analyst(name='Dr. Raj Patel', role='Healthcare Technology Analyst', affiliation='Harvard T.H. Chan School of Public Health', description='Dr. Raj Patel specializes in the intersection of healthcare and technology, particularly how digital health innovations can transform patient care and health system efficiency. His focus is on evaluating the effectiveness of telemedicine, health apps, and AI-driven diagnostics in improving patient outcomes. He is driven by the potential of technology to make healthcare more accessible and personalized, while also addressing the challenges of data privacy and security.')]}"
      ]
     },
     "execution_count": 24,
     "metadata": {},
     "output_type": "execute_result"
    }
   ],
   "source": [
    "create_analyst(\n",
    "    {'topic': 'health',\n",
    "    'max_analysts': 2,\n",
    "    'human_analyst_feedback': 'give the real info'}\n",
    "    )"
   ]
  },
  {
   "cell_type": "code",
   "execution_count": 25,
   "id": "acbd701c",
   "metadata": {},
   "outputs": [],
   "source": [
    "def human_feedback(state):\n",
    "    \"\"\" No-op node that should be interrupted on \"\"\"\n",
    "    pass"
   ]
  },
  {
   "cell_type": "code",
   "execution_count": 26,
   "id": "2abcfccf",
   "metadata": {},
   "outputs": [],
   "source": [
    "def should_continue(state):\n",
    "    feedback = (state.get(\"human_analyst_feedback\") or \"\").strip().lower()\n",
    "    if feedback and feedback not in [\"\", \"none\", \"skip\", \"done\", \"continue\"]:\n",
    "        return \"create_analyst\"\n",
    "    return END\n"
   ]
  },
  {
   "cell_type": "code",
   "execution_count": 27,
   "id": "a4aef85e",
   "metadata": {},
   "outputs": [],
   "source": [
    "# def should_continue(state):\n",
    "#     \"\"\" Return the next node to execute \"\"\"\n",
    "#     human_analyst_feedback = state.get(\"human_analyst_feedback\",None)\n",
    "#     if human_analyst_feedback:\n",
    "#         return \"create_analyst\""
   ]
  },
  {
   "cell_type": "code",
   "execution_count": 28,
   "id": "1a7596bc",
   "metadata": {},
   "outputs": [],
   "source": [
    "from IPython.display import Image, display"
   ]
  },
  {
   "cell_type": "markdown",
   "id": "0e942924",
   "metadata": {},
   "source": [
    "## First Workflow"
   ]
  },
  {
   "cell_type": "code",
   "execution_count": 29,
   "id": "69a8b3d5",
   "metadata": {},
   "outputs": [],
   "source": [
    "builder = StateGraph(GenerateAnalystsState)"
   ]
  },
  {
   "cell_type": "code",
   "execution_count": 30,
   "id": "914c955f",
   "metadata": {},
   "outputs": [
    {
     "data": {
      "text/plain": [
       "<langgraph.graph.state.StateGraph at 0x1987a9ce3c0>"
      ]
     },
     "execution_count": 30,
     "metadata": {},
     "output_type": "execute_result"
    }
   ],
   "source": [
    "builder.add_node(\"create_analyst\",create_analyst)\n",
    "builder.add_node(\"human_feedback\", human_feedback)"
   ]
  },
  {
   "cell_type": "code",
   "execution_count": 31,
   "id": "cd30a26b",
   "metadata": {},
   "outputs": [
    {
     "data": {
      "text/plain": [
       "<langgraph.graph.state.StateGraph at 0x1987a9ce3c0>"
      ]
     },
     "execution_count": 31,
     "metadata": {},
     "output_type": "execute_result"
    }
   ],
   "source": [
    "builder.add_edge(START,\"create_analyst\")\n",
    "builder.add_edge(\"create_analyst\", \"human_feedback\")\n",
    "builder.add_conditional_edges(\"human_feedback\",\n",
    "                        should_continue,\n",
    "                        [\"create_analyst\",\n",
    "                        END])"
   ]
  },
  {
   "cell_type": "code",
   "execution_count": 32,
   "id": "a60c6891",
   "metadata": {},
   "outputs": [],
   "source": [
    "memory = MemorySaver()"
   ]
  },
  {
   "cell_type": "code",
   "execution_count": 33,
   "id": "73530c94",
   "metadata": {},
   "outputs": [],
   "source": [
    "graph = builder.compile(interrupt_before= [\"human_feedback\"],checkpointer= memory)"
   ]
  },
  {
   "cell_type": "code",
   "execution_count": 34,
   "id": "37a56840",
   "metadata": {},
   "outputs": [
    {
     "data": {
      "image/png": "[encoded data removed]",
      "text/plain": [
       "<IPython.core.display.Image object>"
      ]
     },
     "metadata": {},
     "output_type": "display_data"
    }
   ],
   "source": [
    "display(Image(graph.get_graph(xray=1).draw_mermaid_png()))"
   ]
  },
  {
   "cell_type": "code",
   "execution_count": 35,
   "id": "d6bd1fcc",
   "metadata": {},
   "outputs": [],
   "source": [
    "topic = \"the benefits of adopting Langgraph as an agent framework\""
   ]
  },
  {
   "cell_type": "code",
   "execution_count": 36,
   "id": "ca5b3375",
   "metadata": {},
   "outputs": [],
   "source": [
    "max_analysts = 4"
   ]
  },
  {
   "cell_type": "code",
   "execution_count": 37,
   "id": "0e3850f4",
   "metadata": {},
   "outputs": [],
   "source": [
    "thread =  {\"configurable\":{\"thread_id\":1}}"
   ]
  },
  {
   "cell_type": "code",
   "execution_count": 38,
   "id": "fe662e06",
   "metadata": {},
   "outputs": [
    {
     "name": "stderr",
     "output_type": "stream",
     "text": [
      "HTTP Request: POST https://api.openai.com/v1/chat/completions \"HTTP/1.1 200 OK\"\n"
     ]
    },
    {
     "name": "stdout",
     "output_type": "stream",
     "text": [
      "Name: Dr. Emily Chen\n",
      "Affiliation: Institute of Advanced AI Systems\n",
      "Role: AI Framework Specialist\n",
      "Description: Dr. Chen focuses on the technical advantages of adopting Langgraph as an agent framework. Her primary concern is how Langgraph can enhance the efficiency and scalability of AI systems. She is motivated by the potential for Langgraph to streamline complex AI processes and improve integration with existing technologies.\n",
      "--------------------------------------------------\n",
      "Name: Michael O'Neill\n",
      "Affiliation: Tech Innovators Inc.\n",
      "Role: Enterprise Solutions Consultant\n",
      "Description: Michael is interested in the business implications of adopting Langgraph. He examines how Langgraph can reduce costs and increase productivity for enterprises. His focus is on the return on investment and the strategic benefits that Langgraph can offer to businesses looking to leverage AI technologies.\n",
      "--------------------------------------------------\n",
      "Name: Dr. Aisha Patel\n",
      "Affiliation: Global AI Ethics Consortium\n",
      "Role: Ethics and Compliance Analyst\n",
      "Description: Dr. Patel is concerned with the ethical considerations and compliance issues related to using Langgraph. She explores how Langgraph can be implemented responsibly, ensuring that it adheres to ethical standards and regulatory requirements. Her motivation is to promote the development of AI systems that are both innovative and ethically sound.\n",
      "--------------------------------------------------\n",
      "Name: Carlos Ramirez\n",
      "Affiliation: Human-Centric AI Lab\n",
      "Role: User Experience Researcher\n",
      "Description: Carlos focuses on the user experience aspects of Langgraph. He investigates how Langgraph can improve the interaction between humans and AI agents, making them more intuitive and user-friendly. His concern is ensuring that the adoption of Langgraph leads to positive user experiences and increased accessibility for non-technical users.\n",
      "--------------------------------------------------\n"
     ]
    }
   ],
   "source": [
    "for event in graph.stream({\"topic\":topic,\n",
    "              \"max_analysts\":max_analysts},\n",
    "             thread,\n",
    "             stream_mode= \"values\"):\n",
    "    analysts = event.get('analysts', '')\n",
    "    \n",
    "    if analysts:\n",
    "        for analyst in analysts:\n",
    "            print(f\"Name: {analyst.name}\")\n",
    "            print(f\"Affiliation: {analyst.affiliation}\")\n",
    "            print(f\"Role: {analyst.role}\")\n",
    "            print(f\"Description: {analyst.description}\")\n",
    "            print(\"-\" * 50)  \n",
    "            \n",
    "        "
   ]
  },
  {
   "cell_type": "code",
   "execution_count": 39,
   "id": "c7b08aff",
   "metadata": {},
   "outputs": [],
   "source": [
    "state = graph.get_state(thread)"
   ]
  },
  {
   "cell_type": "code",
   "execution_count": 40,
   "id": "63c172ec",
   "metadata": {},
   "outputs": [
    {
     "data": {
      "text/plain": [
       "StateSnapshot(values={'topic': 'the benefits of adopting Langgraph as an agent framework', 'max_analysts': 4, 'analysts': [Analyst(name='Dr. Emily Chen', role='AI Framework Specialist', affiliation='Institute of Advanced AI Systems', description='Dr. Chen focuses on the technical advantages of adopting Langgraph as an agent framework. Her primary concern is how Langgraph can enhance the efficiency and scalability of AI systems. She is motivated by the potential for Langgraph to streamline complex AI processes and improve integration with existing technologies.'), Analyst(name=\"Michael O'Neill\", role='Enterprise Solutions Consultant', affiliation='Tech Innovators Inc.', description='Michael is interested in the business implications of adopting Langgraph. He examines how Langgraph can reduce costs and increase productivity for enterprises. His focus is on the return on investment and the strategic benefits that Langgraph can offer to businesses looking to leverage AI technologies.'), Analyst(name='Dr. Aisha Patel', role='Ethics and Compliance Analyst', affiliation='Global AI Ethics Consortium', description='Dr. Patel is concerned with the ethical considerations and compliance issues related to using Langgraph. She explores how Langgraph can be implemented responsibly, ensuring that it adheres to ethical standards and regulatory requirements. Her motivation is to promote the development of AI systems that are both innovative and ethically sound.'), Analyst(name='Carlos Ramirez', role='User Experience Researcher', affiliation='Human-Centric AI Lab', description='Carlos focuses on the user experience aspects of Langgraph. He investigates how Langgraph can improve the interaction between humans and AI agents, making them more intuitive and user-friendly. His concern is ensuring that the adoption of Langgraph leads to positive user experiences and increased accessibility for non-technical users.')]}, next=('human_feedback',), config={'configurable': {'thread_id': '1', 'checkpoint_ns': '', 'checkpoint_id': '1f0b6f99-a4c3-68ff-8001-a43824f4ac0e'}}, metadata={'source': 'loop', 'step': 1, 'parents': {}}, created_at='2025-11-01T08:06:00.028374+00:00', parent_config={'configurable': {'thread_id': '1', 'checkpoint_ns': '', 'checkpoint_id': '1f0b6f99-5aea-6e2d-8000-704d1d4c58b2'}}, tasks=(PregelTask(id='e6b22203-db8d-e4cc-7c89-24fd413361a8', name='human_feedback', path=('__pregel_pull', 'human_feedback'), error=None, interrupts=(), state=None, result=None),), interrupts=())"
      ]
     },
     "execution_count": 40,
     "metadata": {},
     "output_type": "execute_result"
    }
   ],
   "source": [
    "state"
   ]
  },
  {
   "cell_type": "code",
   "execution_count": 41,
   "id": "1d2a5eb1",
   "metadata": {},
   "outputs": [
    {
     "data": {
      "text/plain": [
       "{'topic': 'the benefits of adopting Langgraph as an agent framework',\n",
       " 'max_analysts': 4,\n",
       " 'analysts': [Analyst(name='Dr. Emily Chen', role='AI Framework Specialist', affiliation='Institute of Advanced AI Systems', description='Dr. Chen focuses on the technical advantages of adopting Langgraph as an agent framework. Her primary concern is how Langgraph can enhance the efficiency and scalability of AI systems. She is motivated by the potential for Langgraph to streamline complex AI processes and improve integration with existing technologies.'),\n",
       "  Analyst(name=\"Michael O'Neill\", role='Enterprise Solutions Consultant', affiliation='Tech Innovators Inc.', description='Michael is interested in the business implications of adopting Langgraph. He examines how Langgraph can reduce costs and increase productivity for enterprises. His focus is on the return on investment and the strategic benefits that Langgraph can offer to businesses looking to leverage AI technologies.'),\n",
       "  Analyst(name='Dr. Aisha Patel', role='Ethics and Compliance Analyst', affiliation='Global AI Ethics Consortium', description='Dr. Patel is concerned with the ethical considerations and compliance issues related to using Langgraph. She explores how Langgraph can be implemented responsibly, ensuring that it adheres to ethical standards and regulatory requirements. Her motivation is to promote the development of AI systems that are both innovative and ethically sound.'),\n",
       "  Analyst(name='Carlos Ramirez', role='User Experience Researcher', affiliation='Human-Centric AI Lab', description='Carlos focuses on the user experience aspects of Langgraph. He investigates how Langgraph can improve the interaction between humans and AI agents, making them more intuitive and user-friendly. His concern is ensuring that the adoption of Langgraph leads to positive user experiences and increased accessibility for non-technical users.')]}"
      ]
     },
     "execution_count": 41,
     "metadata": {},
     "output_type": "execute_result"
    }
   ],
   "source": [
    "state.values"
   ]
  },
  {
   "cell_type": "code",
   "execution_count": 42,
   "id": "6e772e08",
   "metadata": {},
   "outputs": [
    {
     "data": {
      "text/plain": [
       "('human_feedback',)"
      ]
     },
     "execution_count": 42,
     "metadata": {},
     "output_type": "execute_result"
    }
   ],
   "source": [
    "state.next"
   ]
  },
  {
   "cell_type": "code",
   "execution_count": 43,
   "id": "140be2aa",
   "metadata": {},
   "outputs": [],
   "source": [
    "# memory.storage"
   ]
  },
  {
   "cell_type": "code",
   "execution_count": 44,
   "id": "231450e1",
   "metadata": {},
   "outputs": [
    {
     "data": {
      "text/plain": [
       "dict_items([('1', defaultdict(<class 'dict'>, {'': {'1f0b6f99-5ae8-61e4-bfff-ca420670c92c': (('msgpack', b'\\x86\\xa1v\\x04\\xa2ts\\xd9 2025-11-01T08:05:52.283894+00:00\\xa2id\\xd9$1f0b6f99-5ae8-61e4-bfff-ca420670c92c\\xb0channel_versions\\x81\\xa9__start__\\xd9300000000000000000000000000000001.0.5483180986432773\\xadversions_seen\\x81\\xa9__input__\\x80\\xb0updated_channels\\x91\\xa9__start__'), ('msgpack', b'\\x83\\xa6source\\xa5input\\xa4step\\xff\\xa7parents\\x80'), None), '1f0b6f99-5aea-6e2d-8000-704d1d4c58b2': (('msgpack', b'\\x86\\xa1v\\x04\\xa2ts\\xd9 2025-11-01T08:05:52.285021+00:00\\xa2id\\xd9$1f0b6f99-5aea-6e2d-8000-704d1d4c58b2\\xb0channel_versions\\x84\\xa9__start__\\xd9500000000000000000000000000000002.0.042752553837821394\\xa5topic\\xd9500000000000000000000000000000002.0.042752553837821394\\xacmax_analysts\\xd9500000000000000000000000000000002.0.042752553837821394\\xb8branch:to:create_analyst\\xd9500000000000000000000000000000002.0.042752553837821394\\xadversions_seen\\x82\\xa9__input__\\x80\\xa9__start__\\x81\\xa9__start__\\xd9300000000000000000000000000000001.0.5483180986432773\\xb0updated_channels\\x93\\xb8branch:to:create_analyst\\xacmax_analysts\\xa5topic'), ('msgpack', b'\\x83\\xa6source\\xa4loop\\xa4step\\x00\\xa7parents\\x80'), '1f0b6f99-5ae8-61e4-bfff-ca420670c92c'), '1f0b6f99-a4c3-68ff-8001-a43824f4ac0e': (('msgpack', b'\\x86\\xa1v\\x04\\xa2ts\\xd9 2025-11-01T08:06:00.028374+00:00\\xa2id\\xd9$1f0b6f99-a4c3-68ff-8001-a43824f4ac0e\\xb0channel_versions\\x86\\xa9__start__\\xd9500000000000000000000000000000002.0.042752553837821394\\xa5topic\\xd9500000000000000000000000000000002.0.042752553837821394\\xacmax_analysts\\xd9500000000000000000000000000000002.0.042752553837821394\\xb8branch:to:create_analyst\\xd9300000000000000000000000000000003.0.8185739778688653\\xa8analysts\\xd9300000000000000000000000000000003.0.8185739778688653\\xb8branch:to:human_feedback\\xd9300000000000000000000000000000003.0.8185739778688653\\xadversions_seen\\x83\\xa9__input__\\x80\\xa9__start__\\x81\\xa9__start__\\xd9300000000000000000000000000000001.0.5483180986432773\\xaecreate_analyst\\x81\\xb8branch:to:create_analyst\\xd9500000000000000000000000000000002.0.042752553837821394\\xb0updated_channels\\x92\\xa8analysts\\xb8branch:to:human_feedback'), ('msgpack', b'\\x83\\xa6source\\xa4loop\\xa4step\\x01\\xa7parents\\x80'), '1f0b6f99-5aea-6e2d-8000-704d1d4c58b2')}}))])"
      ]
     },
     "execution_count": 44,
     "metadata": {},
     "output_type": "execute_result"
    }
   ],
   "source": [
    "memory.storage.items()"
   ]
  },
  {
   "cell_type": "code",
   "execution_count": 45,
   "id": "4747e847",
   "metadata": {},
   "outputs": [],
   "source": [
    "# import msgpack\n",
    "\n",
    "# for thread_id, ns_dict in memory.storage.items():\n",
    "#     print(f\"\\n Thread ID: {thread_id}\")\n",
    "    \n",
    "#     # ns_dict = defaultdict(dict, {'': {...}})\n",
    "#     for ns, ckpts in ns_dict.items():\n",
    "#         print(f\"  Namespace: '{ns}'\")\n",
    "        \n",
    "#         # ckpts = dict of {checkpoint_id: (packed_values, packed_metadata, parent_id)}\n",
    "#         for ckpt_id, (packed_values, packed_metadata, parent_id) in ckpts.items():\n",
    "#             print(f\"    Checkpoint ID: {ckpt_id}\")\n",
    "            \n",
    "#             # Decode msgpack binary\n",
    "#             values = msgpack.unpackb(packed_values[1], raw=False)\n",
    "#             meta = msgpack.unpackb(packed_metadata[1], raw=False)\n",
    "            \n",
    "#             print(f\"    Values keys: {list(values.keys())}\")\n",
    "#             print(f\"    Parent ID: {parent_id}\")\n",
    "#             print(f\"    Metadata: {meta}\")\n",
    "#             print(\"-\" * 80)\n"
   ]
  },
  {
   "cell_type": "code",
   "execution_count": 46,
   "id": "2a867143",
   "metadata": {},
   "outputs": [
    {
     "data": {
      "text/plain": [
       "{'configurable': {'thread_id': '1',\n",
       "  'checkpoint_ns': '',\n",
       "  'checkpoint_id': '1f0b6f99-a4c3-68ff-8001-a43824f4ac0e'}}"
      ]
     },
     "execution_count": 46,
     "metadata": {},
     "output_type": "execute_result"
    }
   ],
   "source": [
    "state.config"
   ]
  },
  {
   "cell_type": "code",
   "execution_count": 47,
   "id": "bb7d8558",
   "metadata": {},
   "outputs": [
    {
     "data": {
      "text/plain": [
       "{'configurable': {'thread_id': '1',\n",
       "  'checkpoint_ns': '',\n",
       "  'checkpoint_id': '1f0b6f99-a608-6244-8002-6549cf30e833'}}"
      ]
     },
     "execution_count": 47,
     "metadata": {},
     "output_type": "execute_result"
    }
   ],
   "source": [
    "graph.update_state(thread,\n",
    "                   {\"human_analyst_feedback\":\"add something from the startup perspective and focus on the latest enterprise application\"},as_node=\"human_feedback\"\n",
    "                   )"
   ]
  },
  {
   "cell_type": "code",
   "execution_count": 48,
   "id": "92f6e9dc",
   "metadata": {},
   "outputs": [
    {
     "name": "stdout",
     "output_type": "stream",
     "text": [
      "Name: Dr. Emily Chen\n",
      "Affiliation: Institute of Advanced AI Systems\n",
      "Role: AI Framework Specialist\n",
      "Description: Dr. Chen focuses on the technical advantages of adopting Langgraph as an agent framework. Her primary concern is how Langgraph can enhance the efficiency and scalability of AI systems. She is motivated by the potential for Langgraph to streamline complex AI processes and improve integration with existing technologies.\n",
      "--------------------------------------------------\n",
      "Name: Michael O'Neill\n",
      "Affiliation: Tech Innovators Inc.\n",
      "Role: Enterprise Solutions Consultant\n",
      "Description: Michael is interested in the business implications of adopting Langgraph. He examines how Langgraph can reduce costs and increase productivity for enterprises. His focus is on the return on investment and the strategic benefits that Langgraph can offer to businesses looking to leverage AI technologies.\n",
      "--------------------------------------------------\n",
      "Name: Dr. Aisha Patel\n",
      "Affiliation: Global AI Ethics Consortium\n",
      "Role: Ethics and Compliance Analyst\n",
      "Description: Dr. Patel is concerned with the ethical considerations and compliance issues related to using Langgraph. She explores how Langgraph can be implemented responsibly, ensuring that it adheres to ethical standards and regulatory requirements. Her motivation is to promote the development of AI systems that are both innovative and ethically sound.\n",
      "--------------------------------------------------\n",
      "Name: Carlos Ramirez\n",
      "Affiliation: Human-Centric AI Lab\n",
      "Role: User Experience Researcher\n",
      "Description: Carlos focuses on the user experience aspects of Langgraph. He investigates how Langgraph can improve the interaction between humans and AI agents, making them more intuitive and user-friendly. His concern is ensuring that the adoption of Langgraph leads to positive user experiences and increased accessibility for non-technical users.\n",
      "--------------------------------------------------\n"
     ]
    },
    {
     "name": "stderr",
     "output_type": "stream",
     "text": [
      "HTTP Request: POST https://api.openai.com/v1/chat/completions \"HTTP/1.1 200 OK\"\n"
     ]
    },
    {
     "name": "stdout",
     "output_type": "stream",
     "text": [
      "Name: Sophia Tran\n",
      "Affiliation: Tech Innovators Network\n",
      "Role: Startup Ecosystem Analyst\n",
      "Description: Sophia focuses on the impact of adopting new technologies like Langgraph within startup environments. She is particularly interested in how Langgraph can streamline operations, reduce costs, and enhance scalability for emerging companies. Her analysis often includes case studies of startups that have successfully integrated Langgraph into their workflows.\n",
      "--------------------------------------------------\n",
      "Name: Michael Chen\n",
      "Affiliation: Global Enterprise Solutions\n",
      "Role: Enterprise Application Specialist\n",
      "Description: Michael specializes in the latest enterprise applications and how frameworks like Langgraph can be leveraged to improve business processes. He examines the integration of Langgraph in large-scale operations, focusing on its ability to enhance data processing, improve decision-making, and support complex enterprise systems.\n",
      "--------------------------------------------------\n",
      "Name: Aisha Patel\n",
      "Affiliation: Institute of Artificial Intelligence\n",
      "Role: AI Framework Researcher\n",
      "Description: Aisha's research is centered on the technical benefits of adopting AI frameworks such as Langgraph. She explores the framework's capabilities in terms of flexibility, efficiency, and its potential to support advanced AI models. Her work often includes comparative analyses with other AI frameworks to highlight Langgraph's unique advantages.\n",
      "--------------------------------------------------\n",
      "Name: Liam O'Reilly\n",
      "Affiliation: FutureTech Advisory\n",
      "Role: Technology Adoption Strategist\n",
      "Description: Liam advises organizations on the strategic adoption of new technologies. His focus is on how Langgraph can be integrated into existing systems to drive innovation and competitive advantage. He provides insights into the long-term benefits of adopting Langgraph, including improved agility and the ability to quickly adapt to market changes.\n",
      "--------------------------------------------------\n"
     ]
    }
   ],
   "source": [
    "for event in graph.stream({\"topic\":topic,\n",
    "              \"max_analysts\":max_analysts},\n",
    "             thread,\n",
    "             stream_mode= \"values\"):\n",
    "    analysts = event.get('analysts', '')\n",
    "    \n",
    "    if analysts:\n",
    "        for analyst in analysts:\n",
    "            print(f\"Name: {analyst.name}\")\n",
    "            print(f\"Affiliation: {analyst.affiliation}\")\n",
    "            print(f\"Role: {analyst.role}\")\n",
    "            print(f\"Description: {analyst.description}\")\n",
    "            print(\"-\" * 50)  "
   ]
  },
  {
   "cell_type": "code",
   "execution_count": 49,
   "id": "655163ac",
   "metadata": {},
   "outputs": [],
   "source": [
    "state = graph.get_state(thread)"
   ]
  },
  {
   "cell_type": "code",
   "execution_count": 50,
   "id": "ffc316df",
   "metadata": {},
   "outputs": [
    {
     "data": {
      "text/plain": [
       "StateSnapshot(values={'topic': 'the benefits of adopting Langgraph as an agent framework', 'max_analysts': 4, 'human_analyst_feedback': 'add something from the startup perspective and focus on the latest enterprise application', 'analysts': [Analyst(name='Sophia Tran', role='Startup Ecosystem Analyst', affiliation='Tech Innovators Network', description='Sophia focuses on the impact of adopting new technologies like Langgraph within startup environments. She is particularly interested in how Langgraph can streamline operations, reduce costs, and enhance scalability for emerging companies. Her analysis often includes case studies of startups that have successfully integrated Langgraph into their workflows.'), Analyst(name='Michael Chen', role='Enterprise Application Specialist', affiliation='Global Enterprise Solutions', description='Michael specializes in the latest enterprise applications and how frameworks like Langgraph can be leveraged to improve business processes. He examines the integration of Langgraph in large-scale operations, focusing on its ability to enhance data processing, improve decision-making, and support complex enterprise systems.'), Analyst(name='Aisha Patel', role='AI Framework Researcher', affiliation='Institute of Artificial Intelligence', description=\"Aisha's research is centered on the technical benefits of adopting AI frameworks such as Langgraph. She explores the framework's capabilities in terms of flexibility, efficiency, and its potential to support advanced AI models. Her work often includes comparative analyses with other AI frameworks to highlight Langgraph's unique advantages.\"), Analyst(name=\"Liam O'Reilly\", role='Technology Adoption Strategist', affiliation='FutureTech Advisory', description='Liam advises organizations on the strategic adoption of new technologies. His focus is on how Langgraph can be integrated into existing systems to drive innovation and competitive advantage. He provides insights into the long-term benefits of adopting Langgraph, including improved agility and the ability to quickly adapt to market changes.')]}, next=('human_feedback',), config={'configurable': {'thread_id': '1', 'checkpoint_ns': '', 'checkpoint_id': '1f0b6f9a-050f-6d52-8005-fcd854e39624'}}, metadata={'source': 'loop', 'step': 5, 'parents': {}}, created_at='2025-11-01T08:06:10.125944+00:00', parent_config={'configurable': {'thread_id': '1', 'checkpoint_ns': '', 'checkpoint_id': '1f0b6f99-aa97-69df-8004-7697b86af4b7'}}, tasks=(PregelTask(id='b32160ad-7ab0-d905-2816-0d7d3f833a2f', name='human_feedback', path=('__pregel_pull', 'human_feedback'), error=None, interrupts=(), state=None, result=None),), interrupts=())"
      ]
     },
     "execution_count": 50,
     "metadata": {},
     "output_type": "execute_result"
    }
   ],
   "source": [
    "state"
   ]
  },
  {
   "cell_type": "code",
   "execution_count": 51,
   "id": "055b0545",
   "metadata": {},
   "outputs": [
    {
     "data": {
      "text/plain": [
       "('human_feedback',)"
      ]
     },
     "execution_count": 51,
     "metadata": {},
     "output_type": "execute_result"
    }
   ],
   "source": [
    "state.next"
   ]
  },
  {
   "cell_type": "code",
   "execution_count": 52,
   "id": "f86148ec",
   "metadata": {},
   "outputs": [
    {
     "data": {
      "text/plain": [
       "{'topic': 'the benefits of adopting Langgraph as an agent framework',\n",
       " 'max_analysts': 4,\n",
       " 'human_analyst_feedback': 'add something from the startup perspective and focus on the latest enterprise application',\n",
       " 'analysts': [Analyst(name='Sophia Tran', role='Startup Ecosystem Analyst', affiliation='Tech Innovators Network', description='Sophia focuses on the impact of adopting new technologies like Langgraph within startup environments. She is particularly interested in how Langgraph can streamline operations, reduce costs, and enhance scalability for emerging companies. Her analysis often includes case studies of startups that have successfully integrated Langgraph into their workflows.'),\n",
       "  Analyst(name='Michael Chen', role='Enterprise Application Specialist', affiliation='Global Enterprise Solutions', description='Michael specializes in the latest enterprise applications and how frameworks like Langgraph can be leveraged to improve business processes. He examines the integration of Langgraph in large-scale operations, focusing on its ability to enhance data processing, improve decision-making, and support complex enterprise systems.'),\n",
       "  Analyst(name='Aisha Patel', role='AI Framework Researcher', affiliation='Institute of Artificial Intelligence', description=\"Aisha's research is centered on the technical benefits of adopting AI frameworks such as Langgraph. She explores the framework's capabilities in terms of flexibility, efficiency, and its potential to support advanced AI models. Her work often includes comparative analyses with other AI frameworks to highlight Langgraph's unique advantages.\"),\n",
       "  Analyst(name=\"Liam O'Reilly\", role='Technology Adoption Strategist', affiliation='FutureTech Advisory', description='Liam advises organizations on the strategic adoption of new technologies. His focus is on how Langgraph can be integrated into existing systems to drive innovation and competitive advantage. He provides insights into the long-term benefits of adopting Langgraph, including improved agility and the ability to quickly adapt to market changes.')]}"
      ]
     },
     "execution_count": 52,
     "metadata": {},
     "output_type": "execute_result"
    }
   ],
   "source": [
    "state.values"
   ]
  },
  {
   "cell_type": "code",
   "execution_count": 53,
   "id": "d0540c5a",
   "metadata": {},
   "outputs": [],
   "source": [
    "# import msgpack\n",
    "\n",
    "# def get_all_checkpoints(memory, thread_id=\"1\"):\n",
    "#     \"\"\"Return all checkpoints in chronological order for a thread.\"\"\"\n",
    "#     checkpoints = []\n",
    "#     ns_dict = memory.storage.get(thread_id, {})\n",
    "#     if \"\" not in ns_dict:\n",
    "#         return []\n",
    "\n",
    "#     for ckpt_id, (packed_values, packed_meta, parent_id) in ns_dict[\"\"].items():\n",
    "#         values = msgpack.unpackb(packed_values[1], raw=False)\n",
    "#         meta = msgpack.unpackb(packed_meta[1], raw=False)\n",
    "#         checkpoints.append({\n",
    "#             \"id\": ckpt_id,\n",
    "#             \"parent\": parent_id,\n",
    "#             \"topic\": values.get(\"topic\"),\n",
    "#             \"feedback\": values.get(\"human_analyst_feedback\"),\n",
    "#             \"analyst_count\": len(values.get(\"analysts\", [])),\n",
    "#             \"analysts\": [a.model_dump() for a in values.get(\"analysts\", [])],\n",
    "#             \"step\": meta.get(\"step\"),\n",
    "#             \"created_at\": values.get(\"ts\", None)\n",
    "#         })\n",
    "#     return checkpoints\n",
    "\n",
    "# # Fetch all\n",
    "# history = get_all_checkpoints(memory)\n",
    "\n",
    "# # Sort by step (to get chronological order)\n",
    "# history = sorted(history, key=lambda x: (x[\"step\"] or 0))\n",
    "\n",
    "# # Display neatly\n",
    "# for h in history:\n",
    "#     print(f\"\\nSTEP {h['step']} | CHECKPOINT {h['id']}\")\n",
    "#     print(f\"Parent: {h['parent']}\")\n",
    "#     print(f\"Topic: {h['topic']}\")\n",
    "#     print(f\"Feedback: {h['feedback']}\")\n",
    "#     print(f\"Analysts generated: {h['analyst_count']}\")\n",
    "#     print(\"-\"*100)\n"
   ]
  },
  {
   "cell_type": "code",
   "execution_count": 54,
   "id": "a17375c2",
   "metadata": {},
   "outputs": [],
   "source": [
    "# If we are satisfied, then we simply supply no feedback\n",
    "further_feedack = \"\""
   ]
  },
  {
   "cell_type": "code",
   "execution_count": 55,
   "id": "7cac0644",
   "metadata": {},
   "outputs": [],
   "source": [
    "# 1) Get the latest state (you're paused at 'human_feedback')\n",
    "state = graph.get_state(thread)\n",
    "\n",
    "# 2) Use the exact config from that state (it already has thread_id, checkpoint_ns, checkpoint_id)\n",
    "cfg = state.config"
   ]
  },
  {
   "cell_type": "code",
   "execution_count": 56,
   "id": "82420b2e",
   "metadata": {},
   "outputs": [
    {
     "data": {
      "text/plain": [
       "{'configurable': {'thread_id': '1',\n",
       "  'checkpoint_ns': '',\n",
       "  'checkpoint_id': '1f0b6f9a-0664-6725-8006-d2afd8ae2202'}}"
      ]
     },
     "execution_count": 56,
     "metadata": {},
     "output_type": "execute_result"
    }
   ],
   "source": [
    "# 3) Update feedback at the 'human_feedback' node\n",
    "#    Tip: if your TypedDict says `human_analyst_feedback: str`, prefer \"\" (empty string) over None\n",
    "graph.update_state(cfg, {\"human_analyst_feedback\": \"\"}, as_node=\"human_feedback\")"
   ]
  },
  {
   "cell_type": "code",
   "execution_count": 57,
   "id": "aceb37c2",
   "metadata": {},
   "outputs": [
    {
     "name": "stdout",
     "output_type": "stream",
     "text": [
      "()\n"
     ]
    }
   ],
   "source": [
    "# 4) Verify it moved to END\n",
    "final_state = graph.get_state(thread)\n",
    "print(final_state.next)  # should be (END,)\n"
   ]
  },
  {
   "cell_type": "code",
   "execution_count": 58,
   "id": "763cb15a",
   "metadata": {},
   "outputs": [],
   "source": [
    "analysts = final_state.values.get('analysts')"
   ]
  },
  {
   "cell_type": "code",
   "execution_count": 59,
   "id": "e26234f4",
   "metadata": {},
   "outputs": [
    {
     "data": {
      "text/plain": [
       "[Analyst(name='Sophia Tran', role='Startup Ecosystem Analyst', affiliation='Tech Innovators Network', description='Sophia focuses on the impact of adopting new technologies like Langgraph within startup environments. She is particularly interested in how Langgraph can streamline operations, reduce costs, and enhance scalability for emerging companies. Her analysis often includes case studies of startups that have successfully integrated Langgraph into their workflows.'),\n",
       " Analyst(name='Michael Chen', role='Enterprise Application Specialist', affiliation='Global Enterprise Solutions', description='Michael specializes in the latest enterprise applications and how frameworks like Langgraph can be leveraged to improve business processes. He examines the integration of Langgraph in large-scale operations, focusing on its ability to enhance data processing, improve decision-making, and support complex enterprise systems.'),\n",
       " Analyst(name='Aisha Patel', role='AI Framework Researcher', affiliation='Institute of Artificial Intelligence', description=\"Aisha's research is centered on the technical benefits of adopting AI frameworks such as Langgraph. She explores the framework's capabilities in terms of flexibility, efficiency, and its potential to support advanced AI models. Her work often includes comparative analyses with other AI frameworks to highlight Langgraph's unique advantages.\"),\n",
       " Analyst(name=\"Liam O'Reilly\", role='Technology Adoption Strategist', affiliation='FutureTech Advisory', description='Liam advises organizations on the strategic adoption of new technologies. His focus is on how Langgraph can be integrated into existing systems to drive innovation and competitive advantage. He provides insights into the long-term benefits of adopting Langgraph, including improved agility and the ability to quickly adapt to market changes.')]"
      ]
     },
     "execution_count": 59,
     "metadata": {},
     "output_type": "execute_result"
    }
   ],
   "source": [
    "analysts"
   ]
  },
  {
   "cell_type": "code",
   "execution_count": 60,
   "id": "753e9a0a",
   "metadata": {},
   "outputs": [
    {
     "name": "stdout",
     "output_type": "stream",
     "text": [
      "Name: Sophia Tran\n",
      "Affiliation: Tech Innovators Network\n",
      "Role: Startup Ecosystem Analyst\n",
      "Description: Sophia focuses on the impact of adopting new technologies like Langgraph within startup environments. She is particularly interested in how Langgraph can streamline operations, reduce costs, and enhance scalability for emerging companies. Her analysis often includes case studies of startups that have successfully integrated Langgraph into their workflows.\n",
      "--------------------------------------------------\n",
      "Name: Michael Chen\n",
      "Affiliation: Global Enterprise Solutions\n",
      "Role: Enterprise Application Specialist\n",
      "Description: Michael specializes in the latest enterprise applications and how frameworks like Langgraph can be leveraged to improve business processes. He examines the integration of Langgraph in large-scale operations, focusing on its ability to enhance data processing, improve decision-making, and support complex enterprise systems.\n",
      "--------------------------------------------------\n",
      "Name: Aisha Patel\n",
      "Affiliation: Institute of Artificial Intelligence\n",
      "Role: AI Framework Researcher\n",
      "Description: Aisha's research is centered on the technical benefits of adopting AI frameworks such as Langgraph. She explores the framework's capabilities in terms of flexibility, efficiency, and its potential to support advanced AI models. Her work often includes comparative analyses with other AI frameworks to highlight Langgraph's unique advantages.\n",
      "--------------------------------------------------\n",
      "Name: Liam O'Reilly\n",
      "Affiliation: FutureTech Advisory\n",
      "Role: Technology Adoption Strategist\n",
      "Description: Liam advises organizations on the strategic adoption of new technologies. His focus is on how Langgraph can be integrated into existing systems to drive innovation and competitive advantage. He provides insights into the long-term benefits of adopting Langgraph, including improved agility and the ability to quickly adapt to market changes.\n",
      "--------------------------------------------------\n"
     ]
    }
   ],
   "source": [
    "for analyst in analysts:\n",
    "    print(f\"Name: {analyst.name}\")\n",
    "    print(f\"Affiliation: {analyst.affiliation}\")\n",
    "    print(f\"Role: {analyst.role}\")\n",
    "    print(f\"Description: {analyst.description}\")\n",
    "    print(\"-\" * 50) "
   ]
  },
  {
   "cell_type": "code",
   "execution_count": 61,
   "id": "9c15bce7",
   "metadata": {},
   "outputs": [
    {
     "data": {
      "text/plain": [
       "'The benefits of adopting LangGraph as an agent framework'"
      ]
     },
     "execution_count": 61,
     "metadata": {},
     "output_type": "execute_result"
    }
   ],
   "source": [
    "\"The benefits of adopting LangGraph as an agent framework\""
   ]
  },
  {
   "cell_type": "code",
   "execution_count": 62,
   "id": "c36ad6b0",
   "metadata": {},
   "outputs": [
    {
     "name": "stdout",
     "output_type": "stream",
     "text": [
      "LangChain is a software framework that helps facilitate the integration of large language models (LLMs) into applications. As a language model integration framework, LangChain's use-cases largely overlap with those of language models in general, including document analysis and summarization, chatbots, and code analysis.\n",
      "\n",
      "\n",
      "== History ==\n",
      "LangChain was launched in October 2022 as an open source project by Harrison Chase, while working at machine learning startup Robust Intelligence. In April 2023, \n"
     ]
    }
   ],
   "source": [
    "from langchain_community.document_loaders import WikipediaLoader\n",
    "\n",
    "docs = WikipediaLoader(query=\"LangGraph\").load()\n",
    "print(docs[0].page_content[:500])"
   ]
  },
  {
   "cell_type": "markdown",
   "id": "2bb9f6ef",
   "metadata": {},
   "source": [
    "Either you can use Google Serper API or use duckduckgo"
   ]
  },
  {
   "cell_type": "code",
   "execution_count": 63,
   "id": "8520f4f6",
   "metadata": {},
   "outputs": [
    {
     "name": "stdout",
     "output_type": "stream",
     "text": [
      "Cloud computing is \"a paradigm for enabling network access to a scalable and elastic pool of shareable physical or virtual resources with self-service provisioning and administration on-demand,\" according to ISO. It is commonly referred to as \"the cloud\".\n",
      "\n",
      "\n",
      "== Characteristics ==\n",
      "In 2011, the National Institute of Standards and Technology (NIST) identified five \"essential characteristics\" for cloud systems. Below are the exact definitions according to NIST:\n",
      "\n",
      "On-demand self-service: \"A consumer ca\n"
     ]
    }
   ],
   "source": [
    "from langchain_community.document_loaders import WikipediaLoader\n",
    "docs = WikipediaLoader(query=\"The benefits of adopting AWS Cloud\").load()\n",
    "print(docs[0].page_content[:500])"
   ]
  },
  {
   "cell_type": "code",
   "execution_count": 64,
   "id": "db3f5002",
   "metadata": {},
   "outputs": [
    {
     "name": "stdout",
     "output_type": "stream",
     "text": [
      "[Document(metadata={'title': 'Cloud computing', 'summary': 'Cloud computing is \"a paradigm for enabling network access to a scalable and elastic pool of shareable physical or virtual resources with self-service provisioning and administration on-demand,\" according to ISO. It is commonly referred to as \"the cloud\".\\n\\n', 'source': 'https://en.wikipedia.org/wiki/Cloud_computing'}, page_content='Cloud computing is \"a paradigm for enabling network access to a scalable and elastic pool of shareable physical or virtual resources with self-service provisioning and administration on-demand,\" according to ISO. It is commonly referred to as \"the cloud\".\\n\\n\\n== Characteristics ==\\nIn 2011, the National Institute of Standards and Technology (NIST) identified five \"essential characteristics\" for cloud systems. Below are the exact definitions according to NIST:\\n\\nOn-demand self-service: \"A consumer can unilaterally provision computing capabilities, such as server time and network storage, as needed automatically without requiring human interaction with each service provider.\"\\nBroad network access: \"Capabilities are available over the network and accessed through standard mechanisms that promote use by heterogeneous thin or thick client platforms (e.g., mobile phones, tablets, laptops, and workstations).\"\\nResource pooling: \" The provider\\'s computing resources are pooled to serve multiple consumers using a multi-tenant model, with different physical and virtual resources dynamically assigned and reassigned according to consumer demand.\"\\nRapid elasticity: \"Capabilities can be elastically provisioned and released, in some cases automatically, to scale rapidly outward and inward commensurate with demand. To the consumer, the capabilities available for provisioning often appear unlimited and can be appropriated in any quantity at any time.\"\\nMeasured service: \"Cloud systems automatically control and optimize resource use by leveraging a metering capability at some level of abstraction appropriate to the type of service (e.g., storage, processing, bandwidth, and active user accounts). Resource usage can be monitored, controlled, and reported, providing transparency for both the provider and consumer of the utilized service.\\nBy 2023, the International Organization for Standardization (ISO) had expanded and refined the list.\\n\\n\\n== History ==\\n\\nThe history of cloud computing extends to the 1960s, with the initial concepts of time-sharing becoming popularized via remote job entry (RJE). The \"data center\" model, where users submitted jobs to operators to run on mainframes, was predominantly used during this era. This was a time of exploration and experimentation with ways to make large-scale computing power available to more users through time-sharing, optimizing the infrastructure, platform, and applications, and increasing efficiency for end users.\\nThe \"cloud\" metaphor for virtualized services dates to 1994, when it was used by General Magic for the universe of \"places\" that mobile agents in the Telescript environment could \"go\". The metaphor is credited to David Hoffman, a General Magic communications specialist, based on its long-standing use in networking and telecom. The expression cloud computing became more widely known in 1996 when Compaq Computer Corporation drew up a business plan for future computing and the Internet. The company\\'s ambition was to supercharge sales with \"cloud computing-enabled applications\". The business plan foresaw that online consumer file storage would likely be commercially successful. As a result, Compaq decided to sell server hardware to internet service providers.\\nIn the 2000s, the application of cloud computing began to take shape with the establishment of Amazon Web Services (AWS) in 2002, which allowed developers to build applications independently. In 2006 Amazon Simple Storage Service, known as Amazon S3, and the Amazon Elastic Compute Cloud (EC2) were released. In 2008 NASA\\'s development of the first open-source software for deploying private and hybrid clouds.\\nThe following decade saw the launch of various cloud services. In 2010, Microsoft launched Microsoft Azure, and Rackspace Hosting and NASA initiated an open-source cloud-software project, OpenStack. IBM introduced the IBM SmartCloud framework in 2011, and Oracle announced the Oracle Cloud in 2012. In December 2019, Amazon launched AWS Outposts, a '), Document(metadata={'title': 'Blue–green deployment', 'summary': 'In software engineering, blue–green deployment is a method of installing changes to a web, app, or database server by swapping alternating production and staging servers.', 'source': 'https://en.wikipedia.org/wiki/Blue%E2%80%93green_deployment'}, page_content='In software engineering, blue–green deployment is a method of installing changes to a web, app, or database server by swapping alternating production and staging servers.\\n\\n\\n== Overview ==\\nIn blue–green deployments, two servers are maintained: a \"blue\" server and a \"green\" server. At any given time, only one server is handling requests (e.g., being pointed to by the DNS). For example, public requests may be routed to the blue server, making it the production server and the green server the staging server, which can only be accessed on a private network. Changes are installed on the non-live server, which is then tested through the private network to verify the changes work as expected. Once verified, the non-live server is swapped with the live server, effectively making the deployed changes live.\\nUsing this method of software deployment offers the ability to quickly roll back to a previous state if anything goes wrong. This rollback is achieved by simply routing traffic back to the previous live server, which still does not have the deployed changes. An additional benefit to the blue–green method of deployment is the reduced downtime for the server. Because requests are routed instantly from one server to the other, there is ideally no period where requests will be unfulfilled.\\nThe blue–green deployment technique is often contrasted with the canary release deployment technique and it has similarities with  A/B testing.\\n\\n\\n== History ==\\nDan North and Jez Humble encountered differences between their test environments and the production environment while running Oracle WebLogic Server for a client sometime around 2005. To ensure safe deployment, they introduced a method where the new application version was deployed alongside the live system. This approach allowed for thorough testing and easy rollback in case of issues. The team initially considered naming these environments A and B but decided against it to avoid the perception that one was primary and the other secondary. They instead chose color-based names like blue, green, orange, and yellow, eventually using only blue and green since \"having two was sufficient\". This naming convention was adopted while working on the original Continuous delivery book published in 2010  and became a common term in the industry afterwards.\\n\\n\\n== Benefits and challenges ==\\nBlue–green deployment is widely recognized for its ability to reduce downtime during application updates and minimize the risk of introducing defects into production environments. By maintaining two separate environments—blue (the current live environment) and green (the environment with the updated version)—traffic can easily be switched between the two, ensuring that updates are rolled out without disrupting users. This method enables quick rollback in case of deployment failure, thus improving overall system resilience and user experience.\\nWhile blue–green deployment reduces risks during updates, it also requires additional resources since two environments need to be maintained simultaneously. The cost of running duplicate infrastructure, even temporarily, can be prohibitive for smaller organizations. Furthermore, complex database migrations may pose challenges, as the system must ensure that both the blue and green environments have consistent data. Solutions to these issues often involve using database migration tools that allow for backward compatibility between environments.\\n\\n\\n== Implementation ==\\nThere are several approaches to implementing blue–green deployments, each offering varying levels of automation and ease of use depending on the platform and tools available.\\n\\n\\n=== AWS CodeDeploy ===\\nAWS CodeDeploy facilitates blue–green deployments by automating the entire process across services such as Amazon EC2 and AWS Lambda. The service shifts traffic between the old (blue) environment and the new (green) environment, minimizing downtime and ensuring a smooth transition. AWS CodeDeploy also allows the use of lifecycle '), Document(metadata={'title': 'Serverless computing', 'summary': 'Serverless computing is \"a cloud service category where the customer can use different cloud capability types without the customer having to provision, deploy and manage either hardware or software resources, other than providing customer application code or providing customer data. Serverless computing represents a form of virtualized computing,\" according to ISO/IEC 22123-2. Serverless computing is a broad ecosystem that includes the cloud provider, Function as a Service (FaaS), managed services, tools, frameworks, engineers, stakeholders, and other interconnected elements, according to Sheen Brisals.\\n\\n', 'source': 'https://en.wikipedia.org/wiki/Serverless_computing'}, page_content='Serverless computing is \"a cloud service category where the customer can use different cloud capability types without the customer having to provision, deploy and manage either hardware or software resources, other than providing customer application code or providing customer data. Serverless computing represents a form of virtualized computing,\" according to ISO/IEC 22123-2. Serverless computing is a broad ecosystem that includes the cloud provider, Function as a Service (FaaS), managed services, tools, frameworks, engineers, stakeholders, and other interconnected elements, according to Sheen Brisals.\\n\\n\\n== Overview ==\\nServerless is a misnomer in the sense that servers are still used by cloud service providers to execute code for developers.  The definition of serverless computing has evolved over time, leading to varied interpretations. According to Ben Kehoe, serverless represents a spectrum rather than a rigid definition. Emphasis should shift from strict definitions and specific technologies to adopting a serverless mindset, focusing on leveraging serverless solutions to address business challenges.\\nServerless computing does not eliminate complexity but shifts much of it from the operations team to the development team. However, this shift is not absolute, as operations teams continue to manage aspects such as identity and access management (IAM), networking, security policies, and cost optimization. Additionally, while breaking down applications into finer-grained components can increase management complexity, the relationship between granularity and management difficulty is not strictly linear. There is often an optimal level of modularization where the benefits outweigh the added management overhead.\\nAccording to Yan Cui, serverless should be adopted only when it helps to deliver customer value faster. And while adopting, organizations should take small steps and de-risk along the way.\\n\\n\\n== Challenges ==\\nServerless applications are prone to fallacies of distributed computing. In addition, they are prone to the following fallacies:\\n\\nVersioning is simple\\nCompensating transactions always work\\nObservability is optional\\n\\n\\n=== Monitoring and debugging ===\\nMonitoring and debugging serverless applications can present unique challenges due to their distributed, event-driven nature and proprietary environments. Traditional tools may fall short, making it difficult to track execution flows across services. However, modern solutions such as distributed tracing tools (e.g., AWS X-Ray, Datadog), centralized logging, and cloud-agnostic observability platforms are mitigating these challenges. Emerging technologies like OpenTelemetry, AI-powered anomaly detection, and serverless-specific frameworks are further improving visibility and root cause analysis. While challenges persist, advancements in monitoring and debugging tools are steadily addressing these limitations.\\n\\n\\n=== Security ===\\nAccording to OWASP, serverless applications are vulnerable to variations of traditional  attacks, insecure code, and some serverless-specific attacks (like Denial of Wallet). So, the risks have changed and attack prevention requires a shift in mindset.\\n\\n\\n=== Vendor lock-in ===\\nServerless computing is provided as a third-party service. Applications and software that run in the serverless environment are by default locked to a specific cloud vendor. This issue is exacerbated in serverless computing, as with its increased level of abstraction, public vendors only allow customers to upload code to a FaaS platform without the authority to configure underlying environments. More importantly, when considering a more complex workflow that includes Backend-as-a-Service (BaaS), a BaaS offering can typically only natively trigger a FaaS offering from the same provider. This makes the workload migration in serverless computing virtually impossible. Therefore, considering how to design and deploy serverless workflows from a multi-cloud perspective could mitigate th'), Document(metadata={'title': 'Amazon (company)', 'summary': 'Amazon.com, Inc., doing business as Amazon, is an American multinational technology company engaged in e-commerce, cloud computing, online advertising, digital streaming, and artificial intelligence. Founded in 1994 by Jeff Bezos in Bellevue, Washington, the company originally started as an online marketplace for books, but gradually expanded its offerings to include a wide range of product categories, referred to as \"The Everything Store\". Amazon is considered part of the Big Tech group, alongside Nvidia, Microsoft, Apple, Alphabet, and Meta.\\nThe company has multiple subsidiaries, including Amazon Web Services, providing cloud computing; Zoox, a self-driving car division; Kuiper Systems, a satellite Internet provider; and Amazon Lab126, a computer hardware R&D provider. Other subsidiaries include Ring, Twitch, IMDb, and Whole Foods Market. Its acquisition of Whole Foods in August 2017 for US$13.4 billion substantially increased its market share and presence as a physical retailer. Amazon also distributes a variety of downloadable and streaming content through its Amazon Prime Video, MGM+, Amazon Music, Twitch, Audible and Wondery units. It publishes books through its publishing arm, Amazon Publishing, produces and distributes film and television content through Amazon MGM Studios, including the Metro-Goldwyn-Mayer studio it acquired in March 2022, and owns Brilliance Audio and Audible, which produce and distribute audiobooks, respectively. Amazon also produces consumer electronics—most notably, Kindle e-readers, Echo devices, Fire tablets, and Fire TVs.\\nAmazon has a reputation as a disruptor of industries through technological innovation and aggressive reinvestment of profits into capital expenditures. As of 2023, it is the world\\'s largest online retailer and marketplace, smart speaker provider, cloud computing service through AWS, live-streaming service through Twitch, and Internet company as measured by revenue and market share. In 2021, it surpassed Walmart as the world\\'s largest retailer outside of China, driven in large part by its paid subscription plan, Amazon Prime, which has 200 million subscribers worldwide. It is the second-largest private employer in the United States and the second-largest company in the world and in the U.S. by revenue as of 2024 (after Walmart). As of October 2024, Amazon is the 12th-most visited website in the world and 84% of its traffic comes from the United States. Amazon is also the global leader in research and development spending, with R&D expenditure of US$73 billion in 2022. Amazon has been criticized for its business practices, including surveillance partnerships, poor worker conditions, anti-union efforts, environmental harm, anti-competitive behavior, censorship controversies, and exploitative treatment of small businesses and suppliers.\\n\\n', 'source': 'https://en.wikipedia.org/wiki/Amazon_(company)'}, page_content='Amazon.com, Inc., doing business as Amazon, is an American multinational technology company engaged in e-commerce, cloud computing, online advertising, digital streaming, and artificial intelligence. Founded in 1994 by Jeff Bezos in Bellevue, Washington, the company originally started as an online marketplace for books, but gradually expanded its offerings to include a wide range of product categories, referred to as \"The Everything Store\". Amazon is considered part of the Big Tech group, alongside Nvidia, Microsoft, Apple, Alphabet, and Meta.\\nThe company has multiple subsidiaries, including Amazon Web Services, providing cloud computing; Zoox, a self-driving car division; Kuiper Systems, a satellite Internet provider; and Amazon Lab126, a computer hardware R&D provider. Other subsidiaries include Ring, Twitch, IMDb, and Whole Foods Market. Its acquisition of Whole Foods in August 2017 for US$13.4 billion substantially increased its market share and presence as a physical retailer. Amazon also distributes a variety of downloadable and streaming content through its Amazon Prime Video, MGM+, Amazon Music, Twitch, Audible and Wondery units. It publishes books through its publishing arm, Amazon Publishing, produces and distributes film and television content through Amazon MGM Studios, including the Metro-Goldwyn-Mayer studio it acquired in March 2022, and owns Brilliance Audio and Audible, which produce and distribute audiobooks, respectively. Amazon also produces consumer electronics—most notably, Kindle e-readers, Echo devices, Fire tablets, and Fire TVs.\\nAmazon has a reputation as a disruptor of industries through technological innovation and aggressive reinvestment of profits into capital expenditures. As of 2023, it is the world\\'s largest online retailer and marketplace, smart speaker provider, cloud computing service through AWS, live-streaming service through Twitch, and Internet company as measured by revenue and market share. In 2021, it surpassed Walmart as the world\\'s largest retailer outside of China, driven in large part by its paid subscription plan, Amazon Prime, which has 200 million subscribers worldwide. It is the second-largest private employer in the United States and the second-largest company in the world and in the U.S. by revenue as of 2024 (after Walmart). As of October 2024, Amazon is the 12th-most visited website in the world and 84% of its traffic comes from the United States. Amazon is also the global leader in research and development spending, with R&D expenditure of US$73 billion in 2022. Amazon has been criticized for its business practices, including surveillance partnerships, poor worker conditions, anti-union efforts, environmental harm, anti-competitive behavior, censorship controversies, and exploitative treatment of small businesses and suppliers.\\n\\n\\n== History ==\\n\\n\\n=== 1994–2009 ===\\n\\nAmazon was founded on July 5, 1994, by Jeff Bezos after he relocated from New York City to Bellevue, Washington, near Seattle, to operate an online bookstore. Bezos chose the Seattle area for its abundance of technical talent from Microsoft and the University of Washington, as well as its smaller population for sales tax purposes and the proximity to a major book distribution warehouse in Roseburg, Oregon. Bezos also considered several other options, including Portland, Oregon, and Boulder, Colorado. The company, originally named Cadabra, was founded in the converted garage of Bezos\\'s house for symbolic reasons and was renamed to Amazon in November 1994. The Amazon website launched for public sales on July 16, 1995, and initially sourced its books directly from wholesalers and publishers. Bezos retained the URL www.relentless.com, which he purchased when considering a name for the company; it redirects to the Amazon homepage.\\nAmazon went public in May 1997. It began selling music and videos in 1998, and began international operations by acquiring online sellers of books in the United Kingdom and Germany. In the '), Document(metadata={'title': 'Multicloud', 'summary': 'Multicloud (also written as multi-cloud or multi cloud) is a term with varying interpretations, generally referring to a system using multiple cloud computing providers. According to ISO/IEC 22123-1: \"multi-cloud is a cloud deployment model in which a customer uses public cloud services provided by two or more cloud service providers\". Multi-cloud can involve various deployment models, including public, private, and hybrid clouds, and multiple service models, such as Infrastructure as a Service (IaaS), Platform as a Service (PaaS), and Software as a Service (SaaS). Multicloud incorporates workload, data, traffic and workflow portability options, exhibiting differing implementation complexities.\\nWhen effectively implemented, multicloud solutions can enhance architectural resilience, reduce dependence on a single vendor, and improve flexibility by leveraging services from different providers. However, multicloud strategies also present challenges, including increased operational complexity, security risks, higher costs, and integration difficulties.\\nAccording to the 2024 State of the Cloud Report by Flexera, multi-cloud adoption has continued to rise in 2024. Enterprises increasingly silo applications into specific clouds and select best-fit services. Key use cases include data analysis in separate clouds and cross-cloud disaster recovery.', 'source': 'https://en.wikipedia.org/wiki/Multicloud'}, page_content='Multicloud (also written as multi-cloud or multi cloud) is a term with varying interpretations, generally referring to a system using multiple cloud computing providers. According to ISO/IEC 22123-1: \"multi-cloud is a cloud deployment model in which a customer uses public cloud services provided by two or more cloud service providers\". Multi-cloud can involve various deployment models, including public, private, and hybrid clouds, and multiple service models, such as Infrastructure as a Service (IaaS), Platform as a Service (PaaS), and Software as a Service (SaaS). Multicloud incorporates workload, data, traffic and workflow portability options, exhibiting differing implementation complexities.\\nWhen effectively implemented, multicloud solutions can enhance architectural resilience, reduce dependence on a single vendor, and improve flexibility by leveraging services from different providers. However, multicloud strategies also present challenges, including increased operational complexity, security risks, higher costs, and integration difficulties.\\nAccording to the 2024 State of the Cloud Report by Flexera, multi-cloud adoption has continued to rise in 2024. Enterprises increasingly silo applications into specific clouds and select best-fit services. Key use cases include data analysis in separate clouds and cross-cloud disaster recovery.\\n\\n\\n== Advantages and challenges ==\\nThere are several advantages to using a multicloud approach, including the ability to negotiate better pricing with cloud providers, the ability to quickly switch to another provider if needed, and the ability to avoid vendor lock-in. Multicloud can also be a good way to hedge against the risks of obsolescence, as it allows you to rely on multiple vendors and open standards, which can prolong the life of your systems.\\nAdditional benefits of the multicloud architecture include adherence to local policies that require certain data to be physically present within the area/country, geographical distribution of processing requests from physically closer cloud unit which in turn reduces latency and protect against disasters.\\nVarious issues and challenges also present themselves in a multicloud environment. Security and governance is more complicated, and more \"moving parts\" may create resiliency issues.\\n\\n\\n== Difference between multicloud and hybrid cloud ==\\nMulticloud differs from hybrid cloud in that it refers to multiple cloud services from different vendors rather than multiple deployment modes (on-premises hardware, and public and private, cloud hosting). However, when considering a broad definition of multi-cloud, hybrid cloud can still be regarded as a special form of multi-cloud.\\n\\n\\n== See also ==\\nCloud computing\\nServerless computing\\n\\n\\n== References =='), Document(metadata={'title': 'Cloud Native Computing Foundation', 'summary': 'The Cloud Native Computing Foundation (CNCF) is a subsidiary of the Linux Foundation founded in 2015 to support cloud-native computing.', 'source': 'https://en.wikipedia.org/wiki/Cloud_Native_Computing_Foundation'}, page_content='The Cloud Native Computing Foundation (CNCF) is a subsidiary of the Linux Foundation founded in 2015 to support cloud-native computing.\\n\\n\\n== History ==\\nIt was announced alongside Kubernetes 1.0, an open source container cluster manager, which was contributed to the Linux Foundation by Google as a seed technology. Founding members include Google, CoreOS, Mesosphere, Red Hat, Twitter, Huawei, Intel, RX-M, Cisco, IBM, Docker, Univa, and VMware. Today, CNCF is supported by over 450 members.\\nIn August 2018 Google announced that it was handing over operational control of Kubernetes to the community.\\n\\n\\n== Projects ==\\nArgo: Argo is a collection of tools for getting work done with Kubernetes. Among its main features are Workflows and Events. It was accepted to CNCF on March 26, 2020 at the Incubating maturity level and then moved to the Graduated maturity level on December 6, 2022.\\nCilium: Cilium provides networking, security, and observability for Kubernetes deployments using eBPF technology. It joined the CNCF at incubation level in October 2021 and the CNCF announced its graduation in October 2023.\\ncontainerd: containerd is an industry-standard core container runtime. It is currently available as a daemon for Linux and Windows, which can manage the complete container lifecycle of its host system. In 2015, Docker donated the OCI Specification to The Linux Foundation with a reference implementation called runc. Since February 28, 2019 it is an official CNCF project. Its general availability and intention to donate the project to CNCF was announced by Docker in 2017.\\nCoreDNS: CoreDNS is a DNS server that chains plugins. Its graduation was announced in 2019.\\nDapr: Dapr, the distributed application runtime, provides APIs for building secure and reliable microservices and agentic AI systems. Dapr was donated to the CNCF in November 2021 and joined at incubation level. The CNCF announced its graduation in November 2024.\\nEnvoy: Originally built at Lyft to move their architecture away from a monolith, Envoy is a high-performance open source edge and service proxy that makes the network transparent to applications. Lyft contributed Envoy to Cloud Native Computing Foundation in September 2017.\\netcd: etcd is a distributed key value store, providing a method of storing data across a cluster of machines. It became a CNCF incubating project in 2018 at KubeCon+CloudNativeCon North America in Seattle that year.\\nFalco: Falco is an open source and cloud native runtime security initiative. It is the \"de facto Kubernetes threat detection engine\". It became an incubating project in January 2020  and graduated in February 2024.\\nFlux: Flux  is an open source project for powering GitOps in Kubernetes clusters. It provides the GitOps Toolkit, a set of Kubernetes APIs that allow you to define how configuration source code is securely pulled into your cluster and deployed by popular Kubernetes manifests rendering engines like Kustomize and Helm. The most recommended source mechanism is the OCIRepository API, which provides enhanced security and benefits from container image tooling out there. Flux has also notification integrations with popular services like Prometheus Alertmanager, PagerDuty, Slack and so on. Flux has graduated in CNCF in 2022.\\nHarbor: Harbor is an \"open source trusted cloud native registry project that stores, signs, and scans content.\" It became an incubating project in September 2019 and graduated in June 2020.\\nHelm: Helm is a package manager that helps developers \"easily manage and deploy applications onto the Kubernetes cluster.\" It joined the incubating level in June 2018 and graduated in April 2020.\\nIstio: Istio is a service mesh technology. It was accepted by CNCF in September 2022 and graduated on July 12, 2023.\\nJaeger: Created by Uber Engineering, Jaeger is an open source distributed tracing system inspired by Google Dapper paper and OpenZipkin community. It can be used for tracing microservice-based architectures, including distrib'), Document(metadata={'title': 'Cloud computing issues', 'summary': 'Cloud computing enables users to access scalable and on-demand computing resources via the internet, utilizing hardware and software virtualization. It is a rapidly evolving technology capable of delivering extensible services efficiently, supporting a wide range of applications from personal storage solutions to enterprise-level systems. Despite its advantages, cloud computing also faces several challenges. Privacy concerns remain a primary issue, as users often lose direct control over their data once it is stored on servers owned and managed by cloud providers. This loss of control can create uncertainties regarding data privacy, unauthorized access, and compliance with regional regulations such as the General Data Protection Regulation (GDPR), the Health Insurance Portability and Accountability Act (HIPAA), and the California Consumer Privacy Act (CCPA). Service agreements and shared responsibility models define the boundaries of control and accountability between the cloud provider and the customer, but misunderstandings or mismanagement in these areas can still result in security breaches or accidental data loss. Cloud providers offer tools, such as AWS Artifact (compliance documentation and audits), Azure Compliance Manager (compliance assessments and risk analysis), and Google Assured Workloads (region-specific data compliance), to assist customers in managing compliance requirements. \\nSecurity issues in cloud computing are generally categorized into two broad groups. The first involves risks faced by cloud service providers, including vulnerabilities in their infrastructure, software, or third-party dependencies. The second includes risks faced by cloud customers, such as misconfigurations, inadequate access controls, and accidental data exposure. These risks are often amplified by human error or a lack of understanding of the shared responsibility model. Security responsibilities also vary depending on the service model—whether Infrastructure as a Service (IaaS), Platform as a Service (PaaS), or Software as a Service (SaaS). In general, cloud providers are responsible for hardware security, physical infrastructure, and software updates, while customers are responsible for data encryption, identity and access management (IAM), and application-level security. \\nAnother significant concern is uncertainty regarding guaranteed Quality of Service (QoS), particularly in multi-tenant environments where resources are shared among customers. Major cloud providers address these concerns through Service Level Agreements (SLAs), which define performance and uptime guarantees and often offer compensation in the form of service credits when guarantees are unmet. Automated management and remediation processes, supported by tools such as AWS CloudWatch, Azure Monitor, and Google Cloud Operations Suite, help detect and respond to large-scale failures. Despite these tools, managing QoS in highly distributed and multi-tenant systems remains complex. For latency-sensitive workloads, cloud providers have introduced edge computing solutions, such as AWS Wavelength, Azure Edge Zones, and Google Distributed Cloud Edge, to minimize latency by processing data closer to the end-user.  \\nJurisdictional and regulatory requirements regarding data residency and sovereignty introduce further complexity. Data stored in one region may fall under the legal jurisdiction of that region, creating potential conflicts for organizations operating across multiple geographies. Major cloud providers, such as AWS, Microsoft Azure, and Google Cloud, address these concerns by offering region-specific data centers and compliance management tools designed to align with regional regulations and legal frameworks. \\n\\n', 'source': 'https://en.wikipedia.org/wiki/Cloud_computing_issues'}, page_content='Cloud computing enables users to access scalable and on-demand computing resources via the internet, utilizing hardware and software virtualization. It is a rapidly evolving technology capable of delivering extensible services efficiently, supporting a wide range of applications from personal storage solutions to enterprise-level systems. Despite its advantages, cloud computing also faces several challenges. Privacy concerns remain a primary issue, as users often lose direct control over their data once it is stored on servers owned and managed by cloud providers. This loss of control can create uncertainties regarding data privacy, unauthorized access, and compliance with regional regulations such as the General Data Protection Regulation (GDPR), the Health Insurance Portability and Accountability Act (HIPAA), and the California Consumer Privacy Act (CCPA). Service agreements and shared responsibility models define the boundaries of control and accountability between the cloud provider and the customer, but misunderstandings or mismanagement in these areas can still result in security breaches or accidental data loss. Cloud providers offer tools, such as AWS Artifact (compliance documentation and audits), Azure Compliance Manager (compliance assessments and risk analysis), and Google Assured Workloads (region-specific data compliance), to assist customers in managing compliance requirements. \\nSecurity issues in cloud computing are generally categorized into two broad groups. The first involves risks faced by cloud service providers, including vulnerabilities in their infrastructure, software, or third-party dependencies. The second includes risks faced by cloud customers, such as misconfigurations, inadequate access controls, and accidental data exposure. These risks are often amplified by human error or a lack of understanding of the shared responsibility model. Security responsibilities also vary depending on the service model—whether Infrastructure as a Service (IaaS), Platform as a Service (PaaS), or Software as a Service (SaaS). In general, cloud providers are responsible for hardware security, physical infrastructure, and software updates, while customers are responsible for data encryption, identity and access management (IAM), and application-level security. \\nAnother significant concern is uncertainty regarding guaranteed Quality of Service (QoS), particularly in multi-tenant environments where resources are shared among customers. Major cloud providers address these concerns through Service Level Agreements (SLAs), which define performance and uptime guarantees and often offer compensation in the form of service credits when guarantees are unmet. Automated management and remediation processes, supported by tools such as AWS CloudWatch, Azure Monitor, and Google Cloud Operations Suite, help detect and respond to large-scale failures. Despite these tools, managing QoS in highly distributed and multi-tenant systems remains complex. For latency-sensitive workloads, cloud providers have introduced edge computing solutions, such as AWS Wavelength, Azure Edge Zones, and Google Distributed Cloud Edge, to minimize latency by processing data closer to the end-user.  \\nJurisdictional and regulatory requirements regarding data residency and sovereignty introduce further complexity. Data stored in one region may fall under the legal jurisdiction of that region, creating potential conflicts for organizations operating across multiple geographies. Major cloud providers, such as AWS, Microsoft Azure, and Google Cloud, address these concerns by offering region-specific data centers and compliance management tools designed to align with regional regulations and legal frameworks. \\n\\n\\n== Factors Influencing Adoption and Suitability of Cloud Computing ==\\nThe decision to adopt cloud computing or maintain on-premises infrastructure depends on factors such as scalability, cost structure, latency requirements, regulatory constraints, and infra'), Document(metadata={'title': 'Elastic cloud storage', 'summary': \"An elastic cloud is a cloud computing offering that provides variable service levels based on changing needs.\\nElasticity is an attribute that can be applied to most cloud services. It states that the capacity and performance of any given cloud service can expand or contract according to a customer's requirements and that this can potentially be changed automatically as a consequence of some software-driven event or, at worst, can be reconfigured quickly by the customer's infrastructure management team.\\nElasticity has been described as one of the five main principles of cloud computing by Rosenburg and Mateos in The Cloud at Your Service - Manning 2011.\", 'source': 'https://en.wikipedia.org/wiki/Elastic_cloud_storage'}, page_content=\"An elastic cloud is a cloud computing offering that provides variable service levels based on changing needs.\\nElasticity is an attribute that can be applied to most cloud services. It states that the capacity and performance of any given cloud service can expand or contract according to a customer's requirements and that this can potentially be changed automatically as a consequence of some software-driven event or, at worst, can be reconfigured quickly by the customer's infrastructure management team.\\nElasticity has been described as one of the five main principles of cloud computing by Rosenburg and Mateos in The Cloud at Your Service - Manning 2011.\\n\\n\\n== History ==\\nCloud computing was first described by Gillet and Kapor in\\n1996;\\nhowever, the first practical implementation was a consequence of a strategy to leverage Amazon's excess data center capacity.\\nAmazon and other pioneers of the commercial use of this technology were primarily\\ninterested in providing a “public” cloud service, whereby they could offer customers the benefits of using the cloud, particularly the utility-based\\npricing model benefit.\\nOther suppliers followed suit with a range of cloud-based\\nmodels all offering elasticity as a core component, but these suppliers were\\nonly offering this service as an element of their public cloud service.\\nDue to perceived weaknesses in security, or at least a lack\\nof proven compliance, many organizations, particularly in the financial and\\npublic sectors, have been slow adopters of cloud technologies. These\\nwary organizations can achieve some of the benefits of cloud computing by\\nadopting private\\ncloud\\ntechnologies.\\nAn alternative form of the elastic cloud has been offered\\nby vendors such as EMC  and\\nIBM,\\nwhereby the service is based around an enterprise's own infrastructure but\\nstill retains elements of elasticity and the potential to bill by consumption.\\n\\n\\n== Description ==\\nElasticity in cloud computing is the ability for the\\norganization to adjust its storage requirements in terms of capacity and\\nprocessing with respect to operational requirements. This has the following\\nbenefits:\\nOperational Benefits - Services\\ncan be acquired quickly, meaning that the evolving requirements of the business\\ncan be addressed almost immediately, giving an organization a potential agility\\nadvantage. A properly implemented elastic system will provision/de-provision\\naccording to application demands, so if a particular business has activity\\nspikes then the provision can be enabled to match the demand and the capacity\\ncan be re-allocated.\\nResearch and Development (R&D) Projects - R&D activities are no\\nlonger hindered by a requirement to secure a capex budget prior to a project\\nstarting. Capability can simply be provisioned from the cloud and released at\\nthe end of the exercise.\\nTesting and Deployment - With\\nmost large-scale projects a size test needs to be performed prior to final\\nrollout. By taking advantage of the elasticity of the cloud and creating a full-scale\\navatar of the proposed production system, realistic data and traffic volumes\\ncan be provisioned and released as needed.  \\nExpensive Resources Allocated - This will normally apply only\\nin the context where a customer is applying at least some of their own servers\\nas part of a cloud infrastructure, specifically where a business (for\\nperformance reasons) has decided to invest in solid-state storage as opposed to\\nspinning platters. There are instances when, due to activity spikes, a less\\ncritical process may need to be moved from the high-performance resources to\\nmore traditional storage.\\nServer Specification - When\\na customer has elected to own/lease hardware, they can select and specify\\nservers that are specifically tuned to meet the likely needs of their operation\\n(i.e., directly controlling the cost/benefit equation).\\nUtility Based Payments - There\\nis, of course, a key cost driver in this process, and the notion that you\\nshould pay for what you consume is acceptable for many organizati\"), Document(metadata={'title': 'Google App Engine', 'summary': 'Google App Engine (also referred to as GAE or App Engine) is a cloud computing platform used as a service for developing and hosting web applications. Applications are sandboxed and run across multiple Google-managed servers. GAE supports automatic scaling for web applications, allocating more resources to the web application as the amount of requests increases. It was released as a preview in April 2008 and launched officially in September 2011.\\nApplications written in Go, PHP, Java, Python, Node.js, .NET, and Ruby are supported by the App Engine, and other languages can be supported at an additional cost. The free version of the service offers a standard environment with limited resources. Fees are charged for additional storage, bandwidth, or instance hours.', 'source': 'https://en.wikipedia.org/wiki/Google_App_Engine'}, page_content='Google App Engine (also referred to as GAE or App Engine) is a cloud computing platform used as a service for developing and hosting web applications. Applications are sandboxed and run across multiple Google-managed servers. GAE supports automatic scaling for web applications, allocating more resources to the web application as the amount of requests increases. It was released as a preview in April 2008 and launched officially in September 2011.\\nApplications written in Go, PHP, Java, Python, Node.js, .NET, and Ruby are supported by the App Engine, and other languages can be supported at an additional cost. The free version of the service offers a standard environment with limited resources. Fees are charged for additional storage, bandwidth, or instance hours.\\n\\n\\n== Features ==\\nGoogle App Engine primarily supports Go, PHP, Java, Python, Node.js, .NET, and Ruby applications, although it can also support other languages via \"custom runtimes\".\\nPython web frameworks that run on Google App Engine include Django, CherryPy, Pyramid, Flask, and web2py as well as a Google-written web app framework and several others designed specifically for the platform that was created after the release. Any Python framework that supports the WSGI using the CGI adapter can be used to create an application, and the framework can be uploaded with the developed application. Third-party libraries written in Python may also be uploaded.\\nSDK version 1.2.2 added support for bulk downloads of data using Python.\\nApp Engine\\'s integrated Google Cloud Datastore database has a SQL-like syntax called \"GQL\" (Google Query Language). GQL does not support the join statement. Instead, one-to-many and many-to-many relationships can be accomplished using ReferenceProperty().\\nGoogle Cloud Firestore is the successor to Google Cloud Datastore and replaces GQL with a document-based query method that treats stored objects as collections of documents. Firestore was launched in October 2017.\\n\\n\\n=== Backends ===\\nIn Google I/O 2011, Google announced App Engine Backends, which were allowed to run continuously and consume more memory. The Backend API was deprecated as of March 13, 2014, in favor of the Modules API. The Modules API introduced finer control over scaling, versioning, and resource allocation, allowing developers to run different parts of an application with distinct performance settings.\\n\\n\\n=== Google Cloud SQL ===\\nIn October 2011, Google previewed a zero-maintenance SQL database, which supports JDBC and DB-API. This service allows creating, configuring, and using relational databases with App Engine applications. Google Cloud SQL supports MySQL 8.0, 5.7, and 5.6.\\n\\n\\n=== Restrictions ===\\nDevelopers have read-only access to the file system on App Engine. Applications can use only virtual file systems.\\nApp Engine can only execute code called from an HTTP request (scheduled background tasks allow for self-calling HTTP requests).\\nUsers may upload arbitrary Python modules, but only if they are pure Python. C and Pyrex modules are not supported.\\nJava applications may only use a subset (The JRE Class White List) of the classes from the JRE standard edition. This restriction does not exist with the App Engine Standard Java8 runtime.\\nA process started on the server to answer a request can\\'t last more than 60 seconds (with the 1.4.0 release, this restriction does not apply to background jobs anymore).\\nDoes not support sticky sessions (a.k.a. session affinity), only replicated sessions are supported including limitation of the amount of data being serialized and time for session serialization.\\n\\n\\n=== Application hosting ===\\nWhile other services let users install and configure nearly any *NIX compatible software, App Engine requires developers to use only its supported languages, APIs, and frameworks. Current APIs allow storing and retrieving data from the document-oriented Google Cloud Datastore database, making HTTP requests, sending e-mail, manipulating images, and caching. Google '), Document(metadata={'title': 'Cilium (computing)', 'summary': 'Cilium is a cloud native technology for networking, observability, and security. It is based on the kernel technology eBPF, originally for better networking performance, and now leverages many additional features for different use cases. The core networking component has evolved from only providing a flat Layer 3 network for containers to including advanced networking features, like BGP and Service mesh, within a Kubernetes cluster, across multiple clusters, and connecting with the world outside Kubernetes. Hubble was created as the network observability component and Tetragon was later added for security observability and runtime enforcement. Cilium runs on Linux and is one of the first eBPF applications being ported to Microsoft Windows through the eBPF on Windows project.', 'source': 'https://en.wikipedia.org/wiki/Cilium_(computing)'}, page_content=\"Cilium is a cloud native technology for networking, observability, and security. It is based on the kernel technology eBPF, originally for better networking performance, and now leverages many additional features for different use cases. The core networking component has evolved from only providing a flat Layer 3 network for containers to including advanced networking features, like BGP and Service mesh, within a Kubernetes cluster, across multiple clusters, and connecting with the world outside Kubernetes. Hubble was created as the network observability component and Tetragon was later added for security observability and runtime enforcement. Cilium runs on Linux and is one of the first eBPF applications being ported to Microsoft Windows through the eBPF on Windows project.\\n\\n\\n== History ==\\nEvolution from Networking CNI (Container Network Interface)\\nCilium began as a networking CNI for container workloads. It was originally IPv6 only and supported multiple container orchestrators, like Kubernetes. The original vision for Cilium was to build an intent and identity-based high-performance container networking platform. As the cloud native ecosystem expanded, Cilium added new projects and features to address new problems in the space.\\nThe table below summarises some of the most significant milestones of this evolution:\\n\\nDecember 2015 - Initial commit to the Cilium project\\nMay 2016 - Network policy was added, expanding the scope beyond just networking\\nAugust 2016 - Cilium was initially announced during LinuxCon as a project providing fast IPv6 container networking with eBPF and XDP. Today, Cilium has been adopted by major cloud provider's Kubernetes offerings and is one of the most widely used CNIs.\\nAugust 2017 - ebpf-go was created as a library to read, modify, and load eBPF programs and attach them to various hooks.\\nApril 2018 - Cilium 1.0 is the first stable release\\nNovember 2019 - Hubble was launched to provide eBPF-based observability to network flows\\nAugust 2020 - Chosen by Google as the basis for their Kubernetes Dataplane v2\\nSeptember 2021 - AWS picks Cilium for Networking & Security on EKS Anywhere\\nOctober 2021 - Pwru was launched for tracing network packets in the Linux kernel with advanced filtering capabilities\\nOctober 2021 - Accepted into CNCF as an incubation level project\\nDecember 2021 - Cilium Service Mesh launched to help manage traffic between services\\nMay 2022 - Tetragon open sourced to cover security observability and runtime enforcement\\nOctober 2022 - Chosen as CNI for Azure\\nApril 2023 - Cilium Mesh launched to connect workloads and machines across cloud, on-prem, and edge\\nApril 2023 - First CiliumCon hosted as a part of KubeCon\\nOctober 2023 - Cilium becomes a CNCF Graduated project \\n\\n\\n=== CNCF ===\\nCilium was accepted into the Cloud Native Computing Foundation on October 13th, 2021 as an incubation-level project. It applied to become a graduated project on October 27th 2022. It became a Graduated project one year later. Cilium is one of the fastest-moving projects in the CNCF ecosystem.\\n\\n\\n=== Adoption ===\\nCilium has been adopted by many large-scale production users, including over 100 that have stated it publicly, for example:\\n\\nDatadog uses Cilium as their CNI and kube-proxy replacement\\nAscend uses Cilium as their one CNI across multiple cloud providers\\nBell Canada uses Cilium and eBPF for telco networking\\nCosmonic uses Cilium for their Nomad-based PaaS\\nIKEA uses Cilium for their self-hosted bare-metal private cloud\\nS&P Global uses Cilium as its CNI\\nSky uses Cilium as their CNI and for network security\\nThe New York Times uses Cilium on EKS for multi-region multi-tenant shared clusters\\nTrip.com uses Cilium both on premise and in AWS\\nOpenAI uses Cilium as their CNI\\nTikTok uses Cilium as their CNI in their IPv6-only datacenters\\nCilium is the CNI for many cloud providers including Alibaba, APPUiO, Azure, AWS, DigitalOcean, Exoscale, Google Cloud, Hetzner, and Tencent Cloud.\\n\\n\\n== Projects overview ==\\n\\n\\n=== Cilium ==\"), Document(metadata={'title': 'Cloud-Based Secure File Transfer', 'summary': 'Cloud-Based Secure File Transfer is a managed or hosted file transfer service that provides cloud storage that can be accessed via SSH File Transfer Protocol (SFTP). These services allow secure, reliable file transfers while offering the scalability, redundancy, and high availability of cloud infrastructure.', 'source': 'https://en.wikipedia.org/wiki/Cloud-Based_Secure_File_Transfer'}, page_content='Cloud-Based Secure File Transfer is a managed or hosted file transfer service that provides cloud storage that can be accessed via SSH File Transfer Protocol (SFTP). These services allow secure, reliable file transfers while offering the scalability, redundancy, and high availability of cloud infrastructure.\\n\\n\\n== Technical overview ==\\nThe evolution of file transfer protocols began with File Transfer Protocol (FTP) and SSH File Transfer Protocol (SFTP). SFTP offered enhanced security through the use of SSH (Secure Shell) encryption, which addressed many of the security concerns associated with traditional FTP.\\nOver time, as businesses increasingly adopted cloud infrastructure, the demand for services that integrate secure file transfer with cloud storage led to the rise of Cloud-Based Secure File Transfer services. These services combine the benefits of secure, encrypted file transfer with the scalability and flexibility of cloud-based storage systems.\\nTraditional on-premises SFTP typically involves setting up and managing physical or virtual servers to handle file transfers. In contrast, Cloud-Based Secure File Transfer utilizes managed cloud infrastructure, such as AWS EC2, Azure VMs, or Google Cloud, to automate scaling, ensure redundancy, and provide high availability. These cloud environments can be configured to automatically scale with demand, enabling businesses to handle large volumes of data transfers without the need for extensive physical hardware.\\n\\n\\n== Features ==\\nScalability and availability: Cloud-Based Secure File Transfer services are inherently scalable, with features like load balancing, multi-region deployments, and auto-scaling groups that adjust resources in response to traffic spikes. This ensures that the system can handle varying workloads and provides continuous availability, even during high-demand periods.\\nCost-effectiveness: By eliminating the need for physical infrastructure and reducing ongoing server maintenance costs, Cloud-Based Secure File Transfer services offer significant cost savings compared to traditional on-premises services. Cloud providers typically offer pay-as-you-go pricing models, where users only pay for the resources they use, further optimizing costs.\\nSecurity and compliance: Cloud-Based Secure File Transfer products offer strong security measures, including end-to-end encryption, key management, detailed logging, and auditing. These services are often compliant with industry regulations such as HIPAA (Health Insurance Portability and Accountability Act), GDPR (General Data Protection Regulation), and SOC 2 (System and Organization Controls), ensuring that data transfers meet necessary security and privacy standards.\\n\\n\\n== Cloud-Based Secure File Transfer providers ==\\n\\n\\n== Uses ==\\nCloud-Based Secure File Transfer is used across various industries to securely transfer sensitive data and integrate into business workflows. In healthcare, Cloud-Based Secure File Transfer is essential for securely transferring electronic Protected Health Information (ePHI), ensuring compliance with regulations like HIPAA. In financial institutions, it is used to protect sensitive financial data during transfer, maintaining privacy and security. Data analytics also benefits from Cloud-Based Secure File Transfer, offering a secure and efficient method for transferring large datasets between systems or partners.\\nTechnically, Cloud-Based Secure File Transfer is often integrated into enterprise workflows through automated file transfers, using scripting or APIs. It also plays a key role in cloud backup and disaster recovery, ensuring that files are securely transferred and stored in cloud environments, which supports business continuity.\\nHowever, businesses must address certain implementation challenges. Despite its secure design, Cloud-Based Secure File Transfer is not immune to risks such as misconfigured SSH keys, improper access control, or inadequate encryption.\\nRegular security audits and careful co'), Document(metadata={'title': 'OASIS TOSCA', 'summary': 'Topology and Orchestration Specification for Cloud Applications (TOSCA) is an OASIS standard language to describe a topology of cloud based web services, their components, relationships, and the processes that manage them. The TOSCA standard includes specifications of a file archive format called CSAR.', 'source': 'https://en.wikipedia.org/wiki/OASIS_TOSCA'}, page_content='Topology and Orchestration Specification for Cloud Applications (TOSCA) is an OASIS standard language to describe a topology of cloud based web services, their components, relationships, and the processes that manage them. The TOSCA standard includes specifications of a file archive format called CSAR.\\n\\n\\n== History ==\\nOn 16 January 2014, OASIS TOSCA Technical Committee approved TOSCA 1.0 as a standard. Version 1.3 was approved on 26 February 2020  and work is ongoing to define version 2.0\\n\\n\\n== Specification ==\\nThe specification is fully described in the standard  and has been cited in academic papers such as \\n\\n\\n=== Related specifications ===\\nCommercialization of cloud computing offerings has required manageability of tenant applications, particularly on a large scale.  As such, vendors who offer their services to a wide market have written related standards that predate, or have been developed concurrently, with the OASIS TOSCA standard.\\n\\n\\n==== Amazon AWS CloudFormation template ====\\nThe AWS CloudFormation template is a JSON data standard to allow cloud application administrators to define a collection of related AWS resources.\\nCloudFormation is a proprietary format from AWS, that is not TOSCA based, and therefore does not bring the promise OASIS TOSCA is targeting.\\nCheck this grammar  compared to the OASIS TOSCA one \\n.\\n\\n\\n==== OpenStack Heat ====\\nThe OpenStack Foundation has also defined a similar standard for specifying resources and the orchestrations for managing infrastructure, and application lifecycles.  The heat-translator project was one of the first to adopt TOSCA for standardized templating.\\n\\n\\n== Related projects ==\\n\\n\\n=== Cloudify ===\\nCloudify allows organizations an effortless transition to public cloud and Cloud-Native architecture by enabling them to automate their existing infrastructure alongside cloud native and distributed edge resources. Cloudify also allows users to manage different orchestration and automation domains as part of one common CI/CD pipeline.\\nCloudify is an open source, multi-cloud orchestration platform featuring unique technology that packages infrastructure, networking, and existing automation tools into certified blueprints. It is an open-source cloud orchestration framework. which enables you to model applications and services and automate their entire life cycle.\\n\\n\\n=== Alien4Cloud ===\\nApplication LIfecycle ENabler for Cloud (Alien4Cloud) is an open-source TOSCA based designer and cloud application lifecycle management platform. It is integrated with Yorc for runtime orchestration though other orchestrators can be plugged to it.\\n\\n\\n=== Opera (xOpera orchestrator) ===\\nThe xOpera project provides a set of tools for orchestration and automation of the cloud applications. The xOpera includes Opera orchestrator (Python library), a lightweight, open-source and state-aware orchestrator based on Ansible and TOSCA Simple Profile in YAML v1.3. The project also includes a tool, called Template Library Publishing Service, for publishing TOSCA components and templates. In 2021 xOpera project was presented on the TOSCA TC implementation stories webinar.\\n\\n\\n=== Yorc ===\\nYstia Orchestrator (Yorc) is an open-source TOSCA orchestration engine. It aims to support the whole application lifecycle, from deployment, scaling, monitoring, self-healing, self-scaling to application upgrade, over hybrid infrastructures (IaaS, HPC schedulers, CaaS).\\n\\n\\n=== Ubicity ===\\nUbicity provides tooling and orchestrators based on TOSCA.\\n\\n\\n=== MiCADOscale ===\\nMiCADOscale is an open-source TOSCA-based cloud resource orchestration framework for applications using Docker.\\n\\n\\n=== Infrastructure Manager ===\\nInfrastructure Manager (IM)  is an open-source TOSCA-based orchestration framework based on YAML.\\n\\n\\n== Related research projects ==\\n\\n\\n=== CloudCycle ===\\nCloudCycle was funded by the German Federal Ministry for Economic Affairs and Energy and ran from November 2011 to October 2014.\\nIt covered an open source TOSCA modeler and an open sou'), Document(metadata={'title': 'Carbyne (company)', 'summary': 'Carbyne (formerly Reporty Homeland Security) is an Israeli technology company that develops advanced emergency communication solutions. Founded in 2015, Carbyne focuses on providing real-time video, location, and data transmission to enhance emergency response systems worldwide. Its platform enables public safety answering points (PSAPs) to receive critical information from callers, improving response times and situational awareness. The company, headquartered in New York with R&D operations in Tel Aviv, has attracted significant investments and partnered with global telecoms, though it has faced scrutiny due to some of its historical and current investors.\\nCarbyne’s technology has been adopted by emergency services in 23 U.S. states and several other countries, including deployments in cities such as Miami, Atlanta, New Orleans, New York City and by agencies in Mexico and Colombia. In Israel, its platform has been used by the Tel Aviv and Jerusalem municipalities and the volunteer emergency organization United Hatzalah.', 'source': 'https://en.wikipedia.org/wiki/Carbyne_(company)'}, page_content='Carbyne (formerly Reporty Homeland Security) is an Israeli technology company that develops advanced emergency communication solutions. Founded in 2015, Carbyne focuses on providing real-time video, location, and data transmission to enhance emergency response systems worldwide. Its platform enables public safety answering points (PSAPs) to receive critical information from callers, improving response times and situational awareness. The company, headquartered in New York with R&D operations in Tel Aviv, has attracted significant investments and partnered with global telecoms, though it has faced scrutiny due to some of its historical and current investors.\\nCarbyne’s technology has been adopted by emergency services in 23 U.S. states and several other countries, including deployments in cities such as Miami, Atlanta, New Orleans, New York City and by agencies in Mexico and Colombia. In Israel, its platform has been used by the Tel Aviv and Jerusalem municipalities and the volunteer emergency organization United Hatzalah.\\n\\n\\n== History ==\\nCarbyne was founded in April 2015 by Amir Elichai (who serves as CEO), along with Alex Dizengoff (CTO), Yony Yatsun, and Lital Leshem under the name Reporty Homeland Security. The startup initially developed a platform for live video streaming and geolocation data to assist emergency call centers.\\nThe company rebranded to Carbyne in early 2018 – a name referencing an extremely strong allotrope of carbon. By 2018 Carbyne had raised about $24 million in venture funding (including backing from Founders Fund, the first Israeli startup in that fund’s portfolio) and was valued near $100 million.\\nIn April 2019, the company began collaborating with Cisco, the network equipment giant, to incorporate their hardware into its systems. Two months later, Carbyne announced a partnership with Google to integrate Android phone location services into emergency command centers across Mexico.\\nCarbyne established its headquarters in New York City in October 2019 while maintaining R&D operations in Tel Aviv, and it expanded with offices in the United States, Mexico, Europe, India, and Ukraine.\\nIn 2025, it secured a $100 million funding round led by strategic partners like AT&T, and reported deployments in roughly 300 emergency response centers worldwide.\\n\\n\\n== Products ==\\nCarbyne develops cloud-based “Next Generation 911” (NG911) solutions aimed at modernizing emergency communication. Its platform enables real-time transmission of rich data from callers to public safety answering points (PSAPs). For example, when a distress call is made, Carbyne’s system can provide the 911 dispatcher with the caller’s precise GPS location, live video feed from the caller’s smartphone camera, audio streaming, text messaging, and other telemetry in parallel with the voice call. The company offers both an app-based service and an app-free option. With the Carbyne mobile app (previously called “C-Now”), users can pre-install it on iOS or Android to automatically send video and location data during an emergency call.\\nAlternatively, Carbyne’s web-based feature (known as “C-Lite”) allows a 911 center to text an auto-generated URL link to a caller, which when tapped activates the phone’s camera and streams video and location to the dispatcher – all without requiring the caller to have any app installed. Both methods are cloud-native and work with legacy 911 infrastructure by creating an over-the-top data channel, enabling quick deployment with minimal changes to existing call centers. Carbyne claims its technology can significantly improve response efficiency (reducing emergency response times by up to 65% on average) by providing first responders with critical situational information before they arrive on scene. The platform also includes capabilities for indoor positioning (to locate callers inside buildings) and integration of additional data sources such as IoT sensors or surveillance feeds to give a comprehensive picture of an incident'), Document(metadata={'title': 'MongoDB Inc.', 'summary': 'MongoDB, Inc. is an American software company that develops and provides commercial support for the source-available database engine MongoDB, a database for unstructured data. Over the years, the company has expanded the product from its NoSQL roots to have broader appeal to enterprise customers, such as adding ACID and transactions.\\nIn 2016, the company introduced a SaaS version of the product, called Atlas. As of 2025 there were 59,000 MongoDB customers.\\nIn 2018, the company abandoned AGPL licensing of its product and in its stead introduced the Server Side Public License, which is not OSI-approved.\\nMongoDB, Inc. is a member of the MACH Alliance.', 'source': 'https://en.wikipedia.org/wiki/MongoDB_Inc.'}, page_content=\"MongoDB, Inc. is an American software company that develops and provides commercial support for the source-available database engine MongoDB, a database for unstructured data. Over the years, the company has expanded the product from its NoSQL roots to have broader appeal to enterprise customers, such as adding ACID and transactions.\\nIn 2016, the company introduced a SaaS version of the product, called Atlas. As of 2025 there were 59,000 MongoDB customers.\\nIn 2018, the company abandoned AGPL licensing of its product and in its stead introduced the Server Side Public License, which is not OSI-approved.\\nMongoDB, Inc. is a member of the MACH Alliance.\\n\\n\\n== History ==\\nThe company was first established in 2007 as 10gen. Based in New York City, 10gen was founded by former DoubleClick founder and CTO Dwight Merriman and former DoubleClick CEO and Gilt Groupe founder Kevin P. Ryan with former DoubleClick engineer and ShopWiki founder and CTO Eliot Horowitz and received $81 million in venture capital funding from Flybridge Capital Partners, In-Q-Tel, Intel Capital, New Enterprise Associates (NEA), Red Hat, Sequoia Capital, and Union Square Ventures. 10gen originally aimed to build a platform as a service architecture based entirely on open source components; however, the company was unable to find an existing database platform that met their principles for a cloud architecture. As a result, the company began to develop a document-oriented database system it called MongoDB. After realizing the potential of the software on its own, 10gen's team decided to scrap its cloud platform and focus on maintaining MongoDB instead. In February 2009, 10gen released MongoDB as an open source project. 10gen opened its first west coast office in August 2010, having offices in Palo Alto, Reston, London, Dublin, Barcelona, and Sydney by 2012.\\nIn September 2012, 10gen was in The Wall Street Journal's The Next Big Thing 2012.\\nOn August 27, 2013, 10gen announced that it would change its name to MongoDB Inc., associating itself more closely with what became its flagship products.\\nIn 2013, the Identification Authority of India adopted MongoDB's software to analyze registration trends for new identity documents used to obtain government benefits in India. This raised concerns of potential espionage, since at-the-time MongoDB was partially funded by the United States CIA venture capital arm, In-Q-Tel. As of 2013, there is no evidence in the public domain the CIA actually has any influence over MongoDB.\\nOn August 5, 2014, Dev Ittycheria was appointed president and chief executive officer.\\nBy 2017, MongoDB had raised $311 million in funding from venture capitalists. MongoDB filed for an initial public offering on September 21, 2017 and went public on NASDAQ that October 20. It raised $192 million, valuing the company at $1.6 billion overall. Its market capitalization varied greatly afterwards, reaching $39 billion in 2021 and coming back down to $10 billion by 2024.\\nMongoDB acquired database engine company WiredTiger in 2014, followed by database-as-a-service company MLab for $68 million in 2018. The following year, in 2019, MongoDB acquired a mobile-focused database company called Realm for $39 million.\\nA secondary public offering was held on June 29, 2021. In 2022, MongoDB established its own venture capital fund.\\n\\n\\n== Software ==\\nAs of 2025, MongoDB was the fifth most popular database software. It focuses mostly on managing large databases of unstructured data. It's typically used for mobile and web apps that commonly use unstructured databases. As of 2024, there were 50,000 MongoDB customers. MongoDB was originally best known as a NoSQL database product. The company released a database as-a-service product called Atlas in 2016 that became 70 percent of MongoDB's revenue by 2024. Over time, MongoDB added analytics, transactional databases, encryption, vector databases, ACID, migration features, and other enterprise tools. Initially, the MongoDB software was fr\"), Document(metadata={'title': 'Pegasystems', 'summary': 'Pegasystems Inc. (Pega) is a global software company based in Waltham, Massachusetts, in the United States, and founded in 1983. The company has been publicly traded since 1996 as PEGA (NASDAQ). Pega is a platform for workflow automation and generative AI-powered decision-making for businesses.', 'source': 'https://en.wikipedia.org/wiki/Pegasystems'}, page_content=\"Pegasystems Inc. (Pega) is a global software company based in Waltham, Massachusetts, in the United States, and founded in 1983. The company has been publicly traded since 1996 as PEGA (NASDAQ). Pega is a platform for workflow automation and generative AI-powered decision-making for businesses.\\n\\n\\n== History ==\\n\\n\\n=== Early history ===\\nAlan Trefler founded Pegasystems in 1983 at the age of 27 in Cambridge, Massachusetts. Prior to founding the company, in the early 1980s, Trefler had developed computer systems that could play chess. During the company's early years, it focused on providing case management, namely for companies such as American Express. The company went public in 1996 with initial and secondary public offerings,  and began trading on NASDAQ under the symbol PEGA.\\n\\n\\n=== 2010–2019 ===\\nIn March 2010, Pegasystems acquired the enterprise software company Chordiant for around $161.5 million. The acquisition expanded Pegasystems into online training, telecommunications, and healthcare, integrating Chordiant’s CRM technology into its operations. Pega Cloud was introduced using Amazon Web Services in 2012, and in October 2013, Pegasystems acquired the mobile application developer (based in Kraków and Bangalore) Antenna Software for $27.7 million.\\nIn 2014, Pegasystems invested in network operations in North America and India to support its cloud services. In 2014, Pegasystems acquired MeshLabs, a Bangalore-based text mining startup, and Firefly, a co-browsing tool.\\nAs of February 2015, the company had active partnerships with IT outsourcing companies such as Hexaware, NIIT Incessant Technologies, Tata Consultancy Services, Infosys, Wipro, HCL Technologies, Accenture, and Cognizant. Between 2005 and 2015, Pegasystems had an average sales growth of 21% per year. The company Pegasystems acquired OpenSpan Inc., an Atlanta-based company specializing in robotic process automation and workforce analytics software.\\nIn February 2019, Pegasystems purchased Infruid Labs, a business analytics and data visualization software company. In May 2019, the company bought In The Chat, a digital messaging platform.\\n\\n\\n=== 2020–present ===\\nIn April 2020, during the COVID-19 pandemic, Pegasystems launched an application for financial institutions to manage emergency loan applications from small businesses seeking COVID-19 financial relief. Throughout 2020, Pegasystems helped several of its clients, including the Bavarian government and the Commonwealth Bank of Australia, develop apps to manage issues that arose because of COVID-19.\\nIn May 2020, Pegasystems sponsored a Dropkick Murphys benefit concert at Fenway Park, featuring a virtual appearance by Bruce Springsteen. The live-streamed event raised over $700,000 for COVID relief and supported Habitat for Humanity, Feeding America, and the Boston Resiliency Fund.\\nIn January 2021, the company announced it had acquired Qurious.io, which provides a cloud service that analyzes voice calls in real time to support customer service representatives.\\nIn 2021, Pegasystems moved its headquarters to Waltham, Massachusetts, became the official Ryder Cup supplier, and sponsored golfers Marc Leishman and Mel Reid, with Reid notably wearing the company’s Pride logo in competition.\\nIn May 2022, a jury verdict awarded Appian Corporation $2.036 billion in damages for trade secret misappropriation and a damages award of $1 for a violation of the Virginia Computer Crimes Act. The company will not be required to begin paying the judgment until all avenues of appeal have been exhausted. In February 2023, Pega filed an appeal asking the court to overturn the previous judgment and either rule in Pega’s favor or order a new trial.\\nIn 2022, Pegasystems acquired Everflow, a Brazilian process mining company to support their process mining and hyper automation goals.\\nIn 2024, Pega expanded its GenAI capabilities to integrate with Large Language Models (LLMs) from Amazon Web Services (AWS) and Google Cloud.\\n\\n\\n== Products and ser\"), Document(metadata={'title': 'Network Device Interface', 'summary': 'Network Device Interface (NDI) is a software specification developed by the technology company NewTek. It enables high-definition video to be transmitted, received, and communicated over a computer network with low latency and high quality. This royalty-free specification supports frame-accurate switching, making it suitable for live video production environments.', 'source': 'https://en.wikipedia.org/wiki/Network_Device_Interface'}, page_content='Network Device Interface (NDI) is a software specification developed by the technology company NewTek. It enables high-definition video to be transmitted, received, and communicated over a computer network with low latency and high quality. This royalty-free specification supports frame-accurate switching, making it suitable for live video production environments.\\n\\n\\n== Technology ==\\nNDI is designed to run over gigabit Ethernet with the NDI codec. It delivers 1080i high-definition video at variable data rates typically around 100 Mbit/s.\\nBy default, NDI uses multicast DNS to advertise sources on a local area network, such that NDI receivers can automatically discover and offer those sources. It also supports two other discovery modes (NDI Access, NDI Discovery Server) that allow for operations across subnets and without multicast DNS. Sources are created using an arbitrarily selected TCP port from a range of ports on the NDI senders. When a source is requested, a TCP connection is established on the appropriate port with the NDI receiver connecting to the NDI sender. NDI 3.x has options to use UDP multicast or unicast with forward error correction (FEC) instead of TCP, and can load balance streams across multiple network interface controllers (NICs) without using link aggregation. NDI version 4.0 introduces the Multi-TCP transport.\\nNDI carries video, multichannel uncompressed audio, and metadata. Metadata messages can be sent in both directions allowing the sender and receiver to message one another over the connection with arbitrary metadata in XML form. This directional metadata system allows for functionality such as active tally information fed back to sources to understand that they are on-air. NDI also allows senders to determine the number of connected receivers, so they can skip unnecessary processing and network bandwidth utilisation when there are no NDI receiver clients connected. NDI Receivers can opt to connect to various combinations of streams, to support, for instance, audio-only or metadata-only connections where video is not required.\\nThe NDI software development kit (SDK) is available for Windows, Linux, and MacOS, and has also been ported to iOS, tvOS, Android, Raspberry Pi, and FPGA. The Standard NDI SDK is available via a royalty-free proprietary license. The NDI Advanced SDK offers OEMs direct access to and from compressed data and other features, with a commercial license.\\n\\n\\n== Comparison of common IP video protocols ==\\nOther IP video protocols for use in professional video production (rather than IP video used for distribution to end users) include SMPTE 2022, SMPTE 2110, ASPEN (largely superseded by SMPTE 2110) and Sony NMI. There are clear differences in the technology used by these protocols. \\n\\n\\n== History ==\\nNDI was publicly revealed by NewTek on 8 September 2015 and was demonstrated at the International Broadcasting Convention in Amsterdam that week.  The first device shown using NDI was the NewTek TriCaster which delivered an NDI feed from each of its SDI inputs as well as four output feeds from its vision mixer. The TriCaster could also receive up to two NDI sources from other devices.\\nNewTek had previously created a predecessor of NDI called AirSend to get video from external devices into their TriCaster products. AirSend had been implemented by a number of character generator (CG) vendors including Vizrt and Chyron. In order to quickly bring these products into the NDI space, NewTek created a new driver to replace the existing AirSend driver, which could be installed on these existing AirSend-compatible devices, instantly converting them to NDI-compatible devices with no change required by the original CG vendors.\\nBirdDog was an early adopter and in 2018 released Studio NDI, an ASIC implementation of NDI. BirdDog went on to deliver NDI PTZ cameras, along with a host of software applications.\\nAnother early adopter of NDI was VMix, a Windows-based vision mixer that offers NDI inputs and outputs. '), Document(metadata={'title': 'Multi-access edge computing', 'summary': 'Multi-access edge computing (MEC), formerly mobile edge computing, is an ETSI-defined network architecture concept that enables cloud computing capabilities and an IT service environment at the edge of the cellular network and, more in general at the edge of any network. The basic idea behind MEC is that by running applications and performing related processing tasks closer to the cellular customer, network congestion is reduced and applications perform better. MEC technology is designed to be implemented at the cellular base stations or other edge nodes, and enables flexible and rapid deployment of new applications and services for customers. Combining elements of information technology and telecommunications networking, MEC also allows cellular operators to open their radio access network (RAN) to authorized third parties, such as application developers and content providers.\\nTechnical standards for MEC are being developed by the European Telecommunications Standards Institute, which has produced a technical white paper about the concept.', 'source': 'https://en.wikipedia.org/wiki/Multi-access_edge_computing'}, page_content='Multi-access edge computing (MEC), formerly mobile edge computing, is an ETSI-defined network architecture concept that enables cloud computing capabilities and an IT service environment at the edge of the cellular network and, more in general at the edge of any network. The basic idea behind MEC is that by running applications and performing related processing tasks closer to the cellular customer, network congestion is reduced and applications perform better. MEC technology is designed to be implemented at the cellular base stations or other edge nodes, and enables flexible and rapid deployment of new applications and services for customers. Combining elements of information technology and telecommunications networking, MEC also allows cellular operators to open their radio access network (RAN) to authorized third parties, such as application developers and content providers.\\nTechnical standards for MEC are being developed by the European Telecommunications Standards Institute, which has produced a technical white paper about the concept.\\n\\n\\n== Distributed computing in the RAN ==\\nMEC provides a distributed computing environment for application and service hosting. It also has the ability to store and process content close to cellular subscribers, for faster response time. Applications can also be exposed to real-time radio access network (RAN) information.\\nThe key element is the MEC application server, which is integrated at the RAN element. This server provides computing resources, storage capacity, connectivity and access to RAN information. It supports a multitenancy run-time and hosting environment for applications.  The virtual appliance applications are delivered as packaged operating system virtual machine (VM) images or containers incorporating operating systems and applications. The platform also provides a set of middleware application and infrastructure services. Application software can be provided from equipment vendors, service providers and third-parties.\\n\\n\\n== Deployment ==\\nThe MEC application server can be deployed at the macro base station EnodeB that is part of an LTE cellular network, or at the Radio Network Controller (RNC) that is part of a 3G cellular network and at a multi-technology cell aggregation site. The multi-technology cell aggregation site can be located indoors or outdoors.\\n\\n\\n== Business and technical benefits ==\\nBy using mobile edge computing technology, a cellular operator can efficiently deploy new services for specific customers or classes of customers. The technology also reduces the signal load of the core network, and can host applications and services in a less costly way. It also collects data about storage, network bandwidth, CPU utilization, etc., for each application or service deployed by a third party. Application developers and content providers can take advantage of close proximity to cellular subscribers and real-time RAN information.\\nMEC has been created using open standards and application programming interfaces (APIs), using common programming models, relevant tool chains and software development kits to encourage and expedite the development of new applications for the new MEC environment.\\n\\n\\n== Applications ==\\nSince MEC architecture has only recently been proposed, there are as yet very few applications that have adopted this architecture. However, many case studies have been proposed in recent articles. Some of the notable applications in mobile edge computing are computational offloading, content delivery, mobile big data analytics, edge video caching, collaborative computing, connected cars, smart venues, smart enterprises, healthcare, smartgrids, service function chaining, indoor positioning, etc.\\n\\n\\n== Current uses ==\\nSome applications which incorporate MEC were made available in 2015. For example, active device location tracking allows operators to track active terminal equipment, independent of Global Positioning System devices. This is based on third-party geolocati'), Document(metadata={'title': 'Confidential computing', 'summary': 'Confidential computing is a security and privacy-enhancing computational technique focused on protecting data in use. Confidential computing can be used in conjunction with storage and network encryption, which protect data at rest and data in transit respectively. It is designed to address software, protocol, cryptographic, and basic physical and supply-chain attacks, although some critics have demonstrated architectural and side-channel attacks effective against the technology.\\nThe technology protects data in use by performing computations in a hardware-based trusted execution environment (TEE). Confidential data is released to the TEE only once it is assessed to be trustworthy. Different types of confidential computing define the level of data isolation used, whether virtual machine, application, or function, and the technology can be deployed in on-premise data centers, edge locations, or the public cloud. It is often compared with other privacy-enhancing computational techniques such as fully homomorphic encryption, secure multi-party computation, and Trusted Computing.\\nConfidential computing is promoted by the Confidential Computing Consortium (CCC) industry group, whose membership includes major providers of the technology.\\n\\n', 'source': 'https://en.wikipedia.org/wiki/Confidential_computing'}, page_content='Confidential computing is a security and privacy-enhancing computational technique focused on protecting data in use. Confidential computing can be used in conjunction with storage and network encryption, which protect data at rest and data in transit respectively. It is designed to address software, protocol, cryptographic, and basic physical and supply-chain attacks, although some critics have demonstrated architectural and side-channel attacks effective against the technology.\\nThe technology protects data in use by performing computations in a hardware-based trusted execution environment (TEE). Confidential data is released to the TEE only once it is assessed to be trustworthy. Different types of confidential computing define the level of data isolation used, whether virtual machine, application, or function, and the technology can be deployed in on-premise data centers, edge locations, or the public cloud. It is often compared with other privacy-enhancing computational techniques such as fully homomorphic encryption, secure multi-party computation, and Trusted Computing.\\nConfidential computing is promoted by the Confidential Computing Consortium (CCC) industry group, whose membership includes major providers of the technology.\\n\\n\\n== Properties ==\\nTrusted execution environments (TEEs) \"prevent unauthorized access or modification of applications and data while they are in use, thereby increasing the security level of organizations that manage sensitive and regulated data\". Trusted execution environments can be instantiated on a computer\\'s processing components such as a central processing unit (CPU) or a graphics processing unit (GPU).  In their various implementations, TEEs can provide different levels of isolation including virtual machine, individual application, or compute functions.\\nTypically, data in use in a computer\\'s compute components and memory exists in a decrypted state and can be vulnerable to examination or tampering by unauthorized software or administrators. According to the CCC, confidential computing protects data in use through a minimum of three properties:\\n\\nData confidentiality: \"Unauthorized entities cannot view data while it is in use within the TEE\".\\nData integrity: \"Unauthorized entities cannot add, remove, or alter data while it is in use within the TEE\".\\nCode integrity: \"Unauthorized entities cannot add, remove, or alter code executing in the TEE\".\\nIn addition to trusted execution environments, remote cryptographic attestation is an essential part of confidential computing.  The attestation process assesses the trustworthiness of a system and helps ensure that confidential data is released to a TEE only after it presents verifiable evidence that it is genuine and operating with an acceptable security posture.  It allows the verifying party to assess the trustworthiness of a confidential computing environment through an \"authentic, accurate, and timely report about the software and data state\" of that environment. \"Hardware-based attestation schemes rely on a trusted hardware component and associated firmware to execute attestation routines in a secure environment\". Without attestation, a compromised system could deceive others into trusting it, claim it is running certain software in a TEE, and potentially compromise the confidentiality or integrity of the data being processed or the integrity of the trusted code.\\n\\n\\n== Technical approaches ==\\nTechnical approaches to confidential computing may vary in which software, infrastructure and administrator elements are allowed to access confidential data. The \"trust boundary,\" which circumscribes a trusted computing base (TCB), defines which elements have the potential to access confidential data, whether they are acting benignly or maliciously.  Confidential computing implementations enforce the defined trust boundary at a specific level of data isolation. The three main types of confidential computing are:\\n\\nVirtual machine isolation\\nApplication isolation'), Document(metadata={'title': 'Continuous delivery', 'summary': 'Continuous delivery (CD) is a software engineering approach in which teams produce software in short cycles, ensuring that the software can be reliably released at any time. It aims at building, testing, and releasing software with greater speed and frequency. The approach helps reduce the cost, time, and risk of delivering changes by allowing for more incremental updates to applications in production. A straightforward and repeatable deployment process is important for continuous delivery.', 'source': 'https://en.wikipedia.org/wiki/Continuous_delivery'}, page_content='Continuous delivery (CD) is a software engineering approach in which teams produce software in short cycles, ensuring that the software can be reliably released at any time. It aims at building, testing, and releasing software with greater speed and frequency. The approach helps reduce the cost, time, and risk of delivering changes by allowing for more incremental updates to applications in production. A straightforward and repeatable deployment process is important for continuous delivery.\\n\\n\\n== Principles ==\\nAccording to Neal Ford, continuous delivery adopts \"Bring the pain forward,\" tackling tough tasks early, fostering automation and swift issue detection. \\nContinuous delivery treats the commonplace notion of a deployment pipeline as a lean Poka-Yoke: a set of validations through which a piece of software must pass on its way to release. Code is compiled if necessary and then packaged by a build server every time a change is committed to a source control repository, then tested by a number of different techniques (possibly including manual testing) before it can be marked as releasable.\\nDevelopers used to a long cycle time may need to change their mindset when working in a CD environment. Any code commit may be released to customers at any point. Patterns such as feature toggles can be very useful for committing code early which is not yet ready for use by end users. Using NoSQL can eliminate the step of data migrations and schema changes, often manual steps or exceptions to a continuous delivery workflow. Other useful techniques for developing code in isolation such as code branching are not obsolete in a CD world, but must be adapted to fit the principles of CD - for example, running multiple long-lived code branches can prove impractical, as a releasable artifact must be built early in the CD process from a single code branch if it is to pass through all phases of the pipeline.\\n\\n\\n== Deployment pipeline ==\\n\\nContinuous delivery is enabled through the deployment pipeline. The purpose of the deployment pipeline has three components: visibility, feedback, and continually deploy.\\n\\nVisibility – All aspects of the delivery system including building, deploying, testing, and releasing are visible to every member of the team to promote collaboration.\\nFeedback – Team members learn of problems as soon as possible when they occur so that they are able to fix them as quickly as possible.\\nContinually deploy – Through a fully automated process, you can deploy and release any version of the software to any environment.\\n\\nAccording to Yan Cui, when it comes to serverless environments, ephemeral resources should be kept together and have their own deployment pipeline to achieve a high cohesion. However, shared resources that have a long spin-up time and landing zone should have their own separate repository, deployment pipeline and stack. \\n\\n\\n== Tools/tool types ==\\nContinuous delivery takes automation from source control all the way through production. There are various tools that help accomplish all or part of this process. These tools are part of the deployment pipeline which includes continuous delivery. The types of tools that execute various parts of the process include: continuous integration, application release automation, build automation, application lifecycle management.\\n\\n\\n== Architecting for continuous delivery ==\\nTo practice continuous delivery effectively, software applications have to meet a set of architecturally significant requirements (ASRs) such as deployability, modifiability, and testability. These ASRs require a high priority and cannot be traded off lightly.\\nMicroservices are often used when architecting for continuous delivery. The use of Microservices can increase a software system\\'s deployability and modifiability. The observed deployability improvements include: deployment independence, shorter deployment time, simpler deployment procedures, and zero downtime deployment. The observed modifiability improvements incl'), Document(metadata={'title': 'OpenAI', 'summary': 'OpenAI is an American artificial intelligence (AI) organization headquartered in San Francisco, California. It aims to develop \"safe and beneficial\" artificial general intelligence (AGI), which it defines as \"highly autonomous systems that outperform humans at most economically valuable work\". As a leading organization in the ongoing AI boom, OpenAI is known for the GPT family of large language models, the DALL-E series of text-to-image models, and a text-to-video model named Sora. Its release of ChatGPT in November 2022 has been credited with catalyzing widespread interest in generative AI.\\nThe organization has a complex corporate structure. As of October 2025, it is led by the non-profit OpenAI Foundation, founded in 2015 and registered in Delaware, which holds a 26% equity stake in OpenAI Group PBC, a for-profit public benefit corporation which commercializes its products. Microsoft invested over $13 billion into OpenAI, and provides Azure cloud computing resources. In October 2025, OpenAI conducted a $6.6 billion share sale that valued the company at $500 billion. On 28 October 2025, OpenAI said it had converted its main business into a for-profit corporation, with Microsoft acquiring a 27% stake in the company and the remaining non-profit company (now known as the OpenAI Foundation) owning a 26% stake.\\nIn 2023 and 2024, OpenAI faced multiple lawsuits for alleged copyright infringement against authors and media companies whose work was used to train some of OpenAI\\'s products. In November 2023, OpenAI\\'s board removed Sam Altman as CEO, citing a lack of confidence in him, but reinstated him five days later following a reconstruction of the board. Throughout 2024, roughly half of then-employed AI safety researchers left OpenAI, citing the company\\'s prominent role in an industry-wide problem.', 'source': 'https://en.wikipedia.org/wiki/OpenAI'}, page_content='OpenAI is an American artificial intelligence (AI) organization headquartered in San Francisco, California. It aims to develop \"safe and beneficial\" artificial general intelligence (AGI), which it defines as \"highly autonomous systems that outperform humans at most economically valuable work\". As a leading organization in the ongoing AI boom, OpenAI is known for the GPT family of large language models, the DALL-E series of text-to-image models, and a text-to-video model named Sora. Its release of ChatGPT in November 2022 has been credited with catalyzing widespread interest in generative AI.\\nThe organization has a complex corporate structure. As of October 2025, it is led by the non-profit OpenAI Foundation, founded in 2015 and registered in Delaware, which holds a 26% equity stake in OpenAI Group PBC, a for-profit public benefit corporation which commercializes its products. Microsoft invested over $13 billion into OpenAI, and provides Azure cloud computing resources. In October 2025, OpenAI conducted a $6.6 billion share sale that valued the company at $500 billion. On 28 October 2025, OpenAI said it had converted its main business into a for-profit corporation, with Microsoft acquiring a 27% stake in the company and the remaining non-profit company (now known as the OpenAI Foundation) owning a 26% stake.\\nIn 2023 and 2024, OpenAI faced multiple lawsuits for alleged copyright infringement against authors and media companies whose work was used to train some of OpenAI\\'s products. In November 2023, OpenAI\\'s board removed Sam Altman as CEO, citing a lack of confidence in him, but reinstated him five days later following a reconstruction of the board. Throughout 2024, roughly half of then-employed AI safety researchers left OpenAI, citing the company\\'s prominent role in an industry-wide problem.\\n\\n\\n== Founding ==\\n\\nIn December 2015, OpenAI was founded as a not for profit organization by Sam Altman, Elon Musk, Ilya Sutskever, Greg Brockman, Trevor Blackwell, Vicki Cheung, Andrej Karpathy, Durk Kingma, John Schulman, Pamela Vagata, and Wojciech Zaremba, with Sam Altman and Elon Musk as the co-chairs. A total of $1 billion in capital was pledged by Sam Altman, Greg Brockman, Elon Musk, Reid Hoffman, Jessica Livingston, Peter Thiel, Amazon Web Services (AWS), and Infosys. The actual collected total amount of contributions was only $130 million until 2019.\\nThe organization stated it would \"freely collaborate\" with other institutions and researchers by making some of its patents and research open to the public. OpenAI was initially run from Brockman\\'s living room. It was later headquartered at the Pioneer Building in the Mission District, San Francisco.\\nAccording to OpenAI\\'s charter, its founding mission is \"to ensure that artificial general intelligence (AGI)—by which we mean highly autonomous systems that outperform humans at most economically valuable work—benefits all of humanity.\"\\nMusk and Altman stated in 2015 that they were partly motivated by concerns about AI safety and existential risk from artificial general intelligence. OpenAI stated that \"it\\'s hard to fathom how much human-level AI could benefit society\", and that it is equally difficult to comprehend \"how much it could damage society if built or used incorrectly\". The startup also wrote that AI \"should be an extension of individual human wills and, in the spirit of liberty, as broadly and evenly distributed as possible\", and that \"because of AI\\'s surprising history, it\\'s hard to predict when human-level AI might come within reach. When it does, it\\'ll be important to have a leading research institution which can prioritize a good outcome for all over its own self-interest.\" Co-chair Sam Altman expected a decades-long project that eventually surpasses human intelligence.\\nBrockman met with Yoshua Bengio, one of the \"founding fathers\" of deep learning, and drew up a list of great AI researchers. Brockman was able to hire nine of them as the first employees in December 2015. Op'), Document(metadata={'title': 'Continuous integration', 'summary': 'Continuous integration (CI) is the practice of integrating source code changes frequently and ensuring that the integrated codebase is in a workable state. Typically, developers merge changes to an integration branch, and an automated system builds and tests the software system. \\nOften, the automated process runs on each commit or runs on a schedule such as once a day. Grady Booch first proposed the term CI in 1991, although he did not advocate integrating multiple times a day, but later, CI came to include that aspect.\\n\\n', 'source': 'https://en.wikipedia.org/wiki/Continuous_integration'}, page_content='Continuous integration (CI) is the practice of integrating source code changes frequently and ensuring that the integrated codebase is in a workable state. Typically, developers merge changes to an integration branch, and an automated system builds and tests the software system. \\nOften, the automated process runs on each commit or runs on a schedule such as once a day. Grady Booch first proposed the term CI in 1991, although he did not advocate integrating multiple times a day, but later, CI came to include that aspect.\\n\\n\\n== History ==\\n\\nThe earliest known work (1989) on continuous integration was the Infuse environment developed by G. E. Kaiser, D. E. Perry, and W. M. Schell.\\nIn 1994, Grady Booch used the phrase continuous integration in Object-Oriented Analysis and Design with Applications (2nd edition) to explain how, when developing using micro processes, \"internal releases represent a sort of continuous integration of the system, and exist to force closure of the micro process\".\\nIn 1997, Kent Beck and Ron Jeffries invented extreme programming (XP) while on the Chrysler Comprehensive Compensation System project, including continuous integration. Beck published about continuous integration in 1998, emphasising the importance of face-to-face communication over technological support. In 1999, Beck elaborated more in his first full book on Extreme Programming. CruiseControl, one of the first open-source CI tools, was released in 2001.\\nIn 2010, Timothy Fitz published an article detailing how IMVU\\'s engineering team had built and been using the first practical CD system. While his post was originally met with skepticism, it quickly caught on and found widespread adoption as part of the lean software development methodology, also based on IMVU.\\n\\n\\n== Practices ==\\nThe core activities of CI are developers co-locate code changes in a shared, integration area frequently and that the resulting integrated codebase is verified for correctness. The first part generally involves merging changes to a common version control branch. The second part generally involves automated processes including: building, testing and many other processes.\\nTypically, a server builds from the integration area frequently; i.e. after each commit or periodically like once a day. The server may perform quality control checks such as running unit tests and collect software quality metrics via processes such as static analysis and performance testing.\\n\\n\\n=== Build automation ===\\n\\nBuild automation is a best practice. Build automation tools automate building. \\nProponents of CI recommend that a single command should have the capability of building the system. \\nAutomation often includes automating the integration, which often includes deployment into a production-like environment. In many cases, the build script not only compiles binaries but also generates documentation, website pages, statistics and distribution media (such as Debian DEB, Red Hat RPM or Windows MSI files).\\n\\n\\n=== Atomic commits ===\\nCI requires the version control system to support atomic commits; i.e., all of a developer\\'s changes are handled as a single commit.\\n\\n\\n=== Committing changes ===\\nWhen making a code change, a developer creates a branch that is a copy of the current codebase. As other changes are committed to the repository, this copy diverges from the latest version.\\nThe longer development continues on a branch without merging to the integration branch, the greater the risk of multiple integration conflicts and failures when the developer branch is eventually merged back. When developers submit code to the repository they must first update their code to reflect the changes in the repository since they took their copy. The more changes the repository contains, the more work developers must do before submitting their own changes.\\nEventually, the repository may become so different from the developers\\' baselines that they enter what is sometimes referred to as \"merge hell\", or \"integration hell\", '), Document(metadata={'title': 'Meteorology', 'summary': \"Meteorology is the scientific study of the Earth's atmosphere and short-term atmospheric phenomena (i.e., weather), with a focus on weather forecasting. It has applications in the military, aviation, energy production, transport, agriculture, construction, weather warnings, and disaster management.\\nAlong with climatology, atmospheric physics, atmospheric chemistry, and aeronomy, meteorology forms the broader field of the atmospheric sciences. The interactions between Earth's atmosphere and its oceans (notably El Niño and La Niña) are studied in the interdisciplinary field of hydrometeorology. Other interdisciplinary areas include biometeorology, space weather, and planetary meteorology. Marine weather forecasting relates meteorology to maritime and coastal safety, based on atmospheric interactions with large bodies of water.\\nMeteorologists study meteorological phenomena driven by solar radiation, Earth's rotation, ocean currents, and other factors. These include everyday weather like clouds, precipitation, and wind patterns, as well as severe weather events such as tropical cyclones and severe winter storms. Such phenomena are quantified using variables like temperature, pressure, and humidity, which are then used to forecast weather at local (microscale), regional (mesoscale and synoptic scale), and global scales. Meteorologists collect data using basic instruments like thermometers, barometers, and weather vanes (for surface-level measurements), alongside advanced tools like weather satellites, balloons, reconnaissance aircraft, buoys, and radars. The World Meteorological Organization (WMO) ensures international standardization of meteorological research. \\nThe study of meteorology dates back millennia. Ancient civilizations tried to predict weather through folklore, astrology, and religious rituals. Aristotle's treatise Meteorology sums up early observations of the field, which advanced little during early medieval times but experienced a resurgence during the Renaissance, when Alhazen and René Descartes challenged Aristotelian theories, emphasizing scientific methods. In the 18th century, accurate measurement tools (e.g., barometer and thermometer) were developed, and the first meteorological society was founded. In the 19th century, telegraph-based weather observation networks were formed across broad regions. In the 20th century, numerical weather prediction (NWP), coupled with advanced satellite and radar technology, introduced sophisticated forecasting models. Later, computers revolutionized forecasting by processing vast datasets in real time and automatically solving modeling equations. 21st-century meteorology is highly accurate and driven by big data and supercomputing. It is adopting innovations like machine learning, ensemble forecasting, and high-resolution global climate modeling. Climate change–induced extreme weather poses new challenges for forecasting and research, while inherent uncertainty remains because of the atmosphere's chaotic nature (see butterfly effect).\\n\\n\", 'source': 'https://en.wikipedia.org/wiki/Meteorology'}, page_content='Meteorology is the scientific study of the Earth\\'s atmosphere and short-term atmospheric phenomena (i.e., weather), with a focus on weather forecasting. It has applications in the military, aviation, energy production, transport, agriculture, construction, weather warnings, and disaster management.\\nAlong with climatology, atmospheric physics, atmospheric chemistry, and aeronomy, meteorology forms the broader field of the atmospheric sciences. The interactions between Earth\\'s atmosphere and its oceans (notably El Niño and La Niña) are studied in the interdisciplinary field of hydrometeorology. Other interdisciplinary areas include biometeorology, space weather, and planetary meteorology. Marine weather forecasting relates meteorology to maritime and coastal safety, based on atmospheric interactions with large bodies of water.\\nMeteorologists study meteorological phenomena driven by solar radiation, Earth\\'s rotation, ocean currents, and other factors. These include everyday weather like clouds, precipitation, and wind patterns, as well as severe weather events such as tropical cyclones and severe winter storms. Such phenomena are quantified using variables like temperature, pressure, and humidity, which are then used to forecast weather at local (microscale), regional (mesoscale and synoptic scale), and global scales. Meteorologists collect data using basic instruments like thermometers, barometers, and weather vanes (for surface-level measurements), alongside advanced tools like weather satellites, balloons, reconnaissance aircraft, buoys, and radars. The World Meteorological Organization (WMO) ensures international standardization of meteorological research. \\nThe study of meteorology dates back millennia. Ancient civilizations tried to predict weather through folklore, astrology, and religious rituals. Aristotle\\'s treatise Meteorology sums up early observations of the field, which advanced little during early medieval times but experienced a resurgence during the Renaissance, when Alhazen and René Descartes challenged Aristotelian theories, emphasizing scientific methods. In the 18th century, accurate measurement tools (e.g., barometer and thermometer) were developed, and the first meteorological society was founded. In the 19th century, telegraph-based weather observation networks were formed across broad regions. In the 20th century, numerical weather prediction (NWP), coupled with advanced satellite and radar technology, introduced sophisticated forecasting models. Later, computers revolutionized forecasting by processing vast datasets in real time and automatically solving modeling equations. 21st-century meteorology is highly accurate and driven by big data and supercomputing. It is adopting innovations like machine learning, ensemble forecasting, and high-resolution global climate modeling. Climate change–induced extreme weather poses new challenges for forecasting and research, while inherent uncertainty remains because of the atmosphere\\'s chaotic nature (see butterfly effect).\\n\\n\\n== Etymology ==\\nThe word meteorology is from the Ancient Greek μετέωρος metéōros (meteor) and -λογία -logia (-(o)logy), meaning \"the study of things high in the air\".\\n\\n\\n== History ==\\n\\n\\n=== Ancient meteorology up to the time of Aristotle ===\\n\\nEarly attempts at predicting weather were often related to prophecy and divining, and were sometimes based on astrological ideas. Ancient religions believed meteorological phenomena to be under the control of the gods. The ability to predict rains and floods based on annual cycles was evidently used by humans at least from the time of agricultural settlement if not earlier. Early approaches to predicting weather were based on astrology and were practiced by priests. The Egyptians had rain-making rituals as early as 3500 BC. \\nAncient Indian Upanishads contain mentions of clouds and seasons. The Samaveda mentions sacrifices to be performed when certain phenomena were noticed. Varāhamihira\\'s classical work Brih'), Document(metadata={'title': 'X86 virtualization', 'summary': \"x86 virtualization is the use of hardware-assisted virtualization capabilities on an x86/x86-64 CPU.\\nIn the late 1990s x86 virtualization was achieved by complex software techniques, necessary to compensate for the processor's lack of hardware-assisted virtualization capabilities while attaining reasonable performance. In 2005 and 2006, both Intel (VT-x) and AMD (AMD-V) introduced limited hardware virtualization support that allowed simpler virtualization software but offered very few speed benefits. Greater hardware support, which allowed substantial speed improvements, came with later processor models.\\n\\n\", 'source': 'https://en.wikipedia.org/wiki/X86_virtualization'}, page_content=\"x86 virtualization is the use of hardware-assisted virtualization capabilities on an x86/x86-64 CPU.\\nIn the late 1990s x86 virtualization was achieved by complex software techniques, necessary to compensate for the processor's lack of hardware-assisted virtualization capabilities while attaining reasonable performance. In 2005 and 2006, both Intel (VT-x) and AMD (AMD-V) introduced limited hardware virtualization support that allowed simpler virtualization software but offered very few speed benefits. Greater hardware support, which allowed substantial speed improvements, came with later processor models.\\n\\n\\n== Software-based virtualization ==\\nThe following discussion focuses only on virtualization of the x86 architecture protected mode.\\nIn protected mode the operating system kernel runs in kernel space at the most privileged level (ring 0) that allows it to configure the MMU, manage physical memory, and directly control I/O peripherals, while applications run in user space at a lower privilege level (such as ring 3), where they are confined to their own virtual address spaces and must invoke system calls to request I/O operations or other privileged services from the kernel.\\nIn software-based virtualization, a host OS has direct access to hardware while the guest operating systems, have limited access to hardware, similarly to other user space application of the host OS. One approach used in x86 software-based virtualization to implement this mechanism is called ring deprivileging, which involves running the guest OS at a ring higher (lesser privileged) than 0, so that attempts to execute privileged instructions can be intercepted and handled by the hypervisor.\\nThree techniques made virtualization of protected mode possible:\\n\\nBinary translation is used to rewrite certain ring 0 instructions in terms of ring 3 instructions, such as POPF, that would otherwise fail silently or behave differently when executed above ring 0, making the classic trap-and-emulate virtualization impossible. To improve performance, the translated basic blocks need to be cached in a coherent way that detects code patching (used in VxDs for instance), the reuse of pages by the guest OS, or even self-modifying code.\\nA number of key data structures used by a processor need to be shadowed. Because most operating systems use paged virtual memory, and granting the guest OS direct access to the MMU would mean loss of control by the virtualization manager, some of the work of the x86 MMU needs to be duplicated in software for the guest OS using a technique known as shadow page tables. This involves denying the guest OS any access to the actual page table entries by trapping access attempts and emulating them instead in software. The x86 architecture uses hidden state to store segment descriptors in the processor, so once the segment descriptors have been loaded into the processor, the memory from which they have been loaded may be overwritten and there is no way to get the descriptors back from the processor. Shadow descriptor tables must therefore be used to track changes made to the descriptor tables by the guest OS.\\nI/O device emulation: Unsupported devices on the guest OS must be emulated by a device emulator that runs in the host OS.\\nThese techniques incur some performance overhead due to lack of MMU virtualization support, as compared to a VM running on a natively virtualizable architecture such as the IBM System/370.\\nOn traditional mainframes, the classic type 1 hypervisor was self-standing and did not depend on any operating system or run any user applications itself. In contrast, the first x86 virtualization products were aimed at workstation computers, and ran a guest OS inside a host OS by embedding the hypervisor in a kernel module that ran under the host OS (type 2 hypervisor).\\nThere has been some controversy whether the x86 architecture with no hardware assistance is virtualizable as described by Popek and Goldberg. VMware researchers pointed out in\"), Document(metadata={'title': 'T-Mobile US', 'summary': \"T-Mobile US, Inc. is an American wireless network operator headquartered in Bellevue, Washington. Its majority shareholder and namesake is the German telecommunications company Deutsche Telekom. T-Mobile is the second largest wireless carrier in the United States, with 140 million subscribers as of September 30, 2025.\\nThe company was founded in 1994 by John W. Stanton of the Western Wireless Corporation as VoiceStream Wireless. Deutsche Telekom then gained plurality ownership in 2001 and renamed it after its global T-Mobile brand. As of April 2023, the German company holds a 51.4% stake in the company.\\nT-Mobile US operates two main brands: T-Mobile and Metro by T-Mobile (acquired in a 2013 reverse takeover of MetroPCS that also led to T-Mobile's listing on the NASDAQ). In 2020, T-Mobile expanded through the acquisition of Sprint, which also made T-Mobile the operator of Assurance Wireless, a service subsidized by the federal Lifeline program. The company's growth continued in 2024 with the acquisitions of Mint Mobile and Ultra Mobile, two low-cost mobile virtual network operators which remain separate brands. In August 2025, the company acquired the wireless operations of UScellular.\\n\\n\", 'source': 'https://en.wikipedia.org/wiki/T-Mobile_US'}, page_content='T-Mobile US, Inc. is an American wireless network operator headquartered in Bellevue, Washington. Its majority shareholder and namesake is the German telecommunications company Deutsche Telekom. T-Mobile is the second largest wireless carrier in the United States, with 140 million subscribers as of September 30, 2025.\\nThe company was founded in 1994 by John W. Stanton of the Western Wireless Corporation as VoiceStream Wireless. Deutsche Telekom then gained plurality ownership in 2001 and renamed it after its global T-Mobile brand. As of April 2023, the German company holds a 51.4% stake in the company.\\nT-Mobile US operates two main brands: T-Mobile and Metro by T-Mobile (acquired in a 2013 reverse takeover of MetroPCS that also led to T-Mobile\\'s listing on the NASDAQ). In 2020, T-Mobile expanded through the acquisition of Sprint, which also made T-Mobile the operator of Assurance Wireless, a service subsidized by the federal Lifeline program. The company\\'s growth continued in 2024 with the acquisitions of Mint Mobile and Ultra Mobile, two low-cost mobile virtual network operators which remain separate brands. In August 2025, the company acquired the wireless operations of UScellular.\\n\\n\\n== History ==\\nT-Mobile U.S. traces its roots to the 1994 establishment of VoiceStream Wireless PCS as a subsidiary of Western Wireless Corporation. After its spin off from parent Western Wireless on May 3, 1999, VoiceStream Wireless was purchased by Deutsche Telekom AG in 2001 for $35 billion and renamed T-Mobile USA, Inc., in July 2002. In 2013, T-Mobile and MetroPCS finalized a merger of the two companies which started trading as T-Mobile U.S.\\n\\n\\n=== VoiceStream Wireless ===\\nVoiceStream Wireless PCS was established in 1994 as a subsidiary of Western Wireless Corporation to provide wireless personal communications services (PCS) in 19 FCC-defined metropolitan service areas in several western and southwestern states using the GSM digital wireless standard. VoiceStream Wireless\\' digital, urban service areas complemented the analog, rural service areas marketed by Western Wireless under the Cellular One brand.\\nWestern Wireless spun off its VoiceStream Wireless division into a new company called VoiceStream Wireless Corporation in May 1999.\\n\\n\\n=== Omnipoint and Aerial acquisition ===\\nIn 2000, VoiceStream Wireless acquired two regional GSM carriers. Omnipoint Corporation, a regional network operator in the Northeastern United States, was acquired on February 25, 2000. Aerial Communications Inc.; a regional network operator in the Columbus, Houston, Kansas City, Minneapolis-St. Paul, Pittsburgh, and Tampa-St. Petersburg-Orlando markets; was acquired on May 4, 2000. The combined company retired the Omnipoint and Aerial brands and completed integrating the three companies by converting to a single customer billing platform, implementing standard business practices and launching the VoiceStream brand and \"GET MORE\" marketing strategy in all markets.\\n\\n\\n=== Deutsche Telekom acquires VoiceStream and Powertel ===\\n\\nOn June 1, 2001, Deutsche Telekom (DT) completed its acquisition of VoiceStream Wireless, Inc., for $35 billion and Southern U.S. regional GSM network operator Powertel, Inc., for $24 billion. By the end of 2001, VoiceStream Wireless had 19,000 employees serving 7 million subscribers.\\n\\nOn September 2, 2001, VoiceStream Wireless Inc. adopted the name, T-Mobile USA, Inc. and began rolling out the T-Mobile brand, starting with locations in California and Nevada. T-Mobile USA, Inc. was an operating entity of T-Mobile International AG, before becoming a direct subsidiary of Deutsche Telekom AG. The merger became official in July 2002.\\n\\n\\n=== SunCom acquisition ===\\nOn September 17, 2007, the company announced the acquisition of regional GSM carrier SunCom Wireless Holdings, Inc. for $2.4 billion; the acquisition closed on February 22, 2008. By September 8, 2008, SunCom\\'s operations were integrated with those of the company. The acquisition added SunCom\\'s 1'), Document(metadata={'title': 'Titanium', 'summary': \"Titanium is a chemical element; it has symbol Ti and atomic number 22. Found in nature only as an oxide, it can be reduced to produce a lustrous transition metal with a silver color, low density, and high strength that is resistant to corrosion in sea water, aqua regia, and chlorine.\\nTitanium was discovered in Cornwall, Great Britain, by William Gregor in 1791 and was named by Martin Heinrich Klaproth after the Titans of Greek mythology. The element occurs within a number of minerals, principally rutile and ilmenite, which are widely distributed in the Earth's crust and lithosphere; it is found in almost all living things, as well as bodies of water, rocks, and soils. The metal is extracted from its principal mineral ores by the Kroll and Hunter processes. The most common compound, titanium dioxide (TiO2), is a popular photocatalyst and is used in the manufacture of white pigments. Other compounds include titanium tetrachloride (TiCl4), a component of smoke screens and catalysts; and titanium trichloride (TiCl3), which is used as a catalyst in the production of polypropylene.\\nTitanium can be alloyed with iron, aluminium, vanadium, and molybdenum, among other elements. The resulting titanium alloys are strong, lightweight, and versatile, with applications including aerospace (jet engines, missiles, and spacecraft), military, industrial processes (chemicals and petrochemicals, desalination plants, pulp, and paper), automotive, agriculture (farming), sporting goods, jewelry, and consumer electronics. Titanium is also considered one of the most biocompatible metals, leading to a range of medical applications including prostheses, orthopedic implants, dental implants, and surgical instruments.\\nThe two most useful properties of the metal are its corrosion resistance and strength-to-density ratio, the highest of any metallic element. In its unalloyed condition, titanium is as strong as some steels, but less dense. There are two allotropic forms and five naturally occurring isotopes of this element, 46Ti through 50Ti, with 48Ti being the most abundant (73.8%).\\n\\n\", 'source': 'https://en.wikipedia.org/wiki/Titanium'}, page_content=\"Titanium is a chemical element; it has symbol Ti and atomic number 22. Found in nature only as an oxide, it can be reduced to produce a lustrous transition metal with a silver color, low density, and high strength that is resistant to corrosion in sea water, aqua regia, and chlorine.\\nTitanium was discovered in Cornwall, Great Britain, by William Gregor in 1791 and was named by Martin Heinrich Klaproth after the Titans of Greek mythology. The element occurs within a number of minerals, principally rutile and ilmenite, which are widely distributed in the Earth's crust and lithosphere; it is found in almost all living things, as well as bodies of water, rocks, and soils. The metal is extracted from its principal mineral ores by the Kroll and Hunter processes. The most common compound, titanium dioxide (TiO2), is a popular photocatalyst and is used in the manufacture of white pigments. Other compounds include titanium tetrachloride (TiCl4), a component of smoke screens and catalysts; and titanium trichloride (TiCl3), which is used as a catalyst in the production of polypropylene.\\nTitanium can be alloyed with iron, aluminium, vanadium, and molybdenum, among other elements. The resulting titanium alloys are strong, lightweight, and versatile, with applications including aerospace (jet engines, missiles, and spacecraft), military, industrial processes (chemicals and petrochemicals, desalination plants, pulp, and paper), automotive, agriculture (farming), sporting goods, jewelry, and consumer electronics. Titanium is also considered one of the most biocompatible metals, leading to a range of medical applications including prostheses, orthopedic implants, dental implants, and surgical instruments.\\nThe two most useful properties of the metal are its corrosion resistance and strength-to-density ratio, the highest of any metallic element. In its unalloyed condition, titanium is as strong as some steels, but less dense. There are two allotropic forms and five naturally occurring isotopes of this element, 46Ti through 50Ti, with 48Ti being the most abundant (73.8%).\\n\\n\\n== Characteristics ==\\n\\n\\n=== Physical properties ===\\nAs a metal, titanium is recognized for its high strength-to-weight ratio. It is a strong metal with low density that is quite ductile (especially in an oxygen-free environment), lustrous, and metallic-white in color. Due to its relatively high melting point (1,668 °C or 3,034 °F) it has sometimes been described as a refractory metal, but this is not the case. It is paramagnetic and has fairly low electrical and thermal conductivity compared to other metals. Titanium is superconducting when cooled below its critical temperature of 0.49 K.\\n\\nCommercially pure (99.2% pure) grades of titanium have ultimate tensile strength of about 434 MPa (63,000 psi), equal to that of common, low-grade steel alloys, but are less dense. Titanium is 60% denser than aluminium, but more than twice as strong as the most commonly used 6061-T6 aluminium alloy. Certain titanium alloys (e.g., Beta C) achieve tensile strengths of over 1,400 MPa (200,000 psi). However, titanium loses strength when heated above 430 °C (806 °F).\\nTitanium is not as hard as some grades of heat-treated steel; it is non-magnetic and a poor conductor of heat and electricity. Machining requires precautions, because the material can gall unless sharp tools and proper cooling methods are used. Like steel structures, those made from titanium have a fatigue limit that guarantees longevity in some applications.\\nThe metal is a dimorphic allotrope of a hexagonal close packed α form that changes into a body-centered cubic (lattice) β form at 882 °C (1,620 °F). The specific heat of the α form increases dramatically as it is heated to this transition temperature but then falls and remains fairly constant for the β form regardless of temperature.\\n\\n\\n=== Chemical properties ===\\n\\nLike aluminium and magnesium, the surface of titanium metal and its alloys oxidizes immediately upon exposure to air\")]\n"
     ]
    }
   ],
   "source": [
    "from langchain_community.document_loaders import WikipediaLoader\n",
    "docs = WikipediaLoader(query=\"The benefits of adopting AWS Cloud\").load()\n",
    "print(docs)"
   ]
  },
  {
   "cell_type": "code",
   "execution_count": 65,
   "id": "08292d5d",
   "metadata": {},
   "outputs": [
    {
     "name": "stderr",
     "output_type": "stream",
     "text": [
      "c:\\MY_Folder\\LLMOPS_GIT_Projects\\LIVE_LLMOPS\\automated-research-report-generation\\.venv\\Lib\\site-packages\\wikipedia\\wikipedia.py:389: GuessedAtParserWarning: No parser was explicitly specified, so I'm using the best available HTML parser for this system (\"html.parser\"). This usually isn't a problem, but if you run this code on another system, or in a different virtual environment, it may use a different parser and behave differently.\n",
      "\n",
      "The code that caused this warning is on line 389 of the file c:\\MY_Folder\\LLMOPS_GIT_Projects\\LIVE_LLMOPS\\automated-research-report-generation\\.venv\\Lib\\site-packages\\wikipedia\\wikipedia.py. To get rid of this warning, pass the additional argument 'features=\"html.parser\"' to the BeautifulSoup constructor.\n",
      "\n",
      "  lis = BeautifulSoup(html).find_all('li')\n"
     ]
    },
    {
     "name": "stdout",
     "output_type": "stream",
     "text": [
      "Amazon Web Services, Inc. (AWS) is a subsidiary of Amazon that provides on-demand cloud computing platforms and APIs to individuals, companies, and governments, on a metered, pay-as-you-go basis.\n",
      "Clients often use this in combination with autoscaling (a process that allows a client to use more computing in times of high application usage, and then scale down to reduce costs when there is less traffic). These cloud computing web services provide various services related to networking, compute, st\n"
     ]
    }
   ],
   "source": [
    "from langchain_community.document_loaders import WikipediaLoader\n",
    "docs = WikipediaLoader(query=\"AWS\").load()\n",
    "print(docs[0].page_content[:500])"
   ]
  },
  {
   "cell_type": "code",
   "execution_count": 66,
   "id": "c1ea76f2",
   "metadata": {},
   "outputs": [],
   "source": [
    "from langchain_community.utilities import WikipediaAPIWrapper"
   ]
  },
  {
   "cell_type": "code",
   "execution_count": 67,
   "id": "15ad184d",
   "metadata": {},
   "outputs": [
    {
     "name": "stdout",
     "output_type": "stream",
     "text": [
      "Page: Semantic Web\n",
      "Summary: The Semantic Web, sometimes known as Web 3.0, is an extension of the World Wide Web through standards set by the World Wide Web Consortium (W3C). The goal of the Semantic Web is to make Internet data machine-readable.\n",
      "To enable the encoding of semantics with the data, technologies such as Resource Description Framework (RDF) and Web Ontology Language (OWL) are used. These technologies are used to formally represent metadata. For example, ontology can describe concepts, relationships between entities, and categories of things. These embedded semantics offer significant advantages such as reasoning over data and operating with heterogeneous data sources.\n",
      "These standards promote common data formats and exchange protocols on the Web, fundamentally the RDF. According to the W3C, \"The Semantic Web provides a common framework that allows data to be shared and reused across application, enterprise, and community boundaries.\" The Semantic Web is therefore regarded as an integrator across different content and information applications and systems.\n",
      "\n",
      "\n",
      "\n",
      "Page: React (software)\n",
      "Summary: React (also known as React.js or ReactJS) is a free and open-source front-end JavaScript library that aims to make building user interfaces based on components more \"seamless\". It is maintained by Meta (formerly Facebook) and a community of individual developers and companies. According to the Stack Overflow Developer Survey, React is one of the most commonly used web technologies.\n",
      "React can be used to develop single-page, mobile, or server-rendered applications with frameworks like Next.js and React Router. Because React is only concerned with the user interface and rendering components to the DOM, React applications often rely on libraries for routing and other client-side functionality. A key advantage of React is that it only re-renders those parts of the page that have changed, avoiding unnecessary re-rendering of unchanged DOM elements. React is used by an estimated 6% of all websites.\n",
      "\n",
      "Page: Deep learning\n",
      "Summary: In machine learning, deep learning focuses on utilizing multilayered neural networks to perform tasks such as classification, regression, and representation learning. The field takes inspiration from biological neuroscience and is centered around stacking artificial neurons into layers and \"training\" them to process data. The adjective \"deep\" refers to the use of multiple layers (ranging from three to several hundred or thousands) in the network. Methods used can be supervised, semi-supervised or unsupervised.\n",
      "Some common deep learning network architectures include fully connected networks, deep belief networks, recurrent neural networks, convolutional neural networks, generative adversarial networks, transformers, and neural radiance fields. These architectures have been applied to fields including computer vision, speech recognition, natural language processing, machine translation, bioinformatics, drug design, medical image analysis, climate science, material inspection and board game programs, where they have produced results comparable to and in some cases surpassing human expert performance.\n",
      "Early forms of neural networks were inspired by information processing and distributed communication nodes in biological systems, particularly the human brain. However, current neural networks do not intend to model the brain function of organisms, and are generally seen as low-quality models for that purpose.\n",
      "\n",
      "\n"
     ]
    }
   ],
   "source": [
    "wiki = WikipediaAPIWrapper(doc_content_chars_max=4000)\n",
    "docs = wiki.run(\"The benefits of adopting LangGraph as an agentic framework\")\n",
    "print(docs)"
   ]
  },
  {
   "cell_type": "markdown",
   "id": "88bea3e3",
   "metadata": {},
   "source": [
    "## Second Workflow"
   ]
  },
  {
   "cell_type": "code",
   "execution_count": 70,
   "id": "7d7c9b32",
   "metadata": {},
   "outputs": [],
   "source": [
    "from langchain_community.tools.tavily_search import TavilySearchResults"
   ]
  },
  {
   "cell_type": "code",
   "execution_count": 71,
   "id": "38cecd22",
   "metadata": {},
   "outputs": [
    {
     "name": "stderr",
     "output_type": "stream",
     "text": [
      "python-dotenv could not parse statement starting at line 3\n",
      "python-dotenv could not parse statement starting at line 4\n"
     ]
    }
   ],
   "source": [
    "from dotenv import load_dotenv\n",
    "load_dotenv()\n",
    "import os\n",
    "tavily_api_key = os.getenv(\"TAVILY_API_KEY\")"
   ]
  },
  {
   "cell_type": "code",
   "execution_count": 72,
   "id": "015dea71",
   "metadata": {},
   "outputs": [],
   "source": [
    "# tavily_api_key"
   ]
  },
  {
   "cell_type": "code",
   "execution_count": 73,
   "id": "ef34c867",
   "metadata": {},
   "outputs": [
    {
     "name": "stderr",
     "output_type": "stream",
     "text": [
      "C:\\Users\\Mohan\\AppData\\Local\\Temp\\ipykernel_34360\\1029971610.py:1: LangChainDeprecationWarning: The class `TavilySearchResults` was deprecated in LangChain 0.3.25 and will be removed in 1.0. An updated version of the class exists in the :class:`~langchain-tavily package and should be used instead. To use it run `pip install -U :class:`~langchain-tavily` and import as `from :class:`~langchain_tavily import TavilySearch``.\n",
      "  tavily_search = TavilySearchResults(tavily_api_key=tavily_api_key)\n"
     ]
    }
   ],
   "source": [
    "tavily_search = TavilySearchResults(tavily_api_key=tavily_api_key)"
   ]
  },
  {
   "cell_type": "code",
   "execution_count": 74,
   "id": "3c1364b9",
   "metadata": {},
   "outputs": [
    {
     "data": {
      "text/plain": [
       "[{'title': 'What is LangGraph? - GeeksforGeeks',\n",
       "  'url': 'https://www.geeksforgeeks.org/machine-learning/what-is-langgraph/',\n",
       "  'content': '# What is LangGraph?\\n\\nLast Updated : \\n10 Oct, 2025\\n\\nSuggest changes\\n\\n1 Likes\\n\\nLangGraph is an open-source framework built by LangChain that streamlines the creation and management of AI agent workflows. At its core, LangGraph combines large language models (LLMs) with graph-based architectures allowing developers to map, organize and optimize how AI agents interact and make decisions.',\n",
       "  'score': 0.9345448},\n",
       " {'title': 'LangGraph overview - Docs by LangChain',\n",
       "  'url': 'https://docs.langchain.com/oss/python/langgraph/overview',\n",
       "  'content': \"Trusted by companies shaping the future of agents— including Klarna, Replit, Elastic, and more— LangGraph is a low-level orchestration framework and runtime for building, managing, and deploying long-running, stateful agents. LangGraph is very low-level, and focused entirely on agent orchestration. Before using LangGraph, we recommend you familiarize yourself with some of the components used to build agents, starting with models and tools. We will commonly use LangChain components throughout [...] ## \\u200b Core benefits\\n\\nLangGraph provides low-level supporting infrastructure for any long-running, stateful workflow or agent. LangGraph does not abstract prompts or architecture, and provides the following central benefits: [...] ## \\u200b Acknowledgements\\n\\nLangGraph is inspired by Pregel and Apache Beam. The public interface draws inspiration from NetworkX. LangGraph is built by LangChain Inc, the creators of LangChain, but can be used without LangChain. \\n\\nEdit the source of this page on GitHub.\\n\\nConnect these docs programmatically to Claude, VSCode, and more via MCP for real-time answers.\\n\\nWas this page helpful?\\n\\nWhat's new in v1\",\n",
       "  'score': 0.9281033},\n",
       " {'title': 'LangGraph overview - Docs by LangChain',\n",
       "  'url': 'https://docs.langchain.com/oss/javascript/langgraph/overview',\n",
       "  'content': 'Trusted by companies shaping the future of agents - including Klarna, Replit, Elastic, and more - LangGraph is a low-level orchestration framework for building, managing, and deploying long-running, stateful agents. [...] ## \\u200b Acknowledgements\\n\\nLangGraph is inspired by Pregel and Apache Beam. The public interface draws inspiration from NetworkX. LangGraph is built by LangChain Inc, the creators of LangChain, but can be used without LangChain.\\n\\nInstallation',\n",
       "  'score': 0.9240941},\n",
       " {'title': 'What is LangGraph? Key Concepts, Use Cases, and How to Get ...',\n",
       "  'url': 'https://www.designveloper.com/blog/what-is-langgraph/',\n",
       "  'content': '## LangGraph at a Glance\\n\\nLangGraph is an open-source library from the LangChain team and free to use. It can be used in Python as well as JavaScript environments, which means that it can be used by a large number of developers. In contrast to more basic chain-based systems, LangGraph is a graph-based system that coordinates AI workflows. This means that instead of a linear sequence of steps, an application is modeled as a directed graph of nodes and edges. [...] Imagine creating an AI application in which several language model agents collaborate on a complex task. It may be difficult to coordinate these agents, keep context across steps and achieve reliable results. LangGraph is a tool for solving this challenge. It is a framework on LangChain ecosystem that gives a way to define, coordinate, and execute multiple LLM (Large Language Model) agents in complex workflows. In other words, for anyone wondering what is LangGraph, it is a stateful [...] workflow continues. To put it briefly, LangGraph is about coordinating various AI elements to operate in coordination, have memory of previous interactions, and enable complex control flows within an application.',\n",
       "  'score': 0.917251},\n",
       " {'title': 'LangGraph Tutorial: What Is LangGraph and How to Use It?',\n",
       "  'url': 'https://www.datacamp.com/tutorial/langgraph-tutorial',\n",
       "  'content': \"Imagine you're building a complex, multi-agent large language model (LLM) application. It's exciting, but it comes with challenges: managing the state of various agents, coordinating their interactions, and handling errors effectively. This is where LangGraph can help.\\n\\nLangGraph is a library within the LangChain ecosystem designed to tackle these challenges head-on. LangGraph provides a framework for defining, coordinating, and executing multiple LLM agents (or chains) in a structured manner. [...] For applications requiring autonomous decision-making, LangGraph enables the creation of agents that can perform tasks independently based on user inputs and predefined logic.\\n\\nThese agents can execute complex workflows, interact with other systems, and adapt to new information dynamically. LangGraph's structured framework ensures that each agent operates efficiently and effectively, making it suitable for tasks like automated customer support, data processing, and system monitoring. [...] In educational platforms, LangGraph can be used to create adaptive learning environments that cater to individual learning styles and needs. Multiple agents can assess a student's progress, provide customized exercises, and offer real-time feedback. The stateful nature of LangGraph ensures that the system retains information about each learner's performance and preferences, enabling a more personalized and effective educational experience.\\n\\nConclusion\",\n",
       "  'score': 0.91399205}]"
      ]
     },
     "execution_count": 74,
     "metadata": {},
     "output_type": "execute_result"
    }
   ],
   "source": [
    "tavily_search.invoke(\"langgraph\")"
   ]
  },
  {
   "cell_type": "code",
   "execution_count": 75,
   "id": "870ad98f",
   "metadata": {},
   "outputs": [
    {
     "name": "stdout",
     "output_type": "stream",
     "text": [
      "LangChain is a software framework that helps facilitate the integration of large language models (LLMs) into applications. As a language model integration framework, LangChain's use-cases largely overlap with those of language models in general, including document analysis and summarization, chatbots, and code analysis.\n",
      "\n",
      "\n",
      "== History ==\n",
      "LangChain was launched in October 2022 as an open source project by Harrison Chase, while working at machine learning startup Robust Intelligence. In April 2023, \n"
     ]
    }
   ],
   "source": [
    "from langchain_community.document_loaders import WikipediaLoader\n",
    "\n",
    "docs = WikipediaLoader(query=\"LangGraph\").load()\n",
    "print(docs[0].page_content[:500])"
   ]
  },
  {
   "cell_type": "markdown",
   "id": "8d458cb6",
   "metadata": {},
   "source": [
    "LangChain is a software framework that helps facilitate the integration of large language models (LLMs) into applications. As a language model integration framework, LangChain's use-cases largely overlap with those of language models in general, including document analysis and summarization, chatbots, and code analysis.\n",
    "\n",
    "\n",
    "== History ==\n",
    "LangChain was launched in October 2022 as an open source project by Harrison Chase, while working at machine learning startup Robust Intelligence. In April 2023, "
   ]
  },
  {
   "cell_type": "code",
   "execution_count": 76,
   "id": "cc917ee7",
   "metadata": {},
   "outputs": [],
   "source": [
    "import operator\n",
    "from typing import  Annotated\n",
    "from langgraph.graph import MessagesState\n",
    "\n",
    "class InterviewState(MessagesState):\n",
    "    max_num_turns: int # Number turns of conversation\n",
    "    context: Annotated[list, operator.add] # Source docs\n",
    "    analyst: Analyst # Analyst asking questions\n",
    "    interview: str # Interview transcript\n",
    "    sections: list # Final key we duplicate in outer state for Send() API\n",
    "\n",
    "class SearchQuery(BaseModel):\n",
    "    search_query: str = Field(None, description=\"Search query for retrieval.\")"
   ]
  },
  {
   "cell_type": "code",
   "execution_count": 77,
   "id": "1fd248ce",
   "metadata": {},
   "outputs": [],
   "source": [
    "question_instructions = \"\"\"You are an analyst tasked with interviewing an expert to learn about a specific topic. \n",
    "\n",
    "Your goal is boil down to interesting and specific insights related to your topic.\n",
    "\n",
    "1. Interesting: Insights that people will find surprising or non-obvious.\n",
    "        \n",
    "2. Specific: Insights that avoid generalities and include specific examples from the expert.\n",
    "\n",
    "Here is your topic of focus and set of goals: {goals}\n",
    "        \n",
    "Begin by introducing yourself using a name that fits your persona, and then ask your question.\n",
    "\n",
    "Continue to ask questions to drill down and refine your understanding of the topic.\n",
    "        \n",
    "When you are satisfied with your understanding, complete the interview with: \"Thank you so much for your help!\"\n",
    "\n",
    "Remember to stay in character throughout your response, reflecting the persona and goals provided to you.\"\"\""
   ]
  },
  {
   "cell_type": "code",
   "execution_count": 78,
   "id": "588397e2",
   "metadata": {},
   "outputs": [
    {
     "name": "stdout",
     "output_type": "stream",
     "text": [
      "Name: Liam O'Reilly\n",
      "Role: Technology Adoption Strategist\n",
      "Affiliation: FutureTech Advisory\n",
      "Description: Liam advises organizations on the strategic adoption of new technologies. His focus is on how Langgraph can be integrated into existing systems to drive innovation and competitive advantage. He provides insights into the long-term benefits of adopting Langgraph, including improved agility and the ability to quickly adapt to market changes.\n",
      "\n"
     ]
    }
   ],
   "source": [
    "print(analyst.persona)"
   ]
  },
  {
   "cell_type": "code",
   "execution_count": 79,
   "id": "791b2d90",
   "metadata": {},
   "outputs": [
    {
     "data": {
      "text/plain": [
       "'You are an analyst tasked with interviewing an expert to learn about a specific topic. \\n\\nYour goal is boil down to interesting and specific insights related to your topic.\\n\\n1. Interesting: Insights that people will find surprising or non-obvious.\\n\\n2. Specific: Insights that avoid generalities and include specific examples from the expert.\\n\\nHere is your topic of focus and set of goals: Name: Liam O\\'Reilly\\nRole: Technology Adoption Strategist\\nAffiliation: FutureTech Advisory\\nDescription: Liam advises organizations on the strategic adoption of new technologies. His focus is on how Langgraph can be integrated into existing systems to drive innovation and competitive advantage. He provides insights into the long-term benefits of adopting Langgraph, including improved agility and the ability to quickly adapt to market changes.\\n\\n\\nBegin by introducing yourself using a name that fits your persona, and then ask your question.\\n\\nContinue to ask questions to drill down and refine your understanding of the topic.\\n\\nWhen you are satisfied with your understanding, complete the interview with: \"Thank you so much for your help!\"\\n\\nRemember to stay in character throughout your response, reflecting the persona and goals provided to you.'"
      ]
     },
     "execution_count": 79,
     "metadata": {},
     "output_type": "execute_result"
    }
   ],
   "source": [
    "question_instructions.format(goals = analyst.persona)"
   ]
  },
  {
   "cell_type": "code",
   "execution_count": 80,
   "id": "867122a5",
   "metadata": {},
   "outputs": [
    {
     "data": {
      "text/plain": [
       "'You are an analyst tasked with interviewing an expert to learn about a specific topic. \\n\\nYour goal is boil down to interesting and specific insights related to your topic.\\n\\n1. Interesting: Insights that people will find surprising or non-obvious.\\n\\n2. Specific: Insights that avoid generalities and include specific examples from the expert.\\n\\nHere is your topic of focus and set of goals: Name: Michael Chen\\nRole: Business Strategy Consultant\\nAffiliation: FutureTech Consulting\\nDescription: Michael analyzes the strategic implications of adopting Langgraph for businesses. He focuses on how the framework can drive innovation, support digital transformation initiatives, and align with long-term business goals.\\n\\n\\nBegin by introducing yourself using a name that fits your persona, and then ask your question.\\n\\nContinue to ask questions to drill down and refine your understanding of the topic.\\n\\nWhen you are satisfied with your understanding, complete the interview with: \"Thank you so much for your help!\"\\n\\nRemember to stay in character throughout your response, reflecting the persona and goals provided to you.'"
      ]
     },
     "execution_count": 80,
     "metadata": {},
     "output_type": "execute_result"
    }
   ],
   "source": [
    "'You are an analyst tasked with interviewing an expert to learn about a specific topic. \\n\\nYour goal is boil down to interesting and specific insights related to your topic.\\n\\n1. Interesting: Insights that people will find surprising or non-obvious.\\n\\n2. Specific: Insights that avoid generalities and include specific examples from the expert.\\n\\nHere is your topic of focus and set of goals: Name: Michael Chen\\nRole: Business Strategy Consultant\\nAffiliation: FutureTech Consulting\\nDescription: Michael analyzes the strategic implications of adopting Langgraph for businesses. He focuses on how the framework can drive innovation, support digital transformation initiatives, and align with long-term business goals.\\n\\n\\nBegin by introducing yourself using a name that fits your persona, and then ask your question.\\n\\nContinue to ask questions to drill down and refine your understanding of the topic.\\n\\nWhen you are satisfied with your understanding, complete the interview with: \"Thank you so much for your help!\"\\n\\nRemember to stay in character throughout your response, reflecting the persona and goals provided to you.'"
   ]
  },
  {
   "cell_type": "code",
   "execution_count": 81,
   "id": "f822d6f9",
   "metadata": {},
   "outputs": [],
   "source": [
    "def generation_question(state:InterviewState):\n",
    "    \"\"\"Node to generate the questions\"\"\"\n",
    "    \n",
    "    #get state\n",
    "    analyst = state[\"analyst\"]\n",
    "    messages = state[\"messages\"]\n",
    "    \n",
    "    #generate the question\n",
    "    system_message = question_instructions.format(goals = analyst.persona)\n",
    "    question = llm.invoke([SystemMessage(content=system_message)]+messages)\n",
    "    \n",
    "    #returen the question through state\n",
    "    return {\"messages\":[question]}"
   ]
  },
  {
   "cell_type": "code",
   "execution_count": 82,
   "id": "05ca9508",
   "metadata": {},
   "outputs": [
    {
     "data": {
      "text/plain": [
       "Analyst(name=\"Liam O'Reilly\", role='Technology Adoption Strategist', affiliation='FutureTech Advisory', description='Liam advises organizations on the strategic adoption of new technologies. His focus is on how Langgraph can be integrated into existing systems to drive innovation and competitive advantage. He provides insights into the long-term benefits of adopting Langgraph, including improved agility and the ability to quickly adapt to market changes.')"
      ]
     },
     "execution_count": 82,
     "metadata": {},
     "output_type": "execute_result"
    }
   ],
   "source": [
    "analyst"
   ]
  },
  {
   "cell_type": "code",
   "execution_count": 83,
   "id": "7c2f8cba",
   "metadata": {},
   "outputs": [],
   "source": [
    "class InterviewState(MessagesState):\n",
    "    max_num_turns: int # Number turns of conversation\n",
    "    context: Annotated[list, operator.add] # Source docs\n",
    "    analyst: Analyst # Analyst asking questions\n",
    "    interview: str # Interview transcript\n",
    "    sections: list # Final key we duplicate in outer state for Send() API"
   ]
  },
  {
   "cell_type": "code",
   "execution_count": 84,
   "id": "98b57bd2",
   "metadata": {},
   "outputs": [],
   "source": [
    "state = {\"max_num_turns\":2,\"context\":[],\"analyst\":analyst,\"interview\":\"\",\"section\":[],\"messages\":[HumanMessage(content=\"hi do the proper search according to the experties\")]}"
   ]
  },
  {
   "cell_type": "code",
   "execution_count": 85,
   "id": "c4b7aaa1",
   "metadata": {},
   "outputs": [
    {
     "data": {
      "text/plain": [
       "{'max_num_turns': 2,\n",
       " 'context': [],\n",
       " 'analyst': Analyst(name=\"Liam O'Reilly\", role='Technology Adoption Strategist', affiliation='FutureTech Advisory', description='Liam advises organizations on the strategic adoption of new technologies. His focus is on how Langgraph can be integrated into existing systems to drive innovation and competitive advantage. He provides insights into the long-term benefits of adopting Langgraph, including improved agility and the ability to quickly adapt to market changes.'),\n",
       " 'interview': '',\n",
       " 'section': [],\n",
       " 'messages': [HumanMessage(content='hi do the proper search according to the experties', additional_kwargs={}, response_metadata={})]}"
      ]
     },
     "execution_count": 85,
     "metadata": {},
     "output_type": "execute_result"
    }
   ],
   "source": [
    "state"
   ]
  },
  {
   "cell_type": "code",
   "execution_count": 86,
   "id": "aecad88d",
   "metadata": {},
   "outputs": [
    {
     "name": "stderr",
     "output_type": "stream",
     "text": [
      "HTTP Request: POST https://api.openai.com/v1/chat/completions \"HTTP/1.1 200 OK\"\n"
     ]
    }
   ],
   "source": [
    "result = generation_question(state)"
   ]
  },
  {
   "cell_type": "code",
   "execution_count": 87,
   "id": "9a078187",
   "metadata": {},
   "outputs": [
    {
     "data": {
      "text/plain": [
       "{'messages': [AIMessage(content=\"Hello, I'm Alex Carter, a technology journalist with a keen interest in how emerging technologies are reshaping industries. I'm excited to learn more about your work with Langgraph. \\n\\nTo start, could you explain what Langgraph is and how it differs from other technologies in terms of driving innovation and competitive advantage?\", additional_kwargs={'refusal': None}, response_metadata={'token_usage': {'completion_tokens': 61, 'prompt_tokens': 249, 'total_tokens': 310, 'completion_tokens_details': {'accepted_prediction_tokens': 0, 'audio_tokens': 0, 'reasoning_tokens': 0, 'rejected_prediction_tokens': 0}, 'prompt_tokens_details': {'audio_tokens': 0, 'cached_tokens': 0}}, 'model_name': 'gpt-4o-2024-08-06', 'system_fingerprint': 'fp_cbf1785567', 'id': 'chatcmpl-CX14kd9s6IRLiAJnfR0F9vYFtZvgf', 'service_tier': 'default', 'finish_reason': 'stop', 'logprobs': None}, id='run--26ede1c0-b473-43ad-bdd5-282a360f6b90-0', usage_metadata={'input_tokens': 249, 'output_tokens': 61, 'total_tokens': 310, 'input_token_details': {'audio': 0, 'cache_read': 0}, 'output_token_details': {'audio': 0, 'reasoning': 0}})]}"
      ]
     },
     "execution_count": 87,
     "metadata": {},
     "output_type": "execute_result"
    }
   ],
   "source": [
    "result"
   ]
  },
  {
   "cell_type": "code",
   "execution_count": 88,
   "id": "0f390e2a",
   "metadata": {},
   "outputs": [
    {
     "name": "stdout",
     "output_type": "stream",
     "text": [
      "Hello, I'm Alex Carter, a technology journalist with a keen interest in how emerging technologies are reshaping industries. I'm excited to learn more about your work with Langgraph. \n",
      "\n",
      "To start, could you explain what Langgraph is and how it differs from other technologies in terms of driving innovation and competitive advantage?\n"
     ]
    }
   ],
   "source": [
    "print(result[\"messages\"][0].content)"
   ]
  },
  {
   "cell_type": "code",
   "execution_count": 89,
   "id": "47bdc1d9",
   "metadata": {},
   "outputs": [],
   "source": [
    "from langchain_core.messages import get_buffer_string"
   ]
  },
  {
   "cell_type": "code",
   "execution_count": 90,
   "id": "b2fb6c52",
   "metadata": {},
   "outputs": [],
   "source": [
    "# Search query writing\n",
    "search_instructions = SystemMessage(content=f\"\"\"You will be given a conversation between an analyst and an expert. \n",
    "Your goal is to generate a well-structured query for use in retrieval and / or web-search related to the conversation. \n",
    "First, analyze the full conversation.\n",
    "Pay particular attention to the final question posed by the analyst.\n",
    "Convert this final question into a well-structured web search query\"\"\")"
   ]
  },
  {
   "cell_type": "code",
   "execution_count": 91,
   "id": "d9f8bae1",
   "metadata": {},
   "outputs": [],
   "source": [
    "def search_web(state:InterviewState):\n",
    "    \"\"\"\n",
    "    Retrieve data from the web\n",
    "    \"\"\"\n",
    "    structure_llm = llm.with_structured_output(SearchQuery)\n",
    "    search_query = structure_llm.invoke([search_instructions]+state[\"messages\"])\n",
    "    \n",
    "    # Search\n",
    "    search_docs = tavily_search.invoke(search_query.search_query)\n",
    "    # Format\n",
    "    formatted_search_docs = \"\\n\\n---\\n\\n\".join(\n",
    "        [\n",
    "            f'<Document href=\"{doc[\"url\"]}\"/>\\n{doc[\"content\"]}\\n</Document>'\n",
    "            for doc in search_docs\n",
    "        ]\n",
    "    )\n",
    "\n",
    "    return {\"context\": [formatted_search_docs]}"
   ]
  },
  {
   "cell_type": "code",
   "execution_count": 92,
   "id": "826831e8",
   "metadata": {},
   "outputs": [],
   "source": [
    "state = {\"max_num_turns\":2,\"context\":[],\"analyst\":analyst,\"interview\":\"\",\"section\":[],'messages': [AIMessage(content=\"Hello, my name is Alex Thompson, and I'm an analyst interested in understanding the strategic implications of adopting Langgraph for businesses. I'm particularly keen on how this framework can drive innovation and support digital transformation initiatives. Thank you for taking the time to speak with me today, Michael. \\n\\nTo start, could you explain what Langgraph is and why it's becoming a significant consideration for businesses looking to innovate?\", additional_kwargs={'refusal': None}, response_metadata={'token_usage': {'completion_tokens': 79, 'prompt_tokens': 224, 'total_tokens': 303, 'completion_tokens_details': {'accepted_prediction_tokens': 0, 'audio_tokens': 0, 'reasoning_tokens': 0, 'rejected_prediction_tokens': 0}, 'prompt_tokens_details': {'audio_tokens': 0, 'cached_tokens': 0}}, 'model_name': 'gpt-4o-2024-08-06', 'system_fingerprint': 'fp_cbf1785567', 'id': 'chatcmpl-CPRmMT7ufhFyYLhMtNpeguI9W2y6O', 'service_tier': 'default', 'finish_reason': 'stop', 'logprobs': None}, id='run--827b799b-ccb9-422c-a444-402d7ddc4550-0', usage_metadata={'input_tokens': 224, 'output_tokens': 79, 'total_tokens': 303, 'input_token_details': {'audio': 0, 'cache_read': 0}, 'output_token_details': {'audio': 0, 'reasoning': 0}})]}"
   ]
  },
  {
   "cell_type": "code",
   "execution_count": 93,
   "id": "839a5b1e",
   "metadata": {},
   "outputs": [
    {
     "name": "stderr",
     "output_type": "stream",
     "text": [
      "HTTP Request: POST https://api.openai.com/v1/chat/completions \"HTTP/1.1 200 OK\"\n"
     ]
    }
   ],
   "source": [
    "result = search_web(state)"
   ]
  },
  {
   "cell_type": "code",
   "execution_count": 94,
   "id": "cf690c6e",
   "metadata": {},
   "outputs": [
    {
     "name": "stdout",
     "output_type": "stream",
     "text": [
      "<Document href=\"https://www.scalablepath.com/machine-learning/langgraph\"/>\n",
      "In fact, the rapid adoption of AI agents by companies indicates a strategic shift. Early movers are using AI agents to handle tasks that were once bottlenecks, gaining an edge in customer responsiveness, data analysis, and innovation capacity. Using a framework like LangGraph ensures these AI initiatives are scalable and maintainable, so one is building a long-term strategic asset, not just a demo or one-off script.\n",
      "\n",
      "### Practical Gains: Save Time and Money While Reducing Errors [...] Another advantage of the LangGraph approach is that one can precisely control when and how agents interact. The graph’s edges and nodes act like a playbook for the team of agents. One can have phases in the workflow where agents work in parallel, and then points where the workflow pauses and awaits a decision or input. [...] This approach has strong parallels to how human teams work, and indeed some benefits are the same: specialization, parallel effort, and oversight. Using LangGraph, developers have successfully built multi-agent workflows such as an AI “newsroom” where different agents (reporter, fact-checker, editor) produce a news article together, and complex support systems where an AI triages issues and delegates to expert sub-agents. The coordination provided by LangGraph is what turns a collection of\n",
      "</Document>\n",
      "\n",
      "---\n",
      "\n",
      "<Document href=\"https://blog.agen.cy/p/agency-revolutionizing-ai-development\"/>\n",
      "As the AI agent ecosystem continues to evolve, LangGraph is positioned to become the standard for sophisticated, stateful agent systems. Agency is leading the way in developing innovative applications that leverage this powerful framework to solve complex business challenges. [...] Unlike linear frameworks, LangGraph allows agents to revisit previous steps based on new information or changing conditions. This creates more adaptable AI systems that can handle complex, non-linear business processes.\n",
      "\n",
      "#### 3. Fine-Grained Control\n",
      "\n",
      "The framework provides developers with precise control over agent workflows and state, enabling the creation of highly customized AI solutions tailored to specific business needs.\n",
      "\n",
      "#### 4. Seamless LangChain Integration [...] As part of the LangChain ecosystem, LangGraph benefits from a vast array of integrations and tools, making it highly versatile for enterprise applications.\n",
      "\n",
      "### Agency: Pioneering LangGraph Implementation Since 2023\n",
      "</Document>\n",
      "\n",
      "---\n",
      "\n",
      "<Document href=\"https://www.cohorte.co/blog/unleashing-the-power-of-langgraph-an-introduction-to-the-future-of-ai-workflows\"/>\n",
      "```\n",
      "graph = graph_builder.compile() user_input = \"Hi there!\"  state = {\"messages\": [user_input]} print(result[\"messages\"])\n",
      "```\n",
      "\n",
      "Congratulations! You've built your first chatbot using LangGraph.\n",
      "\n",
      "## Why You Should Care: Real Business Benefits\n",
      "\n",
      "LangGraph isn’t just for hobby projects. It’s built to be the engine behind reliable, stateful, LLM-powered applications that have real-world value. Businesses can use it to create AI systems that: [...] ##### 3. Human-in-the-Loop\n",
      "\n",
      "Sometimes, even the smartest AI agents need a little human guidance. LangGraph allows you to easily integrate human input into the process. You can pause your AI agent, have a person check its plan, tweak things if needed, and then continue the workflow. This makes LangGraph perfect for creating reliable AI systems that need to be trusted in business settings—where AI can do most of the work, but a human keeps an eye on the really critical decisions. [...] Compared to other AI frameworks, LangGraph gives you more power and flexibility. If you’ve used LangChain before, you know it’s amazing for building chains of LLM-powered tasks, like calling an API or generating responses. LangGraph goes beyond those linear chains—it lets you create decision-making loops, pauses for human checks, and elaborate multi-agent setups.\n",
      "</Document>\n",
      "\n",
      "---\n",
      "\n",
      "<Document href=\"https://latenode.com/blog/what-is-langgraph-complete-guide-to-langchains-graph-framework\"/>\n",
      "LangGraph is a framework within LangChain designed for creating dynamic, stateful workflows that go beyond linear processes. It allows AI systems to revisit decisions, manage complex tasks, and collaborate across multiple agents. This makes it ideal for scenarios like customer support, research, and content moderation, where workflows need flexibility and decision-making based on context. [...] LangGraph introduces a graph-based workflow system that reimagines how processes are structured. Unlike traditional linear workflows that follow a straightforward step-by-step path, LangGraph organizes tasks as a network of interconnected nodes and edges. This design allows for dynamic decision-making, branching paths, and feedback loops, making it particularly well-suited for managing intricate, multi-step AI processes. [...] LangGraph stands out as a framework designed to handle complex, non-linear workflows where traditional linear processes often fall short. Its strengths lie in scenarios requiring multi-path decision-making, collaboration among multiple agents, and iterative refinement.\n",
      "\n",
      "### When to Use LangGraph\n",
      "\n",
      "LangGraph is particularly suited for AI-driven applications that demand adaptability and dynamic decision-making. Here are some key scenarios where LangGraph proves invaluable:\n",
      "</Document>\n",
      "\n",
      "---\n",
      "\n",
      "<Document href=\"https://www.amplework.com/blog/langgraph-vs-autogen-vs-crewai-multi-agent-framework/\"/>\n",
      "You can reuse LangChain tools, memory, and models directly within LangGraph flows, enhancing the multi-agent LLM systems you build.\n",
      " ##### Streaming and Long-Running Task Support\n",
      "\n",
      "  LangGraph supports real-time agent responses and asynchronous workflows, making it perfect for digital transformation services that require fast, reliable results.\n",
      "\n",
      "#### Cons:\n",
      "\n",
      " ##### Steeper Learning Curve [...] Task Delegation Systems: Break down complex problems into specialized roles and let agents handle them sequentially. This is essential for large-scale digital transformation services that require streamlined processes.\n",
      " Automated Report Generation: Assign different agents to research, write, and refine content for structured reporting, ideal for enterprise solutions looking to automate high-volume tasks. [...] AutoGen supports custom agent design and tool invocation through Python functions and OpenAI functions.\n",
      " LangGraph allows extensive customization of nodes and logic using LangChain tools.\n",
      " CrewAI enables you to define roles with specific tools, though its extensibility is somewhat more structured.\n",
      "\n",
      "The more extensible the framework, the better it will adapt to your existing tech stack and future innovations.\n",
      "\n",
      "### 5. Deployment Flexibility\n",
      "</Document>\n"
     ]
    }
   ],
   "source": [
    "print(result[\"context\"][0])"
   ]
  },
  {
   "cell_type": "code",
   "execution_count": 95,
   "id": "86a64aca",
   "metadata": {},
   "outputs": [],
   "source": [
    "def search_wikipedia(state:InterviewState):\n",
    "    \"\"\"\n",
    "    Retrieve data from wiki\n",
    "    \"\"\"\n",
    "    # Search query\n",
    "    structured_llm = llm.with_structured_output(SearchQuery)\n",
    "    search_query = structured_llm.invoke([search_instructions]+state['messages'])\n",
    "    \n",
    "    print(\"*******************************\")\n",
    "    print(search_query)\n",
    "    \n",
    "    # Search\n",
    "    search_docs = WikipediaLoader(query=search_query.search_query).load()\n",
    "\n",
    "     # Format\n",
    "    formatted_search_docs = \"\\n\\n---\\n\\n\".join(\n",
    "        [\n",
    "            f'<Document source=\"{doc.metadata[\"source\"]}\" page=\"{doc.metadata.get(\"page\", \"\")}\"/>\\n{doc.page_content}\\n</Document>'\n",
    "            for doc in search_docs\n",
    "        ]\n",
    "    )\n",
    "\n",
    "    return {\"context\": [formatted_search_docs]} \n",
    "    "
   ]
  },
  {
   "cell_type": "code",
   "execution_count": 96,
   "id": "8edfb131",
   "metadata": {},
   "outputs": [],
   "source": [
    "state = {\"max_num_turns\":2,\"context\":[],\"analyst\":analyst,\"interview\":\"\",\"section\":[],'messages': [AIMessage(content=\"Hello, my name is Alex Thompson, and I'm an analyst interested in understanding the strategic implications of adopting Langgraph for businesses. I'm particularly keen on how this framework can drive innovation and support digital transformation initiatives. Thank you for taking the time to speak with me today, Michael. \\n\\nTo start, could you explain what Langgraph is and why it's becoming a significant consideration for businesses looking to innovate?\", additional_kwargs={'refusal': None}, response_metadata={'token_usage': {'completion_tokens': 79, 'prompt_tokens': 224, 'total_tokens': 303, 'completion_tokens_details': {'accepted_prediction_tokens': 0, 'audio_tokens': 0, 'reasoning_tokens': 0, 'rejected_prediction_tokens': 0}, 'prompt_tokens_details': {'audio_tokens': 0, 'cached_tokens': 0}}, 'model_name': 'gpt-4o-2024-08-06', 'system_fingerprint': 'fp_cbf1785567', 'id': 'chatcmpl-CPRmMT7ufhFyYLhMtNpeguI9W2y6O', 'service_tier': 'default', 'finish_reason': 'stop', 'logprobs': None}, id='run--827b799b-ccb9-422c-a444-402d7ddc4550-0', usage_metadata={'input_tokens': 224, 'output_tokens': 79, 'total_tokens': 303, 'input_token_details': {'audio': 0, 'cache_read': 0}, 'output_token_details': {'audio': 0, 'reasoning': 0}})]}"
   ]
  },
  {
   "cell_type": "code",
   "execution_count": 97,
   "id": "b83fd952",
   "metadata": {},
   "outputs": [
    {
     "name": "stderr",
     "output_type": "stream",
     "text": [
      "HTTP Request: POST https://api.openai.com/v1/chat/completions \"HTTP/1.1 200 OK\"\n"
     ]
    },
    {
     "name": "stdout",
     "output_type": "stream",
     "text": [
      "*******************************\n",
      "search_query='Langgraph framework benefits for business innovation and digital transformation'\n"
     ]
    }
   ],
   "source": [
    "result = search_wikipedia(state)"
   ]
  },
  {
   "cell_type": "code",
   "execution_count": 98,
   "id": "83262f93",
   "metadata": {},
   "outputs": [],
   "source": [
    "search_docs = WikipediaLoader(query='Langgraph framework benefits',load_all_available_meta=True).load()"
   ]
  },
  {
   "cell_type": "code",
   "execution_count": 99,
   "id": "82687a49",
   "metadata": {},
   "outputs": [
    {
     "data": {
      "text/plain": [
       "[]"
      ]
     },
     "execution_count": 99,
     "metadata": {},
     "output_type": "execute_result"
    }
   ],
   "source": [
    "search_docs"
   ]
  },
  {
   "cell_type": "code",
   "execution_count": 100,
   "id": "5bf9f74b",
   "metadata": {},
   "outputs": [
    {
     "data": {
      "text/plain": [
       "{'context': ['']}"
      ]
     },
     "execution_count": 100,
     "metadata": {},
     "output_type": "execute_result"
    }
   ],
   "source": [
    "result"
   ]
  },
  {
   "cell_type": "code",
   "execution_count": 101,
   "id": "ec30a617",
   "metadata": {},
   "outputs": [],
   "source": [
    "answer_instructions = \"\"\"You are an expert being interviewed by an analyst.\n",
    "\n",
    "Here is analyst area of focus: {goals}. \n",
    "        \n",
    "You goal is to answer a question posed by the interviewer.\n",
    "\n",
    "To answer question, use this context:\n",
    "        \n",
    "{context}\n",
    "\n",
    "When answering questions, follow these guidelines:\n",
    "        \n",
    "1. Use only the information provided in the context. \n",
    "        \n",
    "2. Do not introduce external information or make assumptions beyond what is explicitly stated in the context.\n",
    "\n",
    "3. The context contain sources at the topic of each individual document.\n",
    "\n",
    "4. Include these sources your answer next to any relevant statements. For example, for source # 1 use [1]. \n",
    "\n",
    "5. List your sources in order at the bottom of your answer. [1] Source 1, [2] Source 2, etc\n",
    "        \n",
    "6. If the source is: <Document source=\"assistant/docs/llama3_1.pdf\" page=\"7\"/>' then just list: \n",
    "        \n",
    "[1] assistant/docs/llama3_1.pdf, page 7 \n",
    "        \n",
    "And skip the addition of the brackets as well as the Document source preamble in your citation.\"\"\""
   ]
  },
  {
   "cell_type": "code",
   "execution_count": 102,
   "id": "8a281deb",
   "metadata": {},
   "outputs": [],
   "source": [
    "def generate_answer(state:InterviewState):\n",
    "   \n",
    "    \"\"\" Node to answer a question \"\"\"\n",
    "\n",
    "    # Get state\n",
    "    analyst = state[\"analyst\"]\n",
    "    messages = state[\"messages\"]\n",
    "    context = state[\"context\"]\n",
    "\n",
    "    # Answer question\n",
    "    system_message = answer_instructions.format(goals=analyst.persona, context=context)\n",
    "    answer = llm.invoke([SystemMessage(content=system_message)]+messages)\n",
    "            \n",
    "    # Name the message as coming from the expert\n",
    "    answer.name = \"expert\"\n",
    "    \n",
    "    # Append it to state\n",
    "    return {\"messages\": [answer]}\n",
    "    "
   ]
  },
  {
   "cell_type": "markdown",
   "id": "983ad150",
   "metadata": {},
   "source": [
    "how many analyst we were doing to be create:\n",
    "4\n",
    "\n",
    "max_trun:2\n",
    "\n",
    "means if atleast 2 expert are giving ans then we can save the result."
   ]
  },
  {
   "cell_type": "code",
   "execution_count": 103,
   "id": "9d88f51c",
   "metadata": {},
   "outputs": [],
   "source": [
    "def route_messages(state: InterviewState, \n",
    "                   name: str = \"expert\"):\n",
    "\n",
    "    \"\"\" Route between question and answer \"\"\"\n",
    "    \n",
    "    # Get messages\n",
    "    messages = state[\"messages\"]\n",
    "    max_num_turns = state.get('max_num_turns',2)\n",
    "\n",
    "    # Check the number of expert answers \n",
    "    num_responses = len(\n",
    "        [m for m in messages if isinstance(m, AIMessage) and m.name == name]\n",
    "    )\n",
    "\n",
    "    # End if expert has answered more than the max turns\n",
    "    if num_responses >= max_num_turns:\n",
    "        return 'save_interview'\n",
    "\n",
    "    # This router is run after each question - answer pair \n",
    "    # Get the last question asked to check if it signals the end of discussion\n",
    "    last_question = messages[-2]\n",
    "    \n",
    "    if \"Thank you so much for your help\" in last_question.content:\n",
    "        return 'save_interview'\n",
    "    \n",
    "    return \"ask_question\""
   ]
  },
  {
   "cell_type": "code",
   "execution_count": 104,
   "id": "0f9a6354",
   "metadata": {},
   "outputs": [],
   "source": [
    "def save_interview(state: InterviewState):\n",
    "    \n",
    "    \"\"\" Save interviews \"\"\"\n",
    "\n",
    "    # Get messages\n",
    "    messages = state[\"messages\"]\n",
    "    \n",
    "    # Convert interview to a string\n",
    "    interview = get_buffer_string(messages)\n",
    "    \n",
    "    # Save to interviews key\n",
    "    return {\"interview\": interview}"
   ]
  },
  {
   "cell_type": "code",
   "execution_count": 105,
   "id": "c8306476",
   "metadata": {},
   "outputs": [],
   "source": [
    "section_writer_instructions = \"\"\"You are an expert technical writer. \n",
    "            \n",
    "Your task is to create a short, easily digestible section of a report based on a set of source documents.\n",
    "\n",
    "1. Analyze the content of the source documents: \n",
    "- The name of each source document is at the start of the document, with the <Document tag.\n",
    "        \n",
    "2. Create a report structure using markdown formatting:\n",
    "- Use ## for the section title\n",
    "- Use ### for sub-section headers\n",
    "        \n",
    "3. Write the report following this structure:\n",
    "a. Title (## header)\n",
    "b. Summary (### header)\n",
    "c. Sources (### header)\n",
    "\n",
    "4. Make your title engaging based upon the focus area of the analyst: \n",
    "{focus}\n",
    "\n",
    "5. For the summary section:\n",
    "- Set up summary with general background / context related to the focus area of the analyst\n",
    "- Emphasize what is novel, interesting, or surprising about insights gathered from the interview\n",
    "- Create a numbered list of source documents, as you use them\n",
    "- Do not mention the names of interviewers or experts\n",
    "- Aim for approximately 400 words maximum\n",
    "- Use numbered sources in your report (e.g., [1], [2]) based on information from source documents\n",
    "        \n",
    "6. In the Sources section:\n",
    "- Include all sources used in your report\n",
    "- Provide full links to relevant websites or specific document paths\n",
    "- Separate each source by a newline. Use two spaces at the end of each line to create a newline in Markdown.\n",
    "- It will look like:\n",
    "\n",
    "### Sources\n",
    "[1] Link or Document name\n",
    "[2] Link or Document name\n",
    "\n",
    "7. Be sure to combine sources. For example this is not correct:\n",
    "\n",
    "[3] https://ai.meta.com/blog/meta-llama-3-1/\n",
    "[4] https://ai.meta.com/blog/meta-llama-3-1/\n",
    "\n",
    "There should be no redundant sources. It should simply be:\n",
    "\n",
    "[3] https://ai.meta.com/blog/meta-llama-3-1/\n",
    "        \n",
    "8. Final review:\n",
    "- Ensure the report follows the required structure\n",
    "- Include no preamble before the title of the report\n",
    "- Check that all guidelines have been followed\"\"\""
   ]
  },
  {
   "cell_type": "code",
   "execution_count": 106,
   "id": "9a50dde9",
   "metadata": {},
   "outputs": [],
   "source": [
    "def write_section(state: InterviewState):\n",
    "\n",
    "    \"\"\" Node to answer a question \"\"\"\n",
    "\n",
    "    # Get state\n",
    "    interview = state[\"interview\"]\n",
    "    context = state[\"context\"]\n",
    "    analyst = state[\"analyst\"]\n",
    "   \n",
    "    # Write section using either the gathered source docs from interview (context) or the interview itself (interview)\n",
    "    system_message = section_writer_instructions.format(focus=analyst.description)\n",
    "    section = llm.invoke([SystemMessage(content=system_message)]+[HumanMessage(content=f\"Use this source to write your section: {context}\")]) \n",
    "                \n",
    "    # Append it to state\n",
    "    return {\"sections\": [section.content]}\n"
   ]
  },
  {
   "cell_type": "code",
   "execution_count": 107,
   "id": "3ce2d14c",
   "metadata": {},
   "outputs": [],
   "source": [
    "interview_builder = StateGraph(InterviewState)"
   ]
  },
  {
   "cell_type": "code",
   "execution_count": 108,
   "id": "72dde8eb",
   "metadata": {},
   "outputs": [
    {
     "data": {
      "text/plain": [
       "<langgraph.graph.state.StateGraph at 0x1987a64b390>"
      ]
     },
     "execution_count": 108,
     "metadata": {},
     "output_type": "execute_result"
    }
   ],
   "source": [
    "interview_builder.add_node(\"ask_question\",generation_question)\n",
    "interview_builder.add_node(\"search_web\",search_web)\n",
    "interview_builder.add_node(\"search_wikipedia\",search_wikipedia)\n",
    "interview_builder.add_node(\"generate_answer\",generate_answer)\n",
    "interview_builder.add_node(\"save_interview\",save_interview)\n",
    "interview_builder.add_node(\"write_section\",write_section)"
   ]
  },
  {
   "cell_type": "code",
   "execution_count": 109,
   "id": "4ac2c315",
   "metadata": {},
   "outputs": [
    {
     "data": {
      "text/plain": [
       "<langgraph.graph.state.StateGraph at 0x1987a64b390>"
      ]
     },
     "execution_count": 109,
     "metadata": {},
     "output_type": "execute_result"
    }
   ],
   "source": [
    "interview_builder.add_edge(START, \"ask_question\")\n",
    "interview_builder.add_edge(\"ask_question\",\"search_web\")\n",
    "interview_builder.add_edge(\"ask_question\",\"search_wikipedia\")\n",
    "interview_builder.add_edge(\"search_web\",\"generate_answer\")\n",
    "interview_builder.add_edge(\"search_wikipedia\",\"generate_answer\")\n",
    "interview_builder.add_conditional_edges(\"generate_answer\",\n",
    "                           route_messages,\n",
    "                           [\"ask_question\",\n",
    "                            \"save_interview\"])\n",
    "interview_builder.add_edge(\"save_interview\",\"write_section\")\n",
    "interview_builder.add_edge(\"write_section\",END)"
   ]
  },
  {
   "cell_type": "code",
   "execution_count": 110,
   "id": "f59d9ce5",
   "metadata": {},
   "outputs": [],
   "source": [
    "interview_graph = interview_builder.compile(checkpointer=memory).with_config(run_name = \"Conduct Interview\")\n"
   ]
  },
  {
   "cell_type": "code",
   "execution_count": 111,
   "id": "6ac2781b",
   "metadata": {},
   "outputs": [
    {
     "data": {
      "image/png": "[encoded data removed]",
      "text/plain": [
       "<IPython.core.display.Image object>"
      ]
     },
     "metadata": {},
     "output_type": "display_data"
    }
   ],
   "source": [
    "display(Image(interview_graph.get_graph().draw_mermaid_png()))"
   ]
  },
  {
   "cell_type": "code",
   "execution_count": 112,
   "id": "0d2da908",
   "metadata": {},
   "outputs": [
    {
     "data": {
      "text/plain": [
       "Analyst(name=\"Liam O'Reilly\", role='Technology Adoption Strategist', affiliation='FutureTech Advisory', description='Liam advises organizations on the strategic adoption of new technologies. His focus is on how Langgraph can be integrated into existing systems to drive innovation and competitive advantage. He provides insights into the long-term benefits of adopting Langgraph, including improved agility and the ability to quickly adapt to market changes.')"
      ]
     },
     "execution_count": 112,
     "metadata": {},
     "output_type": "execute_result"
    }
   ],
   "source": [
    "analyst"
   ]
  },
  {
   "cell_type": "code",
   "execution_count": 113,
   "id": "a8d1df4d",
   "metadata": {},
   "outputs": [
    {
     "data": {
      "text/plain": [
       "\"Name: Liam O'Reilly\\nRole: Technology Adoption Strategist\\nAffiliation: FutureTech Advisory\\nDescription: Liam advises organizations on the strategic adoption of new technologies. His focus is on how Langgraph can be integrated into existing systems to drive innovation and competitive advantage. He provides insights into the long-term benefits of adopting Langgraph, including improved agility and the ability to quickly adapt to market changes.\\n\""
      ]
     },
     "execution_count": 113,
     "metadata": {},
     "output_type": "execute_result"
    }
   ],
   "source": [
    "analyst.persona"
   ]
  },
  {
   "cell_type": "code",
   "execution_count": 114,
   "id": "420e492a",
   "metadata": {},
   "outputs": [],
   "source": [
    "thread = {\"configurable\": {\"thread_id\": \"1\"}}"
   ]
  },
  {
   "cell_type": "code",
   "execution_count": 115,
   "id": "db214534",
   "metadata": {},
   "outputs": [],
   "source": [
    "from IPython.display import Markdown"
   ]
  },
  {
   "cell_type": "code",
   "execution_count": 116,
   "id": "8fdde6b1",
   "metadata": {},
   "outputs": [],
   "source": [
    "messages = [HumanMessage(\"So you said you were writing an article on Langchain?\")]"
   ]
  },
  {
   "cell_type": "code",
   "execution_count": null,
   "id": "b1a2c219",
   "metadata": {},
   "outputs": [],
   "source": [
    "interview = interview_graph.invoke({\"analyst\": analyst, \"messages\": messages, \"max_num_turns\": 2}, thread)"
   ]
  },
  {
   "cell_type": "code",
   "execution_count": null,
   "id": "3c46c91d",
   "metadata": {},
   "outputs": [
    {
     "data": {
      "text/markdown": [
       "## Strategic Integration of LangGraph: Unlocking Business Potential\n",
       "\n",
       "### Summary\n",
       "\n",
       "In the rapidly evolving landscape of AI technologies, LangGraph has emerged as a pivotal framework for enterprises aiming to enhance their strategic positioning and achieve significant returns on investment (ROI). As companies increasingly adopt AI agent frameworks like LangGraph, they are witnessing transformative impacts on productivity, cost efficiency, and market competitiveness. This report delves into the business implications of integrating LangGraph, highlighting its potential to drive innovation and maintain a competitive edge.\n",
       "\n",
       "LangGraph stands out for its structured reasoning capabilities, which allow enterprises to develop sophisticated, production-grade AI systems capable of handling complex real-world requirements. This framework not only supports efficient resource utilization but also offers scalable solutions that can lead to better ROI for large-scale deployments [1]. The strategic choice between LangGraph and other frameworks like LangChain is crucial, as it influences an organization's AI development trajectory and long-term success [2].\n",
       "\n",
       "One of the most compelling aspects of LangGraph is its ability to enhance developer productivity and streamline operations. By automating complex processes such as invoice reconciliation and security alert triage, companies like Cognosys and Adept have reported over 60% reductions in manual labor [3]. This efficiency translates into substantial cost savings and improved customer loyalty, contributing to a projected 150% ROI over two years for some enterprises [1].\n",
       "\n",
       "Moreover, LangGraph's architecture facilitates complete state tracking and checkpointing, providing natural audit trails that simplify compliance reporting. This feature is particularly beneficial for compliance-sensitive industries, where maintaining audit logs can be challenging [2]. The framework's ability to integrate seamlessly with existing setups and reduce redundant work further enhances its appeal to engineering leaders seeking to unlock collective intelligence from the best models without vendor lock-in [4].\n",
       "\n",
       "The strategic integration of LangGraph also involves a phased approach to measuring ROI. Enterprises are advised to start with low-risk pilots tied to clear business outcomes, build trust and momentum by socializing wins, and scale intentionally by integrating pilots into processes and platforms [5]. This methodical approach ensures that AI adoption not only unlocks ROI but also aligns with long-term business objectives.\n",
       "\n",
       "In conclusion, LangGraph offers a robust framework for enterprises looking to innovate and stay ahead of the competition. Its structured approach to AI development, combined with its scalability and compliance benefits, makes it a strategic asset for companies aiming to maximize their ROI and achieve sustainable growth.\n",
       "\n",
       "### Sources\n",
       "[1] https://sparkco.ai/blog/langgraph-vs-crewai-vs-autogen-2025-production-showdown  \n",
       "[2] https://thirdeyedata.ai/a-comparative-study-between-langgraph-and-langchain-for-enterprise-ai-development/  \n",
       "[3] https://medium.com/write-your-world/how-agentic-ai-frameworks-work-under-the-hood-langgraph-autogen-crewai-3aad57b8cc12  \n",
       "[4] https://www.linkedin.com/posts/towards-data-science_how-to-build-an-ai-budget-planning-optimizer-activity-7371606983545860097-JMiY  \n",
       "[5] https://www.linkedin.com/posts/damianleon_ai-ceo-coo-activity-7355231116087238657-3Pt7  "
      ],
      "text/plain": [
       "<IPython.core.display.Markdown object>"
      ]
     },
     "execution_count": 91,
     "metadata": {},
     "output_type": "execute_result"
    }
   ],
   "source": [
    "Markdown(interview['sections'][0])"
   ]
  },
  {
   "cell_type": "markdown",
   "id": "70355645",
   "metadata": {},
   "source": [
    "## third Workflow"
   ]
  },
  {
   "cell_type": "code",
   "execution_count": null,
   "id": "82cf6c79",
   "metadata": {},
   "outputs": [],
   "source": [
    "from typing_extensions import TypedDict\n",
    "from typing import List, Annotated\n",
    "import operator\n",
    "\n",
    "class ResearchGraphState(TypedDict):\n",
    "    topic: str # Research topic\n",
    "    max_analysts: int # Number of analysts\n",
    "    human_analyst_feedback: str # Human feedback\n",
    "    analysts: List[Analyst] # Analyst asking questions\n",
    "    sections: Annotated[list, operator.add] # Send() API key\n",
    "    introduction: str # Introduction for the final report\n",
    "    content: str # Content for the final report\n",
    "    conclusion: str # Conclusion for the final report\n",
    "    final_report: str # Final report\n",
    "    \n",
    "# class InterviewState(MessagesState):\n",
    "#     max_num_turns: int # Number turns of conversation\n",
    "#     context: Annotated[list, operator.add] # Source docs\n",
    "#     analyst: Analyst # Analyst asking questions\n",
    "#     interview: str # Interview transcript\n",
    "#     sections: list # Final key we duplicate in outer state for Send() API"
   ]
  },
  {
   "cell_type": "code",
   "execution_count": null,
   "id": "ae420268",
   "metadata": {},
   "outputs": [],
   "source": [
    "from langgraph.types import Send"
   ]
  },
  {
   "cell_type": "code",
   "execution_count": null,
   "id": "94b8b665",
   "metadata": {},
   "outputs": [],
   "source": [
    "def initiate_all_interviews(state:ResearchGraphState):\n",
    "    \"\"\" This is the \"map\" step where we run each interview sub-graph using Send API \"\"\" \n",
    "    \n",
    "    #check if human feedback\n",
    "    human_analyst_feedback=state.get('human_analyst_feedback')\n",
    "    if human_analyst_feedback:\n",
    "        # Return to create_analysts\n",
    "        return \"create_analysts\"\n",
    "    \n",
    "    # Otherwise kick off interviews in parallel via Send() API\n",
    "    else:\n",
    "        topic = state[\"topic\"]\n",
    "        return [Send(\"conduct_interview\", {\"analyst\": analyst,\n",
    "                                        \"messages\": [HumanMessage(\n",
    "                                            content=f\"So you said you were writing an article on {topic}?\"\n",
    "                                        )\n",
    "                                                ]}) for analyst in state[\"analysts\"]]\n"
   ]
  },
  {
   "cell_type": "code",
   "execution_count": null,
   "id": "6e497a4f",
   "metadata": {},
   "outputs": [],
   "source": [
    "# def write_report(state:ResearchGraphState):\n",
    "#     \"\"\"_summary_\n",
    "\n",
    "#     Args:\n",
    "#         state (ResearchGraphState): _description_\n",
    "#     \"\"\"\n",
    "#     pass"
   ]
  },
  {
   "cell_type": "code",
   "execution_count": null,
   "id": "fe1753ba",
   "metadata": {},
   "outputs": [],
   "source": [
    "report_writer_instructions = \"\"\"You are a technical writer creating a report on this overall topic: \n",
    "\n",
    "{topic}\n",
    "    \n",
    "You have a team of analysts. Each analyst has done two things: \n",
    "\n",
    "1. They conducted an interview with an expert on a specific sub-topic.\n",
    "2. They write up their finding into a memo.\n",
    "\n",
    "Your task: \n",
    "\n",
    "1. You will be given a collection of memos from your analysts.\n",
    "2. Think carefully about the insights from each memo.\n",
    "3. Consolidate these into a crisp overall summary that ties together the central ideas from all of the memos. \n",
    "4. Summarize the central points in each memo into a cohesive single narrative.\n",
    "\n",
    "To format your report:\n",
    " \n",
    "1. Use markdown formatting. \n",
    "2. Include no pre-amble for the report.\n",
    "3. Use no sub-heading. \n",
    "4. Start your report with a single title header: ## Insights\n",
    "5. Do not mention any analyst names in your report.\n",
    "6. Preserve any citations in the memos, which will be annotated in brackets, for example [1] or [2].\n",
    "7. Create a final, consolidated list of sources and add to a Sources section with the `## Sources` header.\n",
    "8. List your sources in order and do not repeat.\n",
    "\n",
    "[1] Source 1\n",
    "[2] Source 2\n",
    "\n",
    "Here are the memos from your analysts to build your report from: \n",
    "\n",
    "{context}\"\"\""
   ]
  },
  {
   "cell_type": "code",
   "execution_count": null,
   "id": "c920f88d",
   "metadata": {},
   "outputs": [],
   "source": [
    "def write_report(state: ResearchGraphState):\n",
    "    # Full set of sections\n",
    "    sections = state[\"sections\"]\n",
    "    topic = state[\"topic\"]\n",
    "\n",
    "    # Concat all sections together\n",
    "    formatted_str_sections = \"\\n\\n\".join([f\"{section}\" for section in sections])\n",
    "    \n",
    "    # Summarize the sections into a final report\n",
    "    system_message = report_writer_instructions.format(topic=topic, context=formatted_str_sections)    \n",
    "    report = llm.invoke([SystemMessage(content=system_message)]+[HumanMessage(content=f\"Write a report based upon these memos.\")]) \n",
    "    return {\"content\": report.content}"
   ]
  },
  {
   "cell_type": "code",
   "execution_count": null,
   "id": "2bcba2a0",
   "metadata": {},
   "outputs": [],
   "source": [
    "intro_conclusion_instructions = \"\"\"You are a technical writer finishing a report on {topic}\n",
    "\n",
    "You will be given all of the sections of the report.\n",
    "\n",
    "You job is to write a crisp and compelling introduction or conclusion section.\n",
    "\n",
    "The user will instruct you whether to write the introduction or conclusion.\n",
    "\n",
    "Include no pre-amble for either section.\n",
    "\n",
    "Target around 100 words, crisply previewing (for introduction) or recapping (for conclusion) all of the sections of the report.\n",
    "\n",
    "Use markdown formatting. \n",
    "\n",
    "For your introduction, create a compelling title and use the # header for the title.\n",
    "\n",
    "For your introduction, use ## Introduction as the section header. \n",
    "\n",
    "For your conclusion, use ## Conclusion as the section header.\n",
    "\n",
    "Here are the sections to reflect on for writing: {formatted_str_sections}\"\"\""
   ]
  },
  {
   "cell_type": "code",
   "execution_count": null,
   "id": "1afb3c0f",
   "metadata": {},
   "outputs": [],
   "source": [
    "def write_introduction(state: ResearchGraphState):\n",
    "    # Full set of sections\n",
    "    sections = state[\"sections\"]\n",
    "    topic = state[\"topic\"]\n",
    "\n",
    "    # Concat all sections together\n",
    "    formatted_str_sections = \"\\n\\n\".join([f\"{section}\" for section in sections])\n",
    "    \n",
    "    # Summarize the sections into a final report\n",
    "    \n",
    "    instructions = intro_conclusion_instructions.format(topic=topic, formatted_str_sections=formatted_str_sections)    \n",
    "    intro = llm.invoke([instructions]+[HumanMessage(content=f\"Write the report introduction\")]) \n",
    "    return {\"introduction\": intro.content}"
   ]
  },
  {
   "cell_type": "code",
   "execution_count": null,
   "id": "d34f6219",
   "metadata": {},
   "outputs": [],
   "source": [
    "def write_conclusion(state: ResearchGraphState):\n",
    "    # Full set of sections\n",
    "    sections = state[\"sections\"]\n",
    "    topic = state[\"topic\"]\n",
    "\n",
    "    # Concat all sections together\n",
    "    formatted_str_sections = \"\\n\\n\".join([f\"{section}\" for section in sections])\n",
    "    \n",
    "    # Summarize the sections into a final report\n",
    "    \n",
    "    instructions = intro_conclusion_instructions.format(topic=topic, formatted_str_sections=formatted_str_sections)    \n",
    "    conclusion = llm.invoke([instructions]+[HumanMessage(content=f\"Write the report conclusion\")]) \n",
    "    return {\"conclusion\": conclusion.content}"
   ]
  },
  {
   "cell_type": "code",
   "execution_count": null,
   "id": "73aa6306",
   "metadata": {},
   "outputs": [],
   "source": [
    "def finalize_report(state: ResearchGraphState):\n",
    "    \"\"\" The is the \"reduce\" step where we gather all the sections, combine them, and reflect on them to write the intro/conclusion \"\"\"\n",
    "    # Save full final report\n",
    "    content = state[\"content\"]\n",
    "    if content.startswith(\"## Insights\"):\n",
    "        content = content.strip(\"## Insights\")\n",
    "    if \"## Sources\" in content:\n",
    "        try:\n",
    "            content, sources = content.split(\"\\n## Sources\\n\")\n",
    "        except:\n",
    "            sources = None\n",
    "    else:\n",
    "        sources = None\n",
    "\n",
    "    final_report = state[\"introduction\"] + \"\\n\\n---\\n\\n\" + content + \"\\n\\n---\\n\\n\" + state[\"conclusion\"]\n",
    "    if sources is not None:\n",
    "        final_report += \"\\n\\n## Sources\\n\" + sources\n",
    "    return {\"final_report\": final_report}"
   ]
  },
  {
   "cell_type": "code",
   "execution_count": null,
   "id": "36abd58c",
   "metadata": {},
   "outputs": [
    {
     "data": {
      "text/plain": [
       "<langgraph.graph.state.StateGraph at 0x1bce8409250>"
      ]
     },
     "execution_count": 113,
     "metadata": {},
     "output_type": "execute_result"
    }
   ],
   "source": [
    "# Add nodes and edges \n",
    "builder = StateGraph(ResearchGraphState)\n",
    "builder.add_node(\"create_analysts\", create_analyst)\n",
    "builder.add_node(\"human_feedback\", human_feedback)\n",
    "builder.add_node(\"conduct_interview\", interview_builder.compile())\n",
    "builder.add_node(\"write_report\",write_report)\n",
    "builder.add_node(\"write_introduction\",write_introduction)\n",
    "builder.add_node(\"write_conclusion\",write_conclusion)\n",
    "builder.add_node(\"finalize_report\",finalize_report)\n",
    "\n",
    "# Logic\n",
    "builder.add_edge(START, \"create_analysts\")\n",
    "builder.add_edge(\"create_analysts\", \"human_feedback\")\n",
    "builder.add_conditional_edges(\"human_feedback\", initiate_all_interviews, [\"create_analysts\", \"conduct_interview\"])\n",
    "builder.add_edge(\"conduct_interview\", \"write_report\")\n",
    "builder.add_edge(\"conduct_interview\", \"write_introduction\")\n",
    "builder.add_edge(\"conduct_interview\", \"write_conclusion\")\n",
    "builder.add_edge([\"write_conclusion\", \"write_report\", \"write_introduction\"], \"finalize_report\")\n",
    "builder.add_edge(\"finalize_report\", END)\n"
   ]
  },
  {
   "cell_type": "code",
   "execution_count": null,
   "id": "2ebea3c1",
   "metadata": {},
   "outputs": [],
   "source": [
    "memory = MemorySaver()"
   ]
  },
  {
   "cell_type": "code",
   "execution_count": null,
   "id": "90315e5d",
   "metadata": {},
   "outputs": [],
   "source": [
    "graph = builder.compile(interrupt_before=['human_feedback'], checkpointer=memory)"
   ]
  },
  {
   "cell_type": "code",
   "execution_count": null,
   "id": "cad7b4ae",
   "metadata": {},
   "outputs": [
    {
     "data": {
      "image/png": "[encoded data removed]",
      "text/plain": [
       "<IPython.core.display.Image object>"
      ]
     },
     "metadata": {},
     "output_type": "display_data"
    }
   ],
   "source": [
    "display(Image(graph.get_graph(xray=1).draw_mermaid_png()))"
   ]
  },
  {
   "cell_type": "code",
   "execution_count": null,
   "id": "d850f788",
   "metadata": {},
   "outputs": [],
   "source": [
    "max_analysts = 3"
   ]
  },
  {
   "cell_type": "code",
   "execution_count": null,
   "id": "f06b47d7",
   "metadata": {},
   "outputs": [],
   "source": [
    "topic = \"How can generative help us to play the cricket?\""
   ]
  },
  {
   "cell_type": "code",
   "execution_count": null,
   "id": "9da9bb02",
   "metadata": {},
   "outputs": [],
   "source": [
    "topic = \"How can generative AI accelerate drug discovery?\""
   ]
  },
  {
   "cell_type": "code",
   "execution_count": null,
   "id": "32206ca8",
   "metadata": {},
   "outputs": [],
   "source": [
    "thread = {\"configurable\": {\"thread_id\": \"1\"}}"
   ]
  },
  {
   "cell_type": "code",
   "execution_count": null,
   "id": "73c24312",
   "metadata": {},
   "outputs": [
    {
     "name": "stdout",
     "output_type": "stream",
     "text": [
      "Name: Dr. Emily Chen\n",
      "Affiliation: Global Pharma Innovations\n",
      "Role: Pharmaceutical Research Scientist\n",
      "Description: Dr. Chen focuses on the integration of generative AI in the early stages of drug discovery. She is particularly interested in how AI can identify novel compounds and predict their interactions with biological targets, thereby reducing the time and cost associated with traditional drug discovery methods. Her concerns include ensuring the accuracy and reliability of AI predictions and the ethical implications of AI-driven research.\n",
      "--------------------------------------------------\n",
      "Name: Dr. Raj Patel\n",
      "Affiliation: Innovative Clinical Solutions\n",
      "Role: Clinical Trials Specialist\n",
      "Description: Dr. Patel is dedicated to exploring the future uses of generative AI in clinical trials. He examines how AI can optimize trial design, patient recruitment, and data analysis, potentially leading to more efficient and effective trials. His focus is on overcoming regulatory challenges and ensuring that AI-driven methodologies meet the rigorous standards required for clinical validation.\n",
      "--------------------------------------------------\n",
      "Name: Dr. Sarah Thompson\n",
      "Affiliation: Center for AI Ethics\n",
      "Role: AI Ethics and Policy Advisor\n",
      "Description: Dr. Thompson's work centers on the ethical and policy implications of using generative AI in drug discovery and clinical trials. She is concerned with issues of data privacy, consent, and the potential biases in AI algorithms. Her goal is to develop frameworks that ensure AI technologies are used responsibly and equitably in the pharmaceutical industry.\n",
      "--------------------------------------------------\n"
     ]
    },
    {
     "name": "stderr",
     "output_type": "stream",
     "text": [
      "HTTP Request: POST https://api.openai.com/v1/chat/completions \"HTTP/1.1 200 OK\"\n"
     ]
    },
    {
     "name": "stdout",
     "output_type": "stream",
     "text": [
      "Name: Dr. Sarah Patel\n",
      "Affiliation: University of Melbourne\n",
      "Role: AI and Sports Technology Researcher\n",
      "Description: Dr. Patel focuses on the integration of AI technologies in sports, particularly how generative AI can enhance player performance and strategy in cricket. She is interested in how AI can simulate various game scenarios to help players improve their decision-making skills and adapt to different playing conditions.\n",
      "--------------------------------------------------\n",
      "Name: Michael Thompson\n",
      "Affiliation: International Cricket Council (ICC)\n",
      "Role: Cricket Coach and Analyst\n",
      "Description: Michael is a seasoned cricket coach who explores the practical applications of generative AI in coaching. He is particularly concerned with how AI can be used to analyze player techniques and provide personalized feedback to improve skills. His motive is to leverage AI to make training more efficient and tailored to individual player needs.\n",
      "--------------------------------------------------\n",
      "Name: Dr. Emily Chen\n",
      "Affiliation: MIT Media Lab\n",
      "Role: Data Scientist and AI Ethics Specialist\n",
      "Description: Dr. Chen examines the ethical implications of using generative AI in sports, focusing on cricket. She is concerned with issues such as data privacy, the potential for AI to create unfair advantages, and the impact of AI on the integrity of the sport. Her work aims to ensure that AI applications in cricket are used responsibly and ethically.\n",
      "--------------------------------------------------\n"
     ]
    }
   ],
   "source": [
    "# Run the graph until the first interruption\n",
    "for event in graph.stream({\"topic\":topic,\"max_analysts\":max_analysts}, thread, stream_mode=\"values\"):\n",
    "    analysts = event.get('analysts', '')\n",
    "    if analysts:\n",
    "        for analyst in analysts:\n",
    "            print(f\"Name: {analyst.name}\")\n",
    "            print(f\"Affiliation: {analyst.affiliation}\")\n",
    "            print(f\"Role: {analyst.role}\")\n",
    "            print(f\"Description: {analyst.description}\")\n",
    "            print(\"-\" * 50) "
   ]
  },
  {
   "cell_type": "code",
   "execution_count": null,
   "id": "921e1aec",
   "metadata": {},
   "outputs": [
    {
     "data": {
      "text/plain": [
       "{'configurable': {'thread_id': '1',\n",
       "  'checkpoint_ns': '',\n",
       "  'checkpoint_id': '1f0a7596-ddd0-6165-800d-858b068fe47e'}}"
      ]
     },
     "execution_count": 130,
     "metadata": {},
     "output_type": "execute_result"
    }
   ],
   "source": [
    "graph.update_state(thread, {\"human_analyst_feedback\":\"along with the genetive ai in future tell me the future of indian team\"}, as_node=\"human_feedback\")"
   ]
  },
  {
   "cell_type": "code",
   "execution_count": null,
   "id": "3654ff37",
   "metadata": {},
   "outputs": [
    {
     "name": "stdout",
     "output_type": "stream",
     "text": [
      "Name: Dr. Sarah Patel\n",
      "Affiliation: University of Melbourne\n",
      "Role: AI and Sports Technology Researcher\n",
      "Description: Dr. Patel focuses on the integration of AI technologies in sports, particularly how generative AI can enhance player performance and strategy in cricket. She is interested in how AI can simulate various game scenarios to help players improve their decision-making skills and adapt to different playing conditions.\n",
      "--------------------------------------------------\n",
      "Name: Michael Thompson\n",
      "Affiliation: International Cricket Council (ICC)\n",
      "Role: Cricket Coach and Analyst\n",
      "Description: Michael is a seasoned cricket coach who explores the practical applications of generative AI in coaching. He is particularly concerned with how AI can be used to analyze player techniques and provide personalized feedback to improve skills. His motive is to leverage AI to make training more efficient and tailored to individual player needs.\n",
      "--------------------------------------------------\n",
      "Name: Dr. Emily Chen\n",
      "Affiliation: MIT Media Lab\n",
      "Role: Data Scientist and AI Ethics Specialist\n",
      "Description: Dr. Chen examines the ethical implications of using generative AI in sports, focusing on cricket. She is concerned with issues such as data privacy, the potential for AI to create unfair advantages, and the impact of AI on the integrity of the sport. Her work aims to ensure that AI applications in cricket are used responsibly and ethically.\n",
      "--------------------------------------------------\n"
     ]
    },
    {
     "name": "stderr",
     "output_type": "stream",
     "text": [
      "HTTP Request: POST https://api.openai.com/v1/chat/completions \"HTTP/1.1 200 OK\"\n"
     ]
    },
    {
     "name": "stdout",
     "output_type": "stream",
     "text": [
      "Name: Dr. Anjali Mehta\n",
      "Affiliation: Indian Institute of Technology, Delhi\n",
      "Role: AI and Sports Integration Specialist\n",
      "Description: Dr. Mehta focuses on the integration of generative AI technologies in sports, particularly cricket. Her research explores how AI can enhance player performance, strategy development, and fan engagement. She is particularly interested in how AI can predict game outcomes and assist in training regimens.\n",
      "--------------------------------------------------\n",
      "Name: Rajesh Kumar\n",
      "Affiliation: ESPNcricinfo\n",
      "Role: Cricket Analyst and Historian\n",
      "Description: Rajesh Kumar is a seasoned cricket analyst with a deep understanding of the game's history and evolution. He examines how generative AI can be used to simulate historical matches, analyze player statistics, and provide insights into the future performance of teams, including the Indian cricket team.\n",
      "--------------------------------------------------\n",
      "Name: Priya Singh\n",
      "Affiliation: Future of Sports Institute\n",
      "Role: Sports Futurist\n",
      "Description: Priya Singh is a futurist who studies the long-term impacts of technology on sports. She is interested in how generative AI will shape the future of cricket, including changes in team dynamics, fan interaction, and the global popularity of the sport. Her work includes forecasting the future trajectory of the Indian cricket team in the context of technological advancements.\n",
      "--------------------------------------------------\n"
     ]
    }
   ],
   "source": [
    "# Run the graph until the first interruption\n",
    "for event in graph.stream({\"topic\":topic,\"max_analysts\":max_analysts}, thread, stream_mode=\"values\"):\n",
    "    analysts = event.get('analysts', '')\n",
    "    if analysts:\n",
    "        for analyst in analysts:\n",
    "            print(f\"Name: {analyst.name}\")\n",
    "            print(f\"Affiliation: {analyst.affiliation}\")\n",
    "            print(f\"Role: {analyst.role}\")\n",
    "            print(f\"Description: {analyst.description}\")\n",
    "            print(\"-\" * 50) "
   ]
  },
  {
   "cell_type": "code",
   "execution_count": null,
   "id": "c508607b",
   "metadata": {},
   "outputs": [
    {
     "data": {
      "text/plain": [
       "{'configurable': {'thread_id': '1',\n",
       "  'checkpoint_ns': '',\n",
       "  'checkpoint_id': '1f0a7598-3b35-645c-8011-3556dc39e702'}}"
      ]
     },
     "execution_count": 132,
     "metadata": {},
     "output_type": "execute_result"
    }
   ],
   "source": [
    "graph.update_state(thread, {\"human_analyst_feedback\":\"\"}, as_node=\"human_feedback\")"
   ]
  },
  {
   "cell_type": "code",
   "execution_count": null,
   "id": "ca0754a9",
   "metadata": {},
   "outputs": [
    {
     "data": {
      "text/plain": [
       "('conduct_interview', 'conduct_interview', 'conduct_interview')"
      ]
     },
     "execution_count": 133,
     "metadata": {},
     "output_type": "execute_result"
    }
   ],
   "source": [
    "graph.get_state(thread).next"
   ]
  },
  {
   "cell_type": "code",
   "execution_count": null,
   "id": "1ed121a3",
   "metadata": {},
   "outputs": [
    {
     "name": "stderr",
     "output_type": "stream",
     "text": [
      "HTTP Request: POST https://api.openai.com/v1/chat/completions \"HTTP/1.1 200 OK\"\n",
      "HTTP Request: POST https://api.openai.com/v1/chat/completions \"HTTP/1.1 200 OK\"\n",
      "HTTP Request: POST https://api.openai.com/v1/chat/completions \"HTTP/1.1 200 OK\"\n",
      "HTTP Request: POST https://api.openai.com/v1/chat/completions \"HTTP/1.1 200 OK\"\n",
      "HTTP Request: POST https://api.openai.com/v1/chat/completions \"HTTP/1.1 200 OK\"\n"
     ]
    },
    {
     "name": "stdout",
     "output_type": "stream",
     "text": [
      "*******************************\n",
      "search_query='examples of generative AI enhancing player performance in cricket'\n"
     ]
    },
    {
     "name": "stderr",
     "output_type": "stream",
     "text": [
      "HTTP Request: POST https://api.openai.com/v1/chat/completions \"HTTP/1.1 200 OK\"\n",
      "HTTP Request: POST https://api.openai.com/v1/chat/completions \"HTTP/1.1 200 OK\"\n"
     ]
    },
    {
     "name": "stdout",
     "output_type": "stream",
     "text": [
      "*******************************\n",
      "search_query='impact of generative AI on team dynamics in cricket'\n"
     ]
    },
    {
     "name": "stderr",
     "output_type": "stream",
     "text": [
      "HTTP Request: POST https://api.openai.com/v1/chat/completions \"HTTP/1.1 200 OK\"\n",
      "HTTP Request: POST https://api.openai.com/v1/chat/completions \"HTTP/1.1 200 OK\"\n"
     ]
    },
    {
     "name": "stdout",
     "output_type": "stream",
     "text": [
      "*******************************\n",
      "search_query='generative AI simulate historical cricket matches accuracy'\n"
     ]
    },
    {
     "name": "stderr",
     "output_type": "stream",
     "text": [
      "HTTP Request: POST https://api.openai.com/v1/chat/completions \"HTTP/1.1 200 OK\"\n",
      "HTTP Request: POST https://api.openai.com/v1/chat/completions \"HTTP/1.1 200 OK\"\n",
      "HTTP Request: POST https://api.openai.com/v1/chat/completions \"HTTP/1.1 200 OK\"\n",
      "HTTP Request: POST https://api.openai.com/v1/chat/completions \"HTTP/1.1 200 OK\"\n"
     ]
    },
    {
     "name": "stdout",
     "output_type": "stream",
     "text": [
      "*******************************\n",
      "search_query='generative AI analyzing player statistics predicting future performance Indian cricket team case studies'\n"
     ]
    },
    {
     "name": "stderr",
     "output_type": "stream",
     "text": [
      "HTTP Request: POST https://api.openai.com/v1/chat/completions \"HTTP/1.1 200 OK\"\n",
      "HTTP Request: POST https://api.openai.com/v1/chat/completions \"HTTP/1.1 200 OK\"\n",
      "HTTP Request: POST https://api.openai.com/v1/chat/completions \"HTTP/1.1 200 OK\"\n",
      "HTTP Request: POST https://api.openai.com/v1/chat/completions \"HTTP/1.1 200 OK\"\n"
     ]
    },
    {
     "name": "stdout",
     "output_type": "stream",
     "text": [
      "*******************************\n",
      "search_query='generative AI strategy development cricket teams examples case studies'\n"
     ]
    },
    {
     "name": "stderr",
     "output_type": "stream",
     "text": [
      "HTTP Request: POST https://api.openai.com/v1/chat/completions \"HTTP/1.1 200 OK\"\n",
      "HTTP Request: POST https://api.openai.com/v1/chat/completions \"HTTP/1.1 200 OK\"\n",
      "HTTP Request: POST https://api.openai.com/v1/chat/completions \"HTTP/1.1 200 OK\"\n",
      "HTTP Request: POST https://api.openai.com/v1/chat/completions \"HTTP/1.1 200 OK\"\n",
      "HTTP Request: POST https://api.openai.com/v1/chat/completions \"HTTP/1.1 200 OK\"\n"
     ]
    },
    {
     "name": "stdout",
     "output_type": "stream",
     "text": [
      "*******************************\n",
      "search_query='how generative AI enhances fan interaction in cricket'\n"
     ]
    },
    {
     "name": "stderr",
     "output_type": "stream",
     "text": [
      "HTTP Request: POST https://api.openai.com/v1/chat/completions \"HTTP/1.1 200 OK\"\n",
      "HTTP Request: POST https://api.openai.com/v1/chat/completions \"HTTP/1.1 200 OK\"\n",
      "HTTP Request: POST https://api.openai.com/v1/chat/completions \"HTTP/1.1 200 OK\"\n"
     ]
    },
    {
     "name": "stdout",
     "output_type": "stream",
     "text": [
      "--Node--\n",
      "conduct_interview\n",
      "--Node--\n",
      "conduct_interview\n"
     ]
    },
    {
     "name": "stderr",
     "output_type": "stream",
     "text": [
      "HTTP Request: POST https://api.openai.com/v1/chat/completions \"HTTP/1.1 200 OK\"\n",
      "HTTP Request: POST https://api.openai.com/v1/chat/completions \"HTTP/1.1 200 OK\"\n"
     ]
    },
    {
     "name": "stdout",
     "output_type": "stream",
     "text": [
      "--Node--\n",
      "conduct_interview\n"
     ]
    },
    {
     "name": "stderr",
     "output_type": "stream",
     "text": [
      "HTTP Request: POST https://api.openai.com/v1/chat/completions \"HTTP/1.1 200 OK\"\n"
     ]
    },
    {
     "name": "stdout",
     "output_type": "stream",
     "text": [
      "--Node--\n",
      "write_conclusion\n"
     ]
    },
    {
     "name": "stderr",
     "output_type": "stream",
     "text": [
      "HTTP Request: POST https://api.openai.com/v1/chat/completions \"HTTP/1.1 200 OK\"\n"
     ]
    },
    {
     "name": "stdout",
     "output_type": "stream",
     "text": [
      "--Node--\n",
      "write_introduction\n"
     ]
    },
    {
     "name": "stderr",
     "output_type": "stream",
     "text": [
      "HTTP Request: POST https://api.openai.com/v1/chat/completions \"HTTP/1.1 200 OK\"\n"
     ]
    },
    {
     "name": "stdout",
     "output_type": "stream",
     "text": [
      "--Node--\n",
      "write_report\n",
      "--Node--\n",
      "finalize_report\n"
     ]
    }
   ],
   "source": [
    "# Continue\n",
    "for event in graph.stream(None, thread, stream_mode=\"updates\"):\n",
    "    print(\"--Node--\")\n",
    "    node_name = next(iter(event.keys()))\n",
    "    print(node_name)"
   ]
  },
  {
   "cell_type": "code",
   "execution_count": null,
   "id": "2a7aafda",
   "metadata": {},
   "outputs": [],
   "source": [
    "from IPython.display import Markdown"
   ]
  },
  {
   "cell_type": "code",
   "execution_count": null,
   "id": "69b99d00",
   "metadata": {},
   "outputs": [],
   "source": [
    "final_state = graph.get_state(thread)\n"
   ]
  },
  {
   "cell_type": "code",
   "execution_count": null,
   "id": "b7d7c654",
   "metadata": {},
   "outputs": [],
   "source": [
    "report = final_state.values.get('final_report')"
   ]
  },
  {
   "cell_type": "code",
   "execution_count": null,
   "id": "bb9af0b1",
   "metadata": {},
   "outputs": [
    {
     "data": {
      "text/markdown": [
       "# Generative AI: Transforming Cricket for the Future\n",
       "\n",
       "## Introduction\n",
       "\n",
       "The integration of generative AI into cricket is revolutionizing the sport, offering unprecedented opportunities to enhance player performance, strategy development, and fan engagement. This report explores the multifaceted applications of AI in cricket, from simulating historical matches and predicting future outcomes to optimizing team management and training. AI-driven tools are reshaping strategic decision-making and providing real-time insights, enriching the fan experience. As AI continues to evolve, its impact on cricket is expected to grow, offering exciting possibilities for players, coaches, and fans alike, while expanding the sport's global reach.\n",
       "\n",
       "---\n",
       "\n",
       "\n",
       "\n",
       "The integration of generative AI into various fields, including drug discovery, clinical trials, and cricket, is transforming traditional practices by enhancing efficiency, precision, and engagement. In drug discovery, generative AI significantly reduces the time and cost associated with developing new drugs. By leveraging advanced algorithms, AI identifies novel compounds and predicts their interactions with biological targets, as demonstrated by Insilico Medicine's accelerated development of a drug for idiopathic pulmonary fibrosis [1]. Generative models like VAEs and GANs are pivotal in proposing novel molecules and optimizing their properties, as evidenced by NVIDIA's collaboration with Recursion Pharmaceuticals, which screened over 2.8 quadrillion small molecule-target pairs in a week [1][2]. However, the accuracy of AI predictions depends on the quality of training datasets, necessitating rigorous validation and ethical considerations to ensure responsible use [3].\n",
       "\n",
       "In clinical trials, generative AI optimizes trial design, enhances patient recruitment, and improves data analysis, potentially accelerating the delivery of life-saving treatments. AI can automate documentation and streamline regulatory submissions, reducing costs and speeding up the trial process [3]. However, challenges such as data quality, regulatory compliance, and ethical considerations must be addressed through collaborative and transparent approaches [1][2][4]. Interdisciplinary collaboration is crucial to navigate these challenges and promote the adoption of AI in clinical research [5][6].\n",
       "\n",
       "The ethical implications of generative AI in drug discovery and clinical trials are significant. The potential for AI to produce misleading information and exacerbate algorithmic bias raises concerns about patient safety and equity [1][3]. Addressing these issues requires strict standards for data security, transparency, and oversight mechanisms to align AI adoption with ethical standards and societal values [1][2].\n",
       "\n",
       "In cricket, AI is revolutionizing the sport by enhancing player performance, strategy development, and fan engagement. AI-driven simulations allow players to practice against virtual opponents, refining their techniques and preparing for various match scenarios [1][3]. Tools like Hawk-Eye and SportVU provide comprehensive performance data, enabling coaches to tailor training programs and optimize player performance [2]. Predictive analytics tools, such as CricViz, aid in strategic decision-making by analyzing past performance data to predict match outcomes [4]. AI also enhances fan engagement by providing real-time insights and interactive experiences, enriching the viewing experience and fostering a stronger connection between fans and the sport [5].\n",
       "\n",
       "Generative AI's role in cricket extends to simulating historical matches and predicting future performances, offering strategic advantages and enriching the fan experience [1][2]. AI-driven models using deep learning techniques have shown superior accuracy in predicting match outcomes, incorporating environmental data to enhance predictive capabilities [2]. AI tools also simulate fantasy leagues and generate what-if scenarios, aiding strategic planning and engaging fans [1][3]. The predictive power of AI in forecasting player performance and suitability for specific match conditions is particularly valuable for team management [4].\n",
       "\n",
       "Globally, AI is increasing cricket's popularity by making the sport more accessible and engaging. AI-driven virtual reality experiences and personalized content delivery are transforming the traditional viewing experience, expanding cricket's global reach [8][9]. As AI continues to evolve, its impact on cricket is expected to grow, offering exciting possibilities for players, coaches, and fans alike.\n",
       "\n",
       "\n",
       "---\n",
       "\n",
       "## Conclusion\n",
       "\n",
       "The integration of generative AI into cricket is revolutionizing the sport by enhancing player performance, strategic decision-making, and fan engagement. AI-driven simulations and predictive analytics are providing players and coaches with unprecedented insights, allowing for more effective training and strategic planning. Tools like Hawk-Eye and CricViz are transforming how matches are analyzed and strategies are developed. Moreover, AI is enriching the fan experience through real-time insights and interactive content, making cricket more engaging and accessible. As AI technologies continue to evolve, their impact on cricket is expected to grow, offering exciting possibilities for players, coaches, and fans alike.\n",
       "\n",
       "## Sources\n",
       "[1] https://www.forbes.com/sites/bernardmarr/2024/06/19/how-generative-ai-is-accelerating-drug-discovery/  \n",
       "[2] https://www.delveinsight.com/blog/generative-ai-drug-discovery-market-impact  \n",
       "[3] https://pmc.ncbi.nlm.nih.gov/articles/PMC11444559/  \n",
       "[4] https://dcri.org/news/embracing-generative-ai-clinical-research-and-beyond-opportunities-challenges-and-solutions  \n",
       "[5] https://www.nature.com/articles/s41746-025-01440-5  \n",
       "[6] https://www.weforum.org/stories/2024/12/genai-could-transform-clinical-research-trials/  \n",
       "[7] https://pubmed.ncbi.nlm.nih.gov/39689842/  \n",
       "[8] https://med.stanford.edu/news/all-news/2024/03/ai-drug-development.html  \n",
       "[9] https://en.wikipedia.org/wiki/Algorithmic_bias  \n",
       "[10] https://www.linkedin.com/pulse/transforming-sports-generative-ai-new-era-performance-dr-jagrrit-4onmf  \n",
       "[11] https://medium.com/@rakrag21/revolutionizing-cricket-the-impact-of-artificial-intelligence-on-the-sport-65fb797c043a  \n",
       "[12] https://digitaldefynd.com/IQ/ai-use-in-cricket/  \n",
       "[13] https://www.researchgate.net/publication/367479261_Artificial_Intelligence_and_Data_Analytics_in_Cricket  \n",
       "[14] https://magnifi.ai/insights/ai-changing-how-cricket-is-played-and-watched  \n",
       "[15] https://webosmotic.com/blog/ai-in-cricket/  \n",
       "[16] https://www.irjet.net/archives/V12/i3/IRJET-V12I3179.pdf  \n",
       "[17] https://sportsmintmedia.com/cricket-australia-live-app-ushers-in-new-era-of-fan-engagement-with-ai-powered-insights/  \n",
       "[18] https://news.microsoft.com/source/asia/features/from-grassroots-to-elite-how-cricket-australia-is-scoring-better-digital-experiences-with-ai-and-cloud-technology/  \n",
       "[19] https://tiaki.ai/wp-content/uploads/2025/02/Insights-6B-20250224-Connecting-with-the-.pdf"
      ],
      "text/plain": [
       "<IPython.core.display.Markdown object>"
      ]
     },
     "execution_count": 138,
     "metadata": {},
     "output_type": "execute_result"
    }
   ],
   "source": [
    "Markdown(report)"
   ]
  },
  {
   "cell_type": "code",
   "execution_count": null,
   "id": "16cd9441",
   "metadata": {},
   "outputs": [],
   "source": []
  },
  {
   "cell_type": "code",
   "execution_count": null,
   "id": "842b6517",
   "metadata": {},
   "outputs": [],
   "source": []
  }
 ],
 "metadata": {
  "kernelspec": {
   "display_name": "automated-research-report-generation (3.13.5)",
   "language": "python",
   "name": "python3"
  },
  "language_info": {
   "codemirror_mode": {
    "name": "ipython",
    "version": 3
   },
   "file_extension": ".py",
   "mimetype": "text/x-python",
   "name": "python",
   "nbconvert_exporter": "python",
   "pygments_lexer": "ipython3",
   "version": "3.13.5"
  }
 },
 "nbformat": 4,
 "nbformat_minor": 5
}
