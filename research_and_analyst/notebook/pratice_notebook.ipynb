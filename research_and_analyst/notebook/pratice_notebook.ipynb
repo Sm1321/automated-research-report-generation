{
 "cells": [
  {
   "cell_type": "code",
   "execution_count": 1,
   "id": "85542825",
   "metadata": {},
   "outputs": [
    {
     "name": "stdout",
     "output_type": "stream",
     "text": [
      "all ok\n"
     ]
    }
   ],
   "source": [
    "print(\"all ok\")"
   ]
  },
  {
   "cell_type": "code",
   "execution_count": 2,
   "id": "35241c7f",
   "metadata": {},
   "outputs": [
    {
     "name": "stdout",
     "output_type": "stream",
     "text": [
      "Project root added to path: c:\\MY_Folder\\LLMOPS_GIT_Projects\\LIVE_LLMOPS\\automated-research-report-generation\n"
     ]
    }
   ],
   "source": [
    "import sys, os\n",
    "\n",
    "# Get project root — one level up from 'research_and_analyst'\n",
    "project_root = os.path.abspath(os.path.join(os.getcwd(), \"../..\"))\n",
    "sys.path.append(project_root)\n",
    "\n",
    "print(\"Project root added to path:\", project_root)"
   ]
  },
  {
   "cell_type": "code",
   "execution_count": 3,
   "id": "f316028f",
   "metadata": {},
   "outputs": [
    {
     "name": "stderr",
     "output_type": "stream",
     "text": [
      "{\"timestamp\": \"2025-10-20T14:17:04.699201Z\", \"level\": \"info\", \"event\": \"OPENAI_API_KEY loaded from environment\"}\n",
      "{\"timestamp\": \"2025-10-20T14:17:04.700329Z\", \"level\": \"info\", \"event\": \"GOOGLE_API_KEY loaded from environment\"}\n",
      "{\"timestamp\": \"2025-10-20T14:17:04.701287Z\", \"level\": \"info\", \"event\": \"GROQ_API_KEY loaded from environment\"}\n",
      "{\"timestamp\": \"2025-10-20T14:17:04.702008Z\", \"level\": \"warning\", \"event\": \"ASTRA_DB_API_ENDPOINT is missing from environment\"}\n",
      "{\"timestamp\": \"2025-10-20T14:17:04.702895Z\", \"level\": \"warning\", \"event\": \"ASTRA_DB_APPLICATION_TOKEN is missing from environment\"}\n",
      "{\"timestamp\": \"2025-10-20T14:17:04.703880Z\", \"level\": \"info\", \"event\": \"ASTRA_DB_KEYSPACE loaded from environment\"}\n",
      "{\"config_keys\": [\"astra_db\", \"embedding_model\", \"retriever\", \"llm\"], \"timestamp\": \"2025-10-20T14:17:04.716542Z\", \"level\": \"info\", \"event\": \"YAML config loaded\"}\n"
     ]
    }
   ],
   "source": [
    "from dotenv import load_dotenv\n",
    "from research_and_analyst.utils.model_loader import ModelLoader\n",
    "model_loader = ModelLoader()"
   ]
  },
  {
   "cell_type": "code",
   "execution_count": 4,
   "id": "c952caed",
   "metadata": {},
   "outputs": [
    {
     "name": "stderr",
     "output_type": "stream",
     "text": [
      "{\"provider\": \"openai\", \"model\": \"gpt-4o\", \"timestamp\": \"2025-10-20T14:17:04.724600Z\", \"level\": \"info\", \"event\": \"Loading LLM\"}\n"
     ]
    }
   ],
   "source": [
    "llm = model_loader.load_llm()"
   ]
  },
  {
   "cell_type": "code",
   "execution_count": 5,
   "id": "bef780ef",
   "metadata": {},
   "outputs": [
    {
     "name": "stderr",
     "output_type": "stream",
     "text": [
      "HTTP Request: POST https://api.openai.com/v1/chat/completions \"HTTP/1.1 200 OK\"\n"
     ]
    },
    {
     "data": {
      "text/plain": [
       "'Hello! How can I assist you today?'"
      ]
     },
     "execution_count": 5,
     "metadata": {},
     "output_type": "execute_result"
    }
   ],
   "source": [
    "llm.invoke(\"hi\").content"
   ]
  },
  {
   "cell_type": "code",
   "execution_count": 6,
   "id": "9edfa3d2",
   "metadata": {},
   "outputs": [],
   "source": [
    "from typing import List\n",
    "from typing_extensions import TypedDict\n",
    "from pydantic import BaseModel, Field\n",
    "from langgraph.graph import StateGraph, START, END\n",
    "from langchain_core.messages import AIMessage,HumanMessage , SystemMessage\n",
    "from langgraph.checkpoint.memory import MemorySaver\n",
    "from IPython.display import Image, display"
   ]
  },
  {
   "cell_type": "markdown",
   "id": "40cad238",
   "metadata": {},
   "source": [
    "### health\n",
    "\n",
    "- `Analyst-1`\n",
    "\n",
    "\n",
    "Analyst(\n",
    "        name=\"Dr. Neha Patel\",\n",
    "        role=\"Medical Data Scientist\",\n",
    "        affiliation=\"Stanford Medicine\",\n",
    "        description=\"Focuses on predictive models for patient outcomes.\"\n",
    "        ),\n",
    "\n",
    "- `Analyst-2`\n",
    "\n",
    "\n",
    "Analyst(\n",
    "    name=\"Dr. Arun Verma\",\n",
    "    role=\"Ethics Researcher\",\n",
    "    affiliation=\"WHO\",\n",
    "    description=\"Explores ethical implications of AI in diagnostics.\"\n",
    "),\n",
    "\n",
    "- `Analyst-3`\n",
    "\n",
    "\n",
    "Analyst(\n",
    "    name=\"Ms. Priya Sharma\",\n",
    "    role=\"Policy Analyst\",\n",
    "    affiliation=\"Ministry of Health\",\n",
    "    description=\"Investigates AI policy and compliance frameworks.\"\n",
    ")"
   ]
  },
  {
   "cell_type": "code",
   "execution_count": 7,
   "id": "0399b94a",
   "metadata": {},
   "outputs": [],
   "source": [
    "#Pydantic Base Model\n",
    "class Analyst(BaseModel):\n",
    "    name: str = Field(description=\"Name of the analyst.\")\n",
    "    role: str = Field(description=\"Role of the analyst in the context of the topic.\")\n",
    "    affiliation: str = Field(description=\"Primary affiliation of the analyst.\")\n",
    "    description: str = Field(description=\"Description of the analyst focus, concerns, and motives.\")\n",
    "    \n",
    "    @property\n",
    "    def persona(self) -> str:\n",
    "        return f\"Name: {self.name}\\nRole: {self.role}\\nAffiliation: {self.affiliation}\\nDescription: {self.description}\\n\"\n",
    "    "
   ]
  },
  {
   "cell_type": "code",
   "execution_count": 8,
   "id": "05ec9899",
   "metadata": {},
   "outputs": [
    {
     "name": "stdout",
     "output_type": "stream",
     "text": [
      "Name: Sunny\n",
      "Role: Genai Eng\n",
      "Affiliation: AI Research LAB\n",
      "Description: I am genai Devloper as well as mentor\n",
      "\n"
     ]
    }
   ],
   "source": [
    "# Example of analyst\n",
    "anslyst1 = Analyst(\n",
    "    name = \"Sunny\",\n",
    "    role = \"Genai Eng\",\n",
    "    affiliation = \"AI Research LAB\",\n",
    "    description = \"I am genai Devloper as well as mentor\"\n",
    "\n",
    ")\n",
    "\n",
    "print(anslyst1.persona)\n"
   ]
  },
  {
   "cell_type": "code",
   "execution_count": 9,
   "id": "ea8d01e3",
   "metadata": {},
   "outputs": [],
   "source": [
    "#Pydantic Base Model\n",
    "class Perspectives(BaseModel):\n",
    "       analysts: List[Analyst] = Field(\n",
    "              description  =  \"Comprehensive list of analysts with their roles and affiliations.\"\n",
    "              )"
   ]
  },
  {
   "cell_type": "code",
   "execution_count": 10,
   "id": "605719e0",
   "metadata": {},
   "outputs": [],
   "source": [
    "#Define the Class \n",
    "class GenerateAnalystsState(TypedDict):\n",
    "    topic: str #research topic\n",
    "    max_analysts: int # number of analyst\n",
    "    human_analyst_feedback: str # Human feedback\n",
    "    analysts: List[Analyst] # Analyst asking questions\n",
    "    "
   ]
  },
  {
   "cell_type": "code",
   "execution_count": 11,
   "id": "ae5b87ff",
   "metadata": {},
   "outputs": [
    {
     "data": {
      "text/plain": [
       "{'topic': 'finance',\n",
       " 'max_analysts': 5,\n",
       " 'human_analyst_feedback': 'give the real info'}"
      ]
     },
     "execution_count": 11,
     "metadata": {},
     "output_type": "execute_result"
    }
   ],
   "source": [
    "## This is TypedDict class , return the result as string\n",
    "GenerateAnalystsState(\n",
    "    topic = \"finance\",\n",
    "    max_analysts = 5,\n",
    "    human_analyst_feedback = \"give the real info\"\n",
    ")"
   ]
  },
  {
   "cell_type": "code",
   "execution_count": 12,
   "id": "888be963",
   "metadata": {},
   "outputs": [],
   "source": [
    "# analyst_instructions is the prompt used in the GenerateAnalystsState class\n",
    "analyst_instructions = \"\"\"You are tasked with creating a set of AI analyst personas. Follow these instructions carefully:\n",
    "\n",
    "1. First, review the research topic:\n",
    "{topic}\n",
    "        \n",
    "2. Examine any editorial feedback that has been optionally provided to guide creation of the analysts: \n",
    "        \n",
    "{human_analyst_feedback}\n",
    "    \n",
    "3. Determine the most interesting themes based upon documents and / or feedback above.\n",
    "                    \n",
    "4. Pick the top {max_analysts} themes.\n",
    "\n",
    "5. Assign one analyst to each theme.\"\"\""
   ]
  },
  {
   "cell_type": "code",
   "execution_count": 13,
   "id": "df680929",
   "metadata": {},
   "outputs": [
    {
     "name": "stdout",
     "output_type": "stream",
     "text": [
      "['You are tasked with creating a set of AI analyst personas. Follow these instructions carefully:\\n\\n1. First, review the research topic:\\neducation\\n\\n2. Examine any editorial feedback that has been optionally provided to guide creation of the analysts: \\n\\nplease exaplain only on AI\\n\\n3. Determine the most interesting themes based upon documents and / or feedback above.\\n\\n4. Pick the top 4 themes.\\n\\n5. Assign one analyst to each theme.', 'Generate the set of analysts.']\n"
     ]
    }
   ],
   "source": [
    "print([analyst_instructions.format(\n",
    "        topic = \"education\",\n",
    "        max_analysts = 4,\n",
    "        human_analyst_feedback = \"please exaplain only on AI\"\n",
    "        )] + [\"Generate the set of analysts.\"])"
   ]
  },
  {
   "cell_type": "code",
   "execution_count": 14,
   "id": "9f71cdbb",
   "metadata": {},
   "outputs": [],
   "source": [
    "#function\n",
    "def create_analyst(state:GenerateAnalystsState):\n",
    "    \"\"\"\n",
    "    it is creating my analyst\n",
    "    \"\"\"\n",
    "    #from the GenerateAnalystsState we are doing these\n",
    "    topic = state[\"topic\"]\n",
    "    max_analysts = state[\"max_analysts\"]\n",
    "    human_analyst_feedback = state.get(\"human_analyst_feedback\",\"\")\n",
    "\n",
    "    #Structured LLM Output\n",
    "    structured_llm = llm.with_structured_output(Perspectives)\n",
    "    # analyst_instructions is the prompt\n",
    "    system_messages = analyst_instructions.format(\n",
    "        topic = topic,\n",
    "        max_analysts = max_analysts,\n",
    "        human_analyst_feedback = human_analyst_feedback\n",
    "        \n",
    "        )\n",
    "    \n",
    "    analysts = structured_llm.invoke(\n",
    "        [SystemMessage(content = system_messages)] + \n",
    "        [HumanMessage(content = \"Generate the set of analysts.\")]\n",
    "        )\n",
    "    \n",
    "    # Write the list of analysis to state\n",
    "    return {\"analysts\": analysts.analysts}\n",
    "    "
   ]
  },
  {
   "cell_type": "code",
   "execution_count": 15,
   "id": "4e6106b4",
   "metadata": {},
   "outputs": [
    {
     "name": "stderr",
     "output_type": "stream",
     "text": [
      "HTTP Request: POST https://api.openai.com/v1/chat/completions \"HTTP/1.1 200 OK\"\n"
     ]
    },
    {
     "data": {
      "text/plain": [
       "{'analysts': [Analyst(name='Dr. Emily Chen', role='Public Health Analyst', affiliation='World Health Organization', description='Dr. Emily Chen focuses on global health trends and the impact of public health policies on populations. Her primary concern is understanding how different health interventions can improve health outcomes across diverse communities. She is motivated by the need to provide accurate, data-driven insights to inform policy decisions and improve public health infrastructure.'),\n",
       "  Analyst(name='Dr. Raj Patel', role='Healthcare Technology Analyst', affiliation='Harvard Medical School', description='Dr. Raj Patel specializes in the intersection of healthcare and technology, particularly how digital health innovations can transform patient care. His focus is on evaluating the effectiveness and accessibility of new health technologies, such as telemedicine and wearable health devices. He is driven by the potential of technology to enhance healthcare delivery and patient engagement.')]}"
      ]
     },
     "execution_count": 15,
     "metadata": {},
     "output_type": "execute_result"
    }
   ],
   "source": [
    "create_analyst(\n",
    "    {'topic': 'health',\n",
    "    'max_analysts': 2,\n",
    "    'human_analyst_feedback': 'give the real info'}\n",
    "    )"
   ]
  },
  {
   "cell_type": "code",
   "execution_count": 16,
   "id": "9a1b8055",
   "metadata": {},
   "outputs": [],
   "source": [
    "def human_feedback(state):\n",
    "    \"\"\" No-op node that should be interrupted on\n",
    "    \"\"\"\n",
    "    pass"
   ]
  },
  {
   "cell_type": "code",
   "execution_count": 45,
   "id": "5f32c07f",
   "metadata": {},
   "outputs": [],
   "source": [
    "def should_continue(state):\n",
    "    feedback = (state.get(\"human_analyst_feedback\") or \"\").strip().lower()\n",
    "    if feedback and feedback not in [\"\", \"none\", \"skip\", \"done\", \"continue\"]:\n",
    "        return \"create_analyst\"\n",
    "    return END\n"
   ]
  },
  {
   "cell_type": "code",
   "execution_count": 46,
   "id": "31446dde",
   "metadata": {},
   "outputs": [],
   "source": [
    "builder = StateGraph(GenerateAnalystsState)\n",
    "## Add Nodes\n",
    "builder.add_node(\"create_analyst\",create_analyst)\n",
    "builder.add_node(\"human_feedback\", human_feedback)\n",
    "## Add the edges\n",
    "builder.add_edge(START,\"create_analyst\")\n",
    "builder.add_edge(\"create_analyst\", \"human_feedback\")\n",
    "builder.add_conditional_edges(\"human_feedback\",\n",
    "                        should_continue,[\"create_analyst\",END])\n",
    "## Memory Saver\n",
    "memory = MemorySaver()\n",
    "\n",
    "## Build the graph\n",
    "graph = builder.compile(interrupt_before= [\"human_feedback\"],checkpointer= memory)"
   ]
  },
  {
   "cell_type": "code",
   "execution_count": 47,
   "id": "99a0af07",
   "metadata": {},
   "outputs": [
    {
     "data": {
      "image/png": "[encoded data removed]",
      "text/plain": [
       "<IPython.core.display.Image object>"
      ]
     },
     "metadata": {},
     "output_type": "display_data"
    }
   ],
   "source": [
    "display(Image(graph.get_graph(xray=1).draw_mermaid_png()))"
   ]
  },
  {
   "cell_type": "code",
   "execution_count": 48,
   "id": "08dabcaf",
   "metadata": {},
   "outputs": [
    {
     "name": "stderr",
     "output_type": "stream",
     "text": [
      "HTTP Request: POST https://api.openai.com/v1/chat/completions \"HTTP/1.1 200 OK\"\n"
     ]
    },
    {
     "name": "stdout",
     "output_type": "stream",
     "text": [
      "Name: Dr. Emily Chen\n",
      "Affiliation: Tech Innovators Inc.\n",
      "Role: Technology Adoption Specialist\n",
      "Description: Dr. Chen focuses on the strategic benefits of adopting new technologies like Langgraph. She is particularly interested in how Langgraph can streamline processes and improve efficiency in organizations. Her analysis often includes case studies and data-driven insights to demonstrate the tangible benefits of technology adoption.\n",
      "--------------------------------------------------\n",
      "Name: Raj Patel\n",
      "Affiliation: AI Research Lab\n",
      "Role: AI Framework Analyst\n",
      "Description: Raj Patel specializes in evaluating AI frameworks and their impact on development workflows. He is keen on understanding how Langgraph as an agent framework can enhance AI model deployment and integration. Raj's work often involves comparing Langgraph with other frameworks to highlight its unique advantages.\n",
      "--------------------------------------------------\n",
      "Name: Sophia Martinez\n",
      "Affiliation: Martinez Consulting Group\n",
      "Role: Business Process Consultant\n",
      "Description: Sophia Martinez examines the impact of adopting Langgraph on business processes. She is interested in how Langgraph can optimize operations, reduce costs, and improve decision-making. Her focus is on providing actionable insights for businesses looking to leverage Langgraph for competitive advantage.\n",
      "--------------------------------------------------\n",
      "Name: Dr. Liam O'Connor\n",
      "Affiliation: SecureTech Solutions\n",
      "Role: Data Security Expert\n",
      "Description: Dr. O'Connor is concerned with the security implications of adopting new frameworks like Langgraph. He analyzes how Langgraph addresses data security challenges and ensures compliance with industry standards. His insights are crucial for organizations prioritizing data protection while adopting new technologies.\n",
      "--------------------------------------------------\n"
     ]
    }
   ],
   "source": [
    "### Topic\n",
    "topic = \"the benifts of adopting Langgraph as an agent Framework\"\n",
    "\n",
    "### Max analyst\n",
    "max_analysts = 4 \n",
    "\n",
    "###Thread id \n",
    "thread =  {\"configurable\":{\"thread_id\":1}}\n",
    "\n",
    "### loop it\n",
    "for event in graph.stream({\"topic\":topic,\n",
    "              \"max_analysts\":max_analysts},\n",
    "             thread,\n",
    "             stream_mode= \"values\"):\n",
    "    analysts = event.get('analysts', '')\n",
    "    \n",
    "    if analysts:\n",
    "        for analyst in analysts:\n",
    "            print(f\"Name: {analyst.name}\")\n",
    "            print(f\"Affiliation: {analyst.affiliation}\")\n",
    "            print(f\"Role: {analyst.role}\")\n",
    "            print(f\"Description: {analyst.description}\")\n",
    "            print(\"-\" * 50) "
   ]
  },
  {
   "cell_type": "code",
   "execution_count": 49,
   "id": "4b764583",
   "metadata": {},
   "outputs": [
    {
     "data": {
      "text/plain": [
       "StateSnapshot(values={'topic': 'the benifts of adopting Langgraph as an agent Framework', 'max_analysts': 4, 'analysts': [Analyst(name='Dr. Emily Chen', role='Technology Adoption Specialist', affiliation='Tech Innovators Inc.', description='Dr. Chen focuses on the strategic benefits of adopting new technologies like Langgraph. She is particularly interested in how Langgraph can streamline processes and improve efficiency in organizations. Her analysis often includes case studies and data-driven insights to demonstrate the tangible benefits of technology adoption.'), Analyst(name='Raj Patel', role='AI Framework Analyst', affiliation='AI Research Lab', description=\"Raj Patel specializes in evaluating AI frameworks and their impact on development workflows. He is keen on understanding how Langgraph as an agent framework can enhance AI model deployment and integration. Raj's work often involves comparing Langgraph with other frameworks to highlight its unique advantages.\"), Analyst(name='Sophia Martinez', role='Business Process Consultant', affiliation='Martinez Consulting Group', description='Sophia Martinez examines the impact of adopting Langgraph on business processes. She is interested in how Langgraph can optimize operations, reduce costs, and improve decision-making. Her focus is on providing actionable insights for businesses looking to leverage Langgraph for competitive advantage.'), Analyst(name=\"Dr. Liam O'Connor\", role='Data Security Expert', affiliation='SecureTech Solutions', description=\"Dr. O'Connor is concerned with the security implications of adopting new frameworks like Langgraph. He analyzes how Langgraph addresses data security challenges and ensures compliance with industry standards. His insights are crucial for organizations prioritizing data protection while adopting new technologies.\")]}, next=('human_feedback',), config={'configurable': {'thread_id': '1', 'checkpoint_ns': '', 'checkpoint_id': '1f0adc05-5872-6a1a-8001-2134c51ce514'}}, metadata={'source': 'loop', 'step': 1, 'parents': {}}, created_at='2025-10-20T14:23:22.873277+00:00', parent_config={'configurable': {'thread_id': '1', 'checkpoint_ns': '', 'checkpoint_id': '1f0adc05-076b-6a5f-8000-33908ed06d97'}}, tasks=(PregelTask(id='1389e640-56c0-044f-e130-3692d71f7196', name='human_feedback', path=('__pregel_pull', 'human_feedback'), error=None, interrupts=(), state=None, result=None),), interrupts=())"
      ]
     },
     "execution_count": 49,
     "metadata": {},
     "output_type": "execute_result"
    }
   ],
   "source": [
    "state = graph.get_state(thread)\n",
    "state"
   ]
  },
  {
   "cell_type": "code",
   "execution_count": 50,
   "id": "be9aee1f",
   "metadata": {},
   "outputs": [
    {
     "data": {
      "text/plain": [
       "('human_feedback',)"
      ]
     },
     "execution_count": 50,
     "metadata": {},
     "output_type": "execute_result"
    }
   ],
   "source": [
    "state.next #cursor is at human feedback step"
   ]
  },
  {
   "cell_type": "code",
   "execution_count": 51,
   "id": "3b23f58f",
   "metadata": {},
   "outputs": [
    {
     "data": {
      "text/plain": [
       "{'topic': 'the benifts of adopting Langgraph as an agent Framework',\n",
       " 'max_analysts': 4,\n",
       " 'analysts': [Analyst(name='Dr. Emily Chen', role='Technology Adoption Specialist', affiliation='Tech Innovators Inc.', description='Dr. Chen focuses on the strategic benefits of adopting new technologies like Langgraph. She is particularly interested in how Langgraph can streamline processes and improve efficiency in organizations. Her analysis often includes case studies and data-driven insights to demonstrate the tangible benefits of technology adoption.'),\n",
       "  Analyst(name='Raj Patel', role='AI Framework Analyst', affiliation='AI Research Lab', description=\"Raj Patel specializes in evaluating AI frameworks and their impact on development workflows. He is keen on understanding how Langgraph as an agent framework can enhance AI model deployment and integration. Raj's work often involves comparing Langgraph with other frameworks to highlight its unique advantages.\"),\n",
       "  Analyst(name='Sophia Martinez', role='Business Process Consultant', affiliation='Martinez Consulting Group', description='Sophia Martinez examines the impact of adopting Langgraph on business processes. She is interested in how Langgraph can optimize operations, reduce costs, and improve decision-making. Her focus is on providing actionable insights for businesses looking to leverage Langgraph for competitive advantage.'),\n",
       "  Analyst(name=\"Dr. Liam O'Connor\", role='Data Security Expert', affiliation='SecureTech Solutions', description=\"Dr. O'Connor is concerned with the security implications of adopting new frameworks like Langgraph. He analyzes how Langgraph addresses data security challenges and ensures compliance with industry standards. His insights are crucial for organizations prioritizing data protection while adopting new technologies.\")]}"
      ]
     },
     "execution_count": 51,
     "metadata": {},
     "output_type": "execute_result"
    }
   ],
   "source": [
    "state.values"
   ]
  },
  {
   "cell_type": "code",
   "execution_count": 52,
   "id": "6c47fe16",
   "metadata": {},
   "outputs": [
    {
     "data": {
      "text/plain": [
       "dict_items([('1', defaultdict(<class 'dict'>, {'': {'1f0adc05-0768-6ab9-bfff-0ee6250d3473': (('msgpack', b'\\x86\\xa1v\\x04\\xa2ts\\xd9 2025-10-20T14:23:14.375744+00:00\\xa2id\\xd9$1f0adc05-0768-6ab9-bfff-0ee6250d3473\\xb0channel_versions\\x81\\xa9__start__\\xd9300000000000000000000000000000001.0.4235131643242567\\xadversions_seen\\x81\\xa9__input__\\x80\\xb0updated_channels\\x91\\xa9__start__'), ('msgpack', b'\\x83\\xa6source\\xa5input\\xa4step\\xff\\xa7parents\\x80'), None), '1f0adc05-076b-6a5f-8000-33908ed06d97': (('msgpack', b'\\x86\\xa1v\\x04\\xa2ts\\xd9 2025-10-20T14:23:14.376955+00:00\\xa2id\\xd9$1f0adc05-076b-6a5f-8000-33908ed06d97\\xb0channel_versions\\x84\\xa9__start__\\xd9400000000000000000000000000000002.0.43571911835957866\\xa5topic\\xd9400000000000000000000000000000002.0.43571911835957866\\xacmax_analysts\\xd9400000000000000000000000000000002.0.43571911835957866\\xb8branch:to:create_analyst\\xd9400000000000000000000000000000002.0.43571911835957866\\xadversions_seen\\x82\\xa9__input__\\x80\\xa9__start__\\x81\\xa9__start__\\xd9300000000000000000000000000000001.0.4235131643242567\\xb0updated_channels\\x93\\xb8branch:to:create_analyst\\xacmax_analysts\\xa5topic'), ('msgpack', b'\\x83\\xa6source\\xa4loop\\xa4step\\x00\\xa7parents\\x80'), '1f0adc05-0768-6ab9-bfff-0ee6250d3473'), '1f0adc05-5872-6a1a-8001-2134c51ce514': (('msgpack', b'\\x86\\xa1v\\x04\\xa2ts\\xd9 2025-10-20T14:23:22.873277+00:00\\xa2id\\xd9$1f0adc05-5872-6a1a-8001-2134c51ce514\\xb0channel_versions\\x86\\xa9__start__\\xd9400000000000000000000000000000002.0.43571911835957866\\xa5topic\\xd9400000000000000000000000000000002.0.43571911835957866\\xacmax_analysts\\xd9400000000000000000000000000000002.0.43571911835957866\\xb8branch:to:create_analyst\\xd9300000000000000000000000000000003.0.6521806458072106\\xa8analysts\\xd9300000000000000000000000000000003.0.6521806458072106\\xb8branch:to:human_feedback\\xd9300000000000000000000000000000003.0.6521806458072106\\xadversions_seen\\x83\\xa9__input__\\x80\\xa9__start__\\x81\\xa9__start__\\xd9300000000000000000000000000000001.0.4235131643242567\\xaecreate_analyst\\x81\\xb8branch:to:create_analyst\\xd9400000000000000000000000000000002.0.43571911835957866\\xb0updated_channels\\x92\\xa8analysts\\xb8branch:to:human_feedback'), ('msgpack', b'\\x83\\xa6source\\xa4loop\\xa4step\\x01\\xa7parents\\x80'), '1f0adc05-076b-6a5f-8000-33908ed06d97')}}))])"
      ]
     },
     "execution_count": 52,
     "metadata": {},
     "output_type": "execute_result"
    }
   ],
   "source": [
    "# memory.storage\n",
    "memory.storage.items()"
   ]
  },
  {
   "cell_type": "code",
   "execution_count": 53,
   "id": "81473bda",
   "metadata": {},
   "outputs": [
    {
     "data": {
      "text/plain": [
       "{'configurable': {'thread_id': '1',\n",
       "  'checkpoint_ns': '',\n",
       "  'checkpoint_id': '1f0adc05-5872-6a1a-8001-2134c51ce514'}}"
      ]
     },
     "execution_count": 53,
     "metadata": {},
     "output_type": "execute_result"
    }
   ],
   "source": [
    "state.config"
   ]
  },
  {
   "cell_type": "code",
   "execution_count": 54,
   "id": "69199c54",
   "metadata": {},
   "outputs": [
    {
     "data": {
      "text/plain": [
       "{'configurable': {'thread_id': '1',\n",
       "  'checkpoint_ns': '',\n",
       "  'checkpoint_id': '1f0adc05-5949-60f6-8002-b1fa30f58362'}}"
      ]
     },
     "execution_count": 54,
     "metadata": {},
     "output_type": "execute_result"
    }
   ],
   "source": [
    "graph.update_state(thread,\n",
    "                   {\"human_analyst_feedback\":\"add something from the startup perspective and focus on the latest enterprise application\"},\n",
    "                   as_node=\"human_feedback\"\n",
    "                   )"
   ]
  },
  {
   "cell_type": "code",
   "execution_count": null,
   "id": "f0216700",
   "metadata": {},
   "outputs": [],
   "source": []
  },
  {
   "cell_type": "code",
   "execution_count": null,
   "id": "484cb754",
   "metadata": {},
   "outputs": [],
   "source": []
  }
 ],
 "metadata": {
  "kernelspec": {
   "display_name": "automated-research-report-generation (3.13.5)",
   "language": "python",
   "name": "python3"
  },
  "language_info": {
   "codemirror_mode": {
    "name": "ipython",
    "version": 3
   },
   "file_extension": ".py",
   "mimetype": "text/x-python",
   "name": "python",
   "nbconvert_exporter": "python",
   "pygments_lexer": "ipython3",
   "version": "3.13.5"
  }
 },
 "nbformat": 4,
 "nbformat_minor": 5
}
